{
 "cells": [
  {
   "cell_type": "code",
   "execution_count": 1,
   "id": "82e77913",
   "metadata": {
    "_cell_guid": "b1076dfc-b9ad-4769-8c92-a6c4dae69d19",
    "_uuid": "8f2839f25d086af736a60e9eeb907d3b93b6e0e5",
    "execution": {
     "iopub.execute_input": "2024-07-02T03:39:17.059159Z",
     "iopub.status.busy": "2024-07-02T03:39:17.058415Z",
     "iopub.status.idle": "2024-07-02T03:39:30.802614Z",
     "shell.execute_reply": "2024-07-02T03:39:30.801504Z"
    },
    "papermill": {
     "duration": 13.755819,
     "end_time": "2024-07-02T03:39:30.804848",
     "exception": false,
     "start_time": "2024-07-02T03:39:17.049029",
     "status": "completed"
    },
    "tags": []
   },
   "outputs": [
    {
     "name": "stderr",
     "output_type": "stream",
     "text": [
      "2024-07-02 03:39:19.666700: E external/local_xla/xla/stream_executor/cuda/cuda_dnn.cc:9261] Unable to register cuDNN factory: Attempting to register factory for plugin cuDNN when one has already been registered\n",
      "2024-07-02 03:39:19.666804: E external/local_xla/xla/stream_executor/cuda/cuda_fft.cc:607] Unable to register cuFFT factory: Attempting to register factory for plugin cuFFT when one has already been registered\n",
      "2024-07-02 03:39:19.799783: E external/local_xla/xla/stream_executor/cuda/cuda_blas.cc:1515] Unable to register cuBLAS factory: Attempting to register factory for plugin cuBLAS when one has already been registered\n"
     ]
    },
    {
     "name": "stdout",
     "output_type": "stream",
     "text": [
      "2.15.0\n",
      "0.4.26\n"
     ]
    }
   ],
   "source": [
    "import os\n",
    "import gc\n",
    "import numpy as np\n",
    "import pandas as pd\n",
    "import polars as pl\n",
    "import matplotlib.pyplot as plt\n",
    "\n",
    "import tensorflow as tf\n",
    "import jax\n",
    "import keras\n",
    "\n",
    "from sklearn import metrics\n",
    "from tqdm.notebook import tqdm\n",
    "\n",
    "print(tf.__version__)\n",
    "print(jax.__version__)"
   ]
  },
  {
   "cell_type": "code",
   "execution_count": 2,
   "id": "58bac87a",
   "metadata": {
    "execution": {
     "iopub.execute_input": "2024-07-02T03:39:30.822483Z",
     "iopub.status.busy": "2024-07-02T03:39:30.821916Z",
     "iopub.status.idle": "2024-07-02T03:39:30.827146Z",
     "shell.execute_reply": "2024-07-02T03:39:30.826212Z"
    },
    "papermill": {
     "duration": 0.016078,
     "end_time": "2024-07-02T03:39:30.829241",
     "exception": false,
     "start_time": "2024-07-02T03:39:30.813163",
     "status": "completed"
    },
    "tags": []
   },
   "outputs": [
    {
     "name": "stdout",
     "output_type": "stream",
     "text": [
      "Interactive? False\n"
     ]
    }
   ],
   "source": [
    "def is_interactive():\n",
    "    return 'runtime' in get_ipython().config.IPKernelApp.connection_file\n",
    "\n",
    "print('Interactive?', is_interactive())"
   ]
  },
  {
   "cell_type": "code",
   "execution_count": 3,
   "id": "62418bc7",
   "metadata": {
    "execution": {
     "iopub.execute_input": "2024-07-02T03:39:30.846320Z",
     "iopub.status.busy": "2024-07-02T03:39:30.846015Z",
     "iopub.status.idle": "2024-07-02T03:39:30.850508Z",
     "shell.execute_reply": "2024-07-02T03:39:30.849666Z"
    },
    "papermill": {
     "duration": 0.015276,
     "end_time": "2024-07-02T03:39:30.852388",
     "exception": false,
     "start_time": "2024-07-02T03:39:30.837112",
     "status": "completed"
    },
    "tags": []
   },
   "outputs": [],
   "source": [
    "SEED = 42\n",
    "keras.utils.set_random_seed(SEED)\n",
    "tf.random.set_seed(SEED)\n",
    "tf.config.experimental.enable_op_determinism()"
   ]
  },
  {
   "cell_type": "code",
   "execution_count": 4,
   "id": "6f0cef88",
   "metadata": {
    "execution": {
     "iopub.execute_input": "2024-07-02T03:39:30.869234Z",
     "iopub.status.busy": "2024-07-02T03:39:30.868977Z",
     "iopub.status.idle": "2024-07-02T03:39:30.872727Z",
     "shell.execute_reply": "2024-07-02T03:39:30.871975Z"
    },
    "papermill": {
     "duration": 0.014443,
     "end_time": "2024-07-02T03:39:30.874659",
     "exception": false,
     "start_time": "2024-07-02T03:39:30.860216",
     "status": "completed"
    },
    "tags": []
   },
   "outputs": [],
   "source": [
    "DATA = \"/kaggle/input/leap-atmospheric-physics-ai-climsim\"\n",
    "DATA_TFREC = \"/kaggle/input/leap-train-tfrecords\""
   ]
  },
  {
   "cell_type": "code",
   "execution_count": 5,
   "id": "1c7825d4",
   "metadata": {
    "execution": {
     "iopub.execute_input": "2024-07-02T03:39:30.893180Z",
     "iopub.status.busy": "2024-07-02T03:39:30.892899Z",
     "iopub.status.idle": "2024-07-02T03:39:31.006594Z",
     "shell.execute_reply": "2024-07-02T03:39:31.005351Z"
    },
    "papermill": {
     "duration": 0.12604,
     "end_time": "2024-07-02T03:39:31.008564",
     "exception": false,
     "start_time": "2024-07-02T03:39:30.882524",
     "status": "completed"
    },
    "tags": []
   },
   "outputs": [
    {
     "name": "stdout",
     "output_type": "stream",
     "text": [
      "368\n"
     ]
    }
   ],
   "source": [
    "sample = pl.read_csv(os.path.join(DATA, \"sample_submission.csv\"), n_rows=1)\n",
    "TARGETS = sample.select(pl.exclude('sample_id')).columns\n",
    "print(len(TARGETS))"
   ]
  },
  {
   "cell_type": "code",
   "execution_count": 6,
   "id": "c43ea8a0",
   "metadata": {
    "execution": {
     "iopub.execute_input": "2024-07-02T03:39:31.025946Z",
     "iopub.status.busy": "2024-07-02T03:39:31.025630Z",
     "iopub.status.idle": "2024-07-02T03:39:31.030807Z",
     "shell.execute_reply": "2024-07-02T03:39:31.029980Z"
    },
    "papermill": {
     "duration": 0.015979,
     "end_time": "2024-07-02T03:39:31.032801",
     "exception": false,
     "start_time": "2024-07-02T03:39:31.016822",
     "status": "completed"
    },
    "tags": []
   },
   "outputs": [],
   "source": [
    "def _parse_function(example_proto):\n",
    "    feature_description = {\n",
    "        'x': tf.io.FixedLenFeature([556], tf.float32),\n",
    "        'targets': tf.io.FixedLenFeature([368], tf.float32)\n",
    "    }\n",
    "    return tf.io.parse_single_example(example_proto, feature_description)['x'], tf.io.parse_single_example(example_proto, feature_description)['targets']"
   ]
  },
  {
   "cell_type": "code",
   "execution_count": 7,
   "id": "42094853",
   "metadata": {
    "execution": {
     "iopub.execute_input": "2024-07-02T03:39:31.050648Z",
     "iopub.status.busy": "2024-07-02T03:39:31.050390Z",
     "iopub.status.idle": "2024-07-02T03:39:31.054873Z",
     "shell.execute_reply": "2024-07-02T03:39:31.054091Z"
    },
    "papermill": {
     "duration": 0.015113,
     "end_time": "2024-07-02T03:39:31.056734",
     "exception": false,
     "start_time": "2024-07-02T03:39:31.041621",
     "status": "completed"
    },
    "tags": []
   },
   "outputs": [],
   "source": [
    "train_files = [os.path.join(DATA_TFREC, f\"train_{i:03d}.tfrec\") for i in range(100)]\n",
    "valid_files = [os.path.join(DATA_TFREC, \"train_100.tfrec\")]"
   ]
  },
  {
   "cell_type": "code",
   "execution_count": 8,
   "id": "78363fcd",
   "metadata": {
    "execution": {
     "iopub.execute_input": "2024-07-02T03:39:31.073643Z",
     "iopub.status.busy": "2024-07-02T03:39:31.073368Z",
     "iopub.status.idle": "2024-07-02T03:39:33.553977Z",
     "shell.execute_reply": "2024-07-02T03:39:33.552985Z"
    },
    "papermill": {
     "duration": 2.491728,
     "end_time": "2024-07-02T03:39:33.556333",
     "exception": false,
     "start_time": "2024-07-02T03:39:31.064605",
     "status": "completed"
    },
    "tags": []
   },
   "outputs": [],
   "source": [
    "BATCH_SIZE = 2048\n",
    "\n",
    "train_options = tf.data.Options()\n",
    "train_options.deterministic = True\n",
    "\n",
    "ds_train = (\n",
    "    tf.data.Dataset.from_tensor_slices(train_files)\n",
    "    .with_options(train_options)\n",
    "    .shuffle(100)\n",
    "    .interleave(lambda file: tf.data.TFRecordDataset(file).map(_parse_function, num_parallel_calls=tf.data.AUTOTUNE),\n",
    "                num_parallel_calls=tf.data.AUTOTUNE, cycle_length=10, block_length=1000, deterministic=True)\n",
    "    .shuffle(4 * BATCH_SIZE)\n",
    "    .batch(BATCH_SIZE)\n",
    "    .prefetch(tf.data.AUTOTUNE)\n",
    ")\n",
    "\n",
    "ds_valid = (\n",
    "    tf.data.TFRecordDataset(valid_files)\n",
    "    .map(_parse_function)\n",
    "    .batch(BATCH_SIZE)\n",
    "    .prefetch(tf.data.AUTOTUNE)\n",
    ")\n"
   ]
  },
  {
   "cell_type": "code",
   "execution_count": 9,
   "id": "91b058c1",
   "metadata": {
    "execution": {
     "iopub.execute_input": "2024-07-02T03:39:33.574036Z",
     "iopub.status.busy": "2024-07-02T03:39:33.573738Z",
     "iopub.status.idle": "2024-07-02T03:40:12.774402Z",
     "shell.execute_reply": "2024-07-02T03:40:12.773597Z"
    },
    "papermill": {
     "duration": 39.211843,
     "end_time": "2024-07-02T03:40:12.776706",
     "exception": false,
     "start_time": "2024-07-02T03:39:33.564863",
     "status": "completed"
    },
    "tags": []
   },
   "outputs": [],
   "source": [
    "norm_x = keras.layers.Normalization()\n",
    "norm_x.adapt(ds_train.map(lambda x, y: x).take(20 if is_interactive() else 1000))"
   ]
  },
  {
   "cell_type": "code",
   "execution_count": 10,
   "id": "2e15cf40",
   "metadata": {
    "execution": {
     "iopub.execute_input": "2024-07-02T03:40:12.795996Z",
     "iopub.status.busy": "2024-07-02T03:40:12.795334Z",
     "iopub.status.idle": "2024-07-02T03:40:13.352262Z",
     "shell.execute_reply": "2024-07-02T03:40:13.351278Z"
    },
    "papermill": {
     "duration": 0.568607,
     "end_time": "2024-07-02T03:40:13.354236",
     "exception": false,
     "start_time": "2024-07-02T03:40:12.785629",
     "status": "completed"
    },
    "tags": []
   },
   "outputs": [
    {
     "data": {
      "image/png": "[encoded data removed]",
      "text/plain": [
       "<Figure size 640x480 with 1 Axes>"
      ]
     },
     "metadata": {},
     "output_type": "display_data"
    }
   ],
   "source": [
    "# Convert tensors to numpy arrays and then squeeze\n",
    "mean_x = norm_x.mean.numpy().squeeze()\n",
    "variance_x = (norm_x.variance.numpy() ** 0.5).squeeze()\n",
    "\n",
    "plt.scatter(mean_x, variance_x, marker=\".\", alpha=0.5)\n",
    "plt.xscale('log')\n",
    "plt.yscale('log')"
   ]
  },
  {
   "cell_type": "code",
   "execution_count": 11,
   "id": "1900ef57",
   "metadata": {
    "execution": {
     "iopub.execute_input": "2024-07-02T03:40:13.372332Z",
     "iopub.status.busy": "2024-07-02T03:40:13.372059Z",
     "iopub.status.idle": "2024-07-02T03:40:51.072116Z",
     "shell.execute_reply": "2024-07-02T03:40:51.071158Z"
    },
    "papermill": {
     "duration": 37.711708,
     "end_time": "2024-07-02T03:40:51.074492",
     "exception": false,
     "start_time": "2024-07-02T03:40:13.362784",
     "status": "completed"
    },
    "tags": []
   },
   "outputs": [],
   "source": [
    "norm_y = keras.layers.Normalization()\n",
    "norm_y.adapt(ds_train.map(lambda x, y: y).take(20 if is_interactive() else 1000))"
   ]
  },
  {
   "cell_type": "code",
   "execution_count": 12,
   "id": "82f36c3b",
   "metadata": {
    "execution": {
     "iopub.execute_input": "2024-07-02T03:40:51.093443Z",
     "iopub.status.busy": "2024-07-02T03:40:51.092799Z",
     "iopub.status.idle": "2024-07-02T03:40:51.508594Z",
     "shell.execute_reply": "2024-07-02T03:40:51.507850Z"
    },
    "papermill": {
     "duration": 0.427633,
     "end_time": "2024-07-02T03:40:51.510949",
     "exception": false,
     "start_time": "2024-07-02T03:40:51.083316",
     "status": "completed"
    },
    "tags": []
   },
   "outputs": [
    {
     "data": {
      "image/png": "[encoded data removed]",
      "text/plain": [
       "<Figure size 640x480 with 1 Axes>"
      ]
     },
     "metadata": {},
     "output_type": "display_data"
    }
   ],
   "source": [
    "mean_y = norm_y.mean.numpy()\n",
    "stdd_y = np.maximum(1e-10, norm_y.variance.numpy() ** 0.5)\n",
    "\n",
    "plt.scatter(mean_y.squeeze(), stdd_y.squeeze(), marker=\".\", alpha=0.5)\n",
    "plt.xscale('log')\n",
    "plt.yscale('log')"
   ]
  },
  {
   "cell_type": "code",
   "execution_count": 13,
   "id": "0f321543",
   "metadata": {
    "execution": {
     "iopub.execute_input": "2024-07-02T03:40:51.529808Z",
     "iopub.status.busy": "2024-07-02T03:40:51.529483Z",
     "iopub.status.idle": "2024-07-02T03:42:01.822835Z",
     "shell.execute_reply": "2024-07-02T03:42:01.821901Z"
    },
    "papermill": {
     "duration": 70.305427,
     "end_time": "2024-07-02T03:42:01.825227",
     "exception": false,
     "start_time": "2024-07-02T03:40:51.519800",
     "status": "completed"
    },
    "tags": []
   },
   "outputs": [],
   "source": [
    "min_y = np.min(np.stack([np.min(yb, 0) for _, yb in ds_train.take(20 if is_interactive() else 1000)], 0), 0, keepdims=True)\n",
    "max_y = np.max(np.stack([np.max(yb, 0) for _, yb in ds_train.take(20 if is_interactive() else 1000)], 0), 0, keepdims=True)"
   ]
  },
  {
   "cell_type": "code",
   "execution_count": 14,
   "id": "0824834c",
   "metadata": {
    "execution": {
     "iopub.execute_input": "2024-07-02T03:42:01.844264Z",
     "iopub.status.busy": "2024-07-02T03:42:01.843920Z",
     "iopub.status.idle": "2024-07-02T03:42:02.533378Z",
     "shell.execute_reply": "2024-07-02T03:42:02.532512Z"
    },
    "papermill": {
     "duration": 0.701263,
     "end_time": "2024-07-02T03:42:02.535554",
     "exception": false,
     "start_time": "2024-07-02T03:42:01.834291",
     "status": "completed"
    },
    "tags": []
   },
   "outputs": [
    {
     "data": {
      "text/plain": [
       "[<matplotlib.lines.Line2D at 0x7e2aa6008670>]"
      ]
     },
     "execution_count": 14,
     "metadata": {},
     "output_type": "execute_result"
    },
    {
     "data": {
      "image/png": "[encoded data removed]",
      "text/plain": [
       "<Figure size 640x480 with 1 Axes>"
      ]
     },
     "metadata": {},
     "output_type": "display_data"
    }
   ],
   "source": [
    "epochs = 10\n",
    "learning_rate = 1e-3\n",
    "\n",
    "epochs_warmup = 2\n",
    "epochs_ending = 2\n",
    "steps_per_epoch = int(np.ceil(len(train_files) * 100_000 / BATCH_SIZE))\n",
    "\n",
    "lr_scheduler = keras.optimizers.schedules.CosineDecay(\n",
    "    1e-4, \n",
    "    (epochs - epochs_warmup - epochs_ending) * steps_per_epoch, \n",
    "    warmup_target=learning_rate,\n",
    "    warmup_steps=steps_per_epoch * epochs_warmup,\n",
    "    alpha=0.1\n",
    ")\n",
    "\n",
    "plt.plot([lr_scheduler(it) for it in range(0, epochs * steps_per_epoch, steps_per_epoch)])"
   ]
  },
  {
   "cell_type": "code",
   "execution_count": 15,
   "id": "33433a50",
   "metadata": {
    "execution": {
     "iopub.execute_input": "2024-07-02T03:42:02.555307Z",
     "iopub.status.busy": "2024-07-02T03:42:02.555015Z",
     "iopub.status.idle": "2024-07-02T03:42:02.619827Z",
     "shell.execute_reply": "2024-07-02T03:42:02.618983Z"
    },
    "papermill": {
     "duration": 0.076788,
     "end_time": "2024-07-02T03:42:02.621770",
     "exception": false,
     "start_time": "2024-07-02T03:42:02.544982",
     "status": "completed"
    },
    "tags": []
   },
   "outputs": [
    {
     "data": {
      "text/html": [
       "<pre style=\"white-space:pre;overflow-x:auto;line-height:normal;font-family:Menlo,'DejaVu Sans Mono',consolas,'Courier New',monospace\"><span style=\"font-weight: bold\">Model: \"sequential\"</span>\n",
       "</pre>\n"
      ],
      "text/plain": [
       "\u001b[1mModel: \"sequential\"\u001b[0m\n"
      ]
     },
     "metadata": {},
     "output_type": "display_data"
    },
    {
     "data": {
      "text/html": [
       "<pre style=\"white-space:pre;overflow-x:auto;line-height:normal;font-family:Menlo,'DejaVu Sans Mono',consolas,'Courier New',monospace\">┏━━━━━━━━━━━━━━━━━━━━━━━━━━━━━━━━━┳━━━━━━━━━━━━━━━━━━━━━━━━┳━━━━━━━━━━━━━━━┓\n",
       "┃<span style=\"font-weight: bold\"> Layer (type)                    </span>┃<span style=\"font-weight: bold\"> Output Shape           </span>┃<span style=\"font-weight: bold\">       Param # </span>┃\n",
       "┡━━━━━━━━━━━━━━━━━━━━━━━━━━━━━━━━━╇━━━━━━━━━━━━━━━━━━━━━━━━╇━━━━━━━━━━━━━━━┩\n",
       "│ normalization_2 (<span style=\"color: #0087ff; text-decoration-color: #0087ff\">Normalization</span>) │ (<span style=\"color: #00d7ff; text-decoration-color: #00d7ff\">None</span>, <span style=\"color: #00af00; text-decoration-color: #00af00\">556</span>)            │             <span style=\"color: #00af00; text-decoration-color: #00af00\">0</span> │\n",
       "├─────────────────────────────────┼────────────────────────┼───────────────┤\n",
       "│ dense (<span style=\"color: #0087ff; text-decoration-color: #0087ff\">Dense</span>)                   │ (<span style=\"color: #00d7ff; text-decoration-color: #00d7ff\">None</span>, <span style=\"color: #00af00; text-decoration-color: #00af00\">1024</span>)           │       <span style=\"color: #00af00; text-decoration-color: #00af00\">570,368</span> │\n",
       "├─────────────────────────────────┼────────────────────────┼───────────────┤\n",
       "│ dense_1 (<span style=\"color: #0087ff; text-decoration-color: #0087ff\">Dense</span>)                 │ (<span style=\"color: #00d7ff; text-decoration-color: #00d7ff\">None</span>, <span style=\"color: #00af00; text-decoration-color: #00af00\">512</span>)            │       <span style=\"color: #00af00; text-decoration-color: #00af00\">524,800</span> │\n",
       "├─────────────────────────────────┼────────────────────────┼───────────────┤\n",
       "│ dense_2 (<span style=\"color: #0087ff; text-decoration-color: #0087ff\">Dense</span>)                 │ (<span style=\"color: #00d7ff; text-decoration-color: #00d7ff\">None</span>, <span style=\"color: #00af00; text-decoration-color: #00af00\">368</span>)            │       <span style=\"color: #00af00; text-decoration-color: #00af00\">188,784</span> │\n",
       "└─────────────────────────────────┴────────────────────────┴───────────────┘\n",
       "</pre>\n"
      ],
      "text/plain": [
       "┏━━━━━━━━━━━━━━━━━━━━━━━━━━━━━━━━━┳━━━━━━━━━━━━━━━━━━━━━━━━┳━━━━━━━━━━━━━━━┓\n",
       "┃\u001b[1m \u001b[0m\u001b[1mLayer (type)                   \u001b[0m\u001b[1m \u001b[0m┃\u001b[1m \u001b[0m\u001b[1mOutput Shape          \u001b[0m\u001b[1m \u001b[0m┃\u001b[1m \u001b[0m\u001b[1m      Param #\u001b[0m\u001b[1m \u001b[0m┃\n",
       "┡━━━━━━━━━━━━━━━━━━━━━━━━━━━━━━━━━╇━━━━━━━━━━━━━━━━━━━━━━━━╇━━━━━━━━━━━━━━━┩\n",
       "│ normalization_2 (\u001b[38;5;33mNormalization\u001b[0m) │ (\u001b[38;5;45mNone\u001b[0m, \u001b[38;5;34m556\u001b[0m)            │             \u001b[38;5;34m0\u001b[0m │\n",
       "├─────────────────────────────────┼────────────────────────┼───────────────┤\n",
       "│ dense (\u001b[38;5;33mDense\u001b[0m)                   │ (\u001b[38;5;45mNone\u001b[0m, \u001b[38;5;34m1024\u001b[0m)           │       \u001b[38;5;34m570,368\u001b[0m │\n",
       "├─────────────────────────────────┼────────────────────────┼───────────────┤\n",
       "│ dense_1 (\u001b[38;5;33mDense\u001b[0m)                 │ (\u001b[38;5;45mNone\u001b[0m, \u001b[38;5;34m512\u001b[0m)            │       \u001b[38;5;34m524,800\u001b[0m │\n",
       "├─────────────────────────────────┼────────────────────────┼───────────────┤\n",
       "│ dense_2 (\u001b[38;5;33mDense\u001b[0m)                 │ (\u001b[38;5;45mNone\u001b[0m, \u001b[38;5;34m368\u001b[0m)            │       \u001b[38;5;34m188,784\u001b[0m │\n",
       "└─────────────────────────────────┴────────────────────────┴───────────────┘\n"
      ]
     },
     "metadata": {},
     "output_type": "display_data"
    },
    {
     "data": {
      "text/html": [
       "<pre style=\"white-space:pre;overflow-x:auto;line-height:normal;font-family:Menlo,'DejaVu Sans Mono',consolas,'Courier New',monospace\"><span style=\"font-weight: bold\"> Total params: </span><span style=\"color: #00af00; text-decoration-color: #00af00\">1,283,952</span> (4.90 MB)\n",
       "</pre>\n"
      ],
      "text/plain": [
       "\u001b[1m Total params: \u001b[0m\u001b[38;5;34m1,283,952\u001b[0m (4.90 MB)\n"
      ]
     },
     "metadata": {},
     "output_type": "display_data"
    },
    {
     "data": {
      "text/html": [
       "<pre style=\"white-space:pre;overflow-x:auto;line-height:normal;font-family:Menlo,'DejaVu Sans Mono',consolas,'Courier New',monospace\"><span style=\"font-weight: bold\"> Trainable params: </span><span style=\"color: #00af00; text-decoration-color: #00af00\">1,283,952</span> (4.90 MB)\n",
       "</pre>\n"
      ],
      "text/plain": [
       "\u001b[1m Trainable params: \u001b[0m\u001b[38;5;34m1,283,952\u001b[0m (4.90 MB)\n"
      ]
     },
     "metadata": {},
     "output_type": "display_data"
    },
    {
     "data": {
      "text/html": [
       "<pre style=\"white-space:pre;overflow-x:auto;line-height:normal;font-family:Menlo,'DejaVu Sans Mono',consolas,'Courier New',monospace\"><span style=\"font-weight: bold\"> Non-trainable params: </span><span style=\"color: #00af00; text-decoration-color: #00af00\">0</span> (0.00 B)\n",
       "</pre>\n"
      ],
      "text/plain": [
       "\u001b[1m Non-trainable params: \u001b[0m\u001b[38;5;34m0\u001b[0m (0.00 B)\n"
      ]
     },
     "metadata": {},
     "output_type": "display_data"
    }
   ],
   "source": [
    "model = keras.Sequential([\n",
    "    keras.layers.Normalization(mean=norm_x.mean, variance=norm_x.variance),\n",
    "    keras.layers.Dense(1024, activation='relu'),\n",
    "    keras.layers.Dense(512, activation='relu'),\n",
    "    keras.layers.Dense(len(TARGETS))\n",
    "])\n",
    "model.compile(loss='mse', optimizer=keras.optimizers.Adam(lr_scheduler))\n",
    "model.build(tuple(ds_train.element_spec[0].shape))\n",
    "model.summary()"
   ]
  },
  {
   "cell_type": "code",
   "execution_count": 16,
   "id": "c50e0880",
   "metadata": {
    "execution": {
     "iopub.execute_input": "2024-07-02T03:42:02.642773Z",
     "iopub.status.busy": "2024-07-02T03:42:02.642513Z",
     "iopub.status.idle": "2024-07-02T03:42:02.693569Z",
     "shell.execute_reply": "2024-07-02T03:42:02.692853Z"
    },
    "papermill": {
     "duration": 0.064093,
     "end_time": "2024-07-02T03:42:02.695729",
     "exception": false,
     "start_time": "2024-07-02T03:42:02.631636",
     "status": "completed"
    },
    "tags": []
   },
   "outputs": [],
   "source": [
    "ds_train_target_normalized = ds_train.map(lambda x, y: (x, (y - mean_y) / stdd_y))\n",
    "ds_valid_target_normalized = ds_valid.map(lambda x, y: (x, (y - mean_y) / stdd_y))"
   ]
  },
  {
   "cell_type": "code",
   "execution_count": 17,
   "id": "bd118870",
   "metadata": {
    "execution": {
     "iopub.execute_input": "2024-07-02T03:42:02.716940Z",
     "iopub.status.busy": "2024-07-02T03:42:02.716634Z",
     "iopub.status.idle": "2024-07-02T04:14:54.036590Z",
     "shell.execute_reply": "2024-07-02T04:14:54.033406Z"
    },
    "papermill": {
     "duration": 1971.335408,
     "end_time": "2024-07-02T04:14:54.041191",
     "exception": false,
     "start_time": "2024-07-02T03:42:02.705783",
     "status": "completed"
    },
    "tags": []
   },
   "outputs": [
    {
     "name": "stdout",
     "output_type": "stream",
     "text": [
      "Epoch 1/10\n"
     ]
    },
    {
     "name": "stderr",
     "output_type": "stream",
     "text": [
      "WARNING: All log messages before absl::InitializeLog() is called are written to STDERR\n",
      "I0000 00:00:1719891725.582236      70 device_compiler.h:186] Compiled cluster using XLA!  This line is logged at most once for the lifetime of the process.\n",
      "W0000 00:00:1719891725.599109      70 graph_launch.cc:671] Fallback to op-by-op mode because memset node breaks graph update\n",
      "W0000 00:00:1719891904.071342      73 graph_launch.cc:671] Fallback to op-by-op mode because memset node breaks graph update\n",
      "/opt/conda/lib/python3.10/contextlib.py:153: UserWarning: Your input ran out of data; interrupting training. Make sure that your dataset or generator can generate at least `steps_per_epoch * epochs` batches. You may need to use the `.repeat()` function when building your dataset.\n",
      "  self.gen.throw(typ, value, traceback)\n",
      "W0000 00:00:1719891904.662155      72 graph_launch.cc:671] Fallback to op-by-op mode because memset node breaks graph update\n"
     ]
    },
    {
     "name": "stdout",
     "output_type": "stream",
     "text": [
      "4883/4883 - 186s - 38ms/step - loss: 0.4488 - val_loss: 0.3680\n",
      "Epoch 2/10\n"
     ]
    },
    {
     "name": "stderr",
     "output_type": "stream",
     "text": [
      "W0000 00:00:1719891908.573992      71 graph_launch.cc:671] Fallback to op-by-op mode because memset node breaks graph update\n"
     ]
    },
    {
     "name": "stdout",
     "output_type": "stream",
     "text": [
      "4883/4883 - 205s - 42ms/step - loss: 0.3881 - val_loss: 0.3517\n",
      "Epoch 3/10\n",
      "4883/4883 - 192s - 39ms/step - loss: 0.3717 - val_loss: 0.3382\n",
      "Epoch 4/10\n",
      "4883/4883 - 199s - 41ms/step - loss: 0.3588 - val_loss: 0.3311\n",
      "Epoch 5/10\n",
      "4883/4883 - 208s - 43ms/step - loss: 0.3478 - val_loss: 0.3197\n",
      "Epoch 6/10\n",
      "4883/4883 - 204s - 42ms/step - loss: 0.3380 - val_loss: 0.3080\n",
      "Epoch 7/10\n",
      "4883/4883 - 196s - 40ms/step - loss: 0.3307 - val_loss: 0.3036\n",
      "Epoch 8/10\n",
      "4883/4883 - 189s - 39ms/step - loss: 0.3262 - val_loss: 0.3013\n",
      "Epoch 9/10\n",
      "4883/4883 - 196s - 40ms/step - loss: 0.3245 - val_loss: 0.3007\n",
      "Epoch 10/10\n",
      "4883/4883 - 196s - 40ms/step - loss: 0.3236 - val_loss: 0.2989\n"
     ]
    }
   ],
   "source": [
    "history = model.fit(\n",
    "    ds_train_target_normalized,\n",
    "    validation_data=ds_valid_target_normalized,\n",
    "    epochs=epochs,\n",
    "    verbose=1 if is_interactive() else 2,\n",
    "    callbacks=[keras.callbacks.ModelCheckpoint(filepath='model.keras')]\n",
    ")"
   ]
  },
  {
   "cell_type": "code",
   "execution_count": 18,
   "id": "ddcf4ff2",
   "metadata": {
    "execution": {
     "iopub.execute_input": "2024-07-02T04:14:54.069397Z",
     "iopub.status.busy": "2024-07-02T04:14:54.069093Z",
     "iopub.status.idle": "2024-07-02T04:14:54.483611Z",
     "shell.execute_reply": "2024-07-02T04:14:54.482665Z"
    },
    "papermill": {
     "duration": 0.432114,
     "end_time": "2024-07-02T04:14:54.485647",
     "exception": false,
     "start_time": "2024-07-02T04:14:54.053533",
     "status": "completed"
    },
    "tags": []
   },
   "outputs": [
    {
     "data": {
      "image/png": "[encoded data removed]",
      "text/plain": [
       "<Figure size 640x480 with 1 Axes>"
      ]
     },
     "metadata": {},
     "output_type": "display_data"
    }
   ],
   "source": [
    "plt.plot(history.history['loss'], color='tab:blue')\n",
    "plt.plot(history.history['val_loss'], color='tab:red')\n",
    "plt.yscale('log')"
   ]
  },
  {
   "cell_type": "code",
   "execution_count": 19,
   "id": "60600f2e",
   "metadata": {
    "execution": {
     "iopub.execute_input": "2024-07-02T04:14:54.511403Z",
     "iopub.status.busy": "2024-07-02T04:14:54.511127Z",
     "iopub.status.idle": "2024-07-02T04:14:59.736405Z",
     "shell.execute_reply": "2024-07-02T04:14:59.735318Z"
    },
    "papermill": {
     "duration": 5.240685,
     "end_time": "2024-07-02T04:14:59.738721",
     "exception": false,
     "start_time": "2024-07-02T04:14:54.498036",
     "status": "completed"
    },
    "tags": []
   },
   "outputs": [
    {
     "name": "stdout",
     "output_type": "stream",
     "text": [
      "     10/Unknown \u001b[1m1s\u001b[0m 21ms/step"
     ]
    },
    {
     "name": "stderr",
     "output_type": "stream",
     "text": [
      "W0000 00:00:1719893697.556115      73 graph_launch.cc:671] Fallback to op-by-op mode because memset node breaks graph update\n"
     ]
    },
    {
     "name": "stdout",
     "output_type": "stream",
     "text": [
      "\u001b[1m45/45\u001b[0m \u001b[32m━━━━━━━━━━━━━━━━━━━━\u001b[0m\u001b[37m\u001b[0m \u001b[1m3s\u001b[0m 33ms/step\n"
     ]
    },
    {
     "name": "stderr",
     "output_type": "stream",
     "text": [
      "W0000 00:00:1719893699.023542      72 graph_launch.cc:671] Fallback to op-by-op mode because memset node breaks graph update\n"
     ]
    }
   ],
   "source": [
    "y_valid = np.concatenate([yb for _, yb in ds_valid])\n",
    "p_valid = model.predict(ds_valid, batch_size=BATCH_SIZE) * stdd_y + mean_y"
   ]
  },
  {
   "cell_type": "code",
   "execution_count": 20,
   "id": "5b4e4b3a",
   "metadata": {
    "execution": {
     "iopub.execute_input": "2024-07-02T04:14:59.769020Z",
     "iopub.status.busy": "2024-07-02T04:14:59.768650Z",
     "iopub.status.idle": "2024-07-02T04:15:00.983214Z",
     "shell.execute_reply": "2024-07-02T04:15:00.982306Z"
    },
    "papermill": {
     "duration": 1.232005,
     "end_time": "2024-07-02T04:15:00.985334",
     "exception": false,
     "start_time": "2024-07-02T04:14:59.753329",
     "status": "completed"
    },
    "tags": []
   },
   "outputs": [
    {
     "data": {
      "text/plain": [
       "[<matplotlib.lines.Line2D at 0x7e2aa5cccd00>]"
      ]
     },
     "execution_count": 20,
     "metadata": {},
     "output_type": "execute_result"
    },
    {
     "data": {
      "image/png": "[encoded data removed]",
      "text/plain": [
       "<Figure size 640x480 with 1 Axes>"
      ]
     },
     "metadata": {},
     "output_type": "display_data"
    }
   ],
   "source": [
    "scores_valid = np.array([metrics.r2_score(y_valid[:, i], p_valid[:, i]) for i in range(len(TARGETS))])\n",
    "plt.plot(scores_valid.clip(-1, 1))"
   ]
  },
  {
   "cell_type": "code",
   "execution_count": 21,
   "id": "f3d2c793",
   "metadata": {
    "execution": {
     "iopub.execute_input": "2024-07-02T04:15:01.016825Z",
     "iopub.status.busy": "2024-07-02T04:15:01.016161Z",
     "iopub.status.idle": "2024-07-02T04:15:01.021167Z",
     "shell.execute_reply": "2024-07-02T04:15:01.020298Z"
    },
    "papermill": {
     "duration": 0.022693,
     "end_time": "2024-07-02T04:15:01.023093",
     "exception": false,
     "start_time": "2024-07-02T04:15:01.000400",
     "status": "completed"
    },
    "tags": []
   },
   "outputs": [
    {
     "name": "stdout",
     "output_type": "stream",
     "text": [
      "Number of under-performing targets: 88\n"
     ]
    }
   ],
   "source": [
    "mask = scores_valid <= 1e-3\n",
    "print(f\"Number of under-performing targets: {sum(mask)}\")"
   ]
  },
  {
   "cell_type": "code",
   "execution_count": 22,
   "id": "8af23c22",
   "metadata": {
    "execution": {
     "iopub.execute_input": "2024-07-02T04:15:01.117416Z",
     "iopub.status.busy": "2024-07-02T04:15:01.116706Z",
     "iopub.status.idle": "2024-07-02T04:15:01.121725Z",
     "shell.execute_reply": "2024-07-02T04:15:01.120804Z"
    },
    "papermill": {
     "duration": 0.084921,
     "end_time": "2024-07-02T04:15:01.123616",
     "exception": false,
     "start_time": "2024-07-02T04:15:01.038695",
     "status": "completed"
    },
    "tags": []
   },
   "outputs": [
    {
     "name": "stdout",
     "output_type": "stream",
     "text": [
      "Clipped score: 0.4312805937527462\n"
     ]
    }
   ],
   "source": [
    "print(f\"Clipped score: {scores_valid.clip(0, 1).mean()}\")"
   ]
  },
  {
   "cell_type": "code",
   "execution_count": 23,
   "id": "38eaec36",
   "metadata": {
    "execution": {
     "iopub.execute_input": "2024-07-02T04:15:01.154897Z",
     "iopub.status.busy": "2024-07-02T04:15:01.154414Z",
     "iopub.status.idle": "2024-07-02T04:15:01.476910Z",
     "shell.execute_reply": "2024-07-02T04:15:01.476026Z"
    },
    "papermill": {
     "duration": 0.340102,
     "end_time": "2024-07-02T04:15:01.478823",
     "exception": false,
     "start_time": "2024-07-02T04:15:01.138721",
     "status": "completed"
    },
    "tags": []
   },
   "outputs": [
    {
     "data": {
      "text/plain": [
       "16677"
      ]
     },
     "execution_count": 23,
     "metadata": {},
     "output_type": "execute_result"
    }
   ],
   "source": [
    "del y_valid, p_valid\n",
    "gc.collect()"
   ]
  },
  {
   "cell_type": "code",
   "execution_count": 24,
   "id": "a490754d",
   "metadata": {
    "execution": {
     "iopub.execute_input": "2024-07-02T04:15:01.511794Z",
     "iopub.status.busy": "2024-07-02T04:15:01.511252Z",
     "iopub.status.idle": "2024-07-02T04:15:05.293397Z",
     "shell.execute_reply": "2024-07-02T04:15:05.292547Z"
    },
    "papermill": {
     "duration": 3.80144,
     "end_time": "2024-07-02T04:15:05.295703",
     "exception": false,
     "start_time": "2024-07-02T04:15:01.494263",
     "status": "completed"
    },
    "tags": []
   },
   "outputs": [],
   "source": [
    "sample = pl.read_csv(os.path.join(DATA, \"sample_submission.csv\"))"
   ]
  },
  {
   "cell_type": "code",
   "execution_count": 25,
   "id": "d966cf49",
   "metadata": {
    "execution": {
     "iopub.execute_input": "2024-07-02T04:15:05.327863Z",
     "iopub.status.busy": "2024-07-02T04:15:05.327531Z",
     "iopub.status.idle": "2024-07-02T04:15:32.794404Z",
     "shell.execute_reply": "2024-07-02T04:15:32.792218Z"
    },
    "papermill": {
     "duration": 27.487109,
     "end_time": "2024-07-02T04:15:32.798496",
     "exception": false,
     "start_time": "2024-07-02T04:15:05.311387",
     "status": "completed"
    },
    "tags": []
   },
   "outputs": [],
   "source": [
    "df_test = (\n",
    "    pl.scan_csv(os.path.join(DATA, \"test.csv\"))\n",
    "    .select(pl.exclude(\"sample_id\"))\n",
    "    .cast(pl.Float32)\n",
    "    .collect()\n",
    ")"
   ]
  },
  {
   "cell_type": "code",
   "execution_count": 26,
   "id": "80208231",
   "metadata": {
    "execution": {
     "iopub.execute_input": "2024-07-02T04:15:32.832433Z",
     "iopub.status.busy": "2024-07-02T04:15:32.832017Z",
     "iopub.status.idle": "2024-07-02T04:15:57.375349Z",
     "shell.execute_reply": "2024-07-02T04:15:57.374194Z"
    },
    "papermill": {
     "duration": 24.563717,
     "end_time": "2024-07-02T04:15:57.378172",
     "exception": false,
     "start_time": "2024-07-02T04:15:32.814455",
     "status": "completed"
    },
    "tags": []
   },
   "outputs": [
    {
     "name": "stdout",
     "output_type": "stream",
     "text": [
      "\u001b[1m77/77\u001b[0m \u001b[32m━━━━━━━━━━━━━━━━━━━━\u001b[0m\u001b[37m\u001b[0m \u001b[1m3s\u001b[0m 20ms/step\n"
     ]
    },
    {
     "name": "stderr",
     "output_type": "stream",
     "text": [
      "W0000 00:00:1719893742.832882      72 graph_launch.cc:671] Fallback to op-by-op mode because memset node breaks graph update\n"
     ]
    }
   ],
   "source": [
    "p_test = model.predict(df_test.to_numpy(), batch_size=4 * BATCH_SIZE) * stdd_y + mean_y\n",
    "p_test = np.array(p_test)\n",
    "p_test[:, mask] = mean_y[:, mask]\n",
    "\n",
    "df_p_test = pd.DataFrame(p_test, columns=TARGETS)"
   ]
  },
  {
   "cell_type": "code",
   "execution_count": 27,
   "id": "6ac714b1",
   "metadata": {
    "execution": {
     "iopub.execute_input": "2024-07-02T04:15:57.414098Z",
     "iopub.status.busy": "2024-07-02T04:15:57.413765Z",
     "iopub.status.idle": "2024-07-02T04:15:59.656431Z",
     "shell.execute_reply": "2024-07-02T04:15:59.655040Z"
    },
    "papermill": {
     "duration": 2.262956,
     "end_time": "2024-07-02T04:15:59.658798",
     "exception": false,
     "start_time": "2024-07-02T04:15:57.395842",
     "status": "completed"
    },
    "tags": []
   },
   "outputs": [],
   "source": [
    "for idx in range(12, 30):\n",
    "    df_p_test[f\"ptend_q0002_{idx}\"] = -df_test[f\"state_q0002_{idx}\"].to_numpy() / 1200\n",
    "\n",
    "p_test = df_p_test.values"
   ]
  },
  {
   "cell_type": "code",
   "execution_count": 28,
   "id": "89b76015",
   "metadata": {
    "execution": {
     "iopub.execute_input": "2024-07-02T04:15:59.694438Z",
     "iopub.status.busy": "2024-07-02T04:15:59.694118Z",
     "iopub.status.idle": "2024-07-02T04:16:23.086296Z",
     "shell.execute_reply": "2024-07-02T04:16:23.084539Z"
    },
    "papermill": {
     "duration": 23.414382,
     "end_time": "2024-07-02T04:16:23.090484",
     "exception": false,
     "start_time": "2024-07-02T04:15:59.676102",
     "status": "completed"
    },
    "tags": []
   },
   "outputs": [],
   "source": [
    "submission = sample.to_pandas()\n",
    "submission[TARGETS] = submission[TARGETS] * p_test\n",
    "pl.from_pandas(submission[[\"sample_id\"] + TARGETS]).write_csv(\"submission.csv\")"
   ]
  }
 ],
 "metadata": {
  "kaggle": {
   "accelerator": "gpu",
   "dataSources": [
    {
     "databundleVersionId": 8877088,
     "sourceId": 56537,
     "sourceType": "competition"
    },
    {
     "datasetId": 5004471,
     "sourceId": 8409068,
     "sourceType": "datasetVersion"
    }
   ],
   "dockerImageVersionId": 30733,
   "isGpuEnabled": true,
   "isInternetEnabled": true,
   "language": "python",
   "sourceType": "notebook"
  },
  "kernelspec": {
   "display_name": "Python 3",
   "language": "python",
   "name": "python3"
  },
  "language_info": {
   "codemirror_mode": {
    "name": "ipython",
    "version": 3
   },
   "file_extension": ".py",
   "mimetype": "text/x-python",
   "name": "python",
   "nbconvert_exporter": "python",
   "pygments_lexer": "ipython3",
   "version": "3.10.13"
  },
  "papermill": {
   "default_parameters": {},
   "duration": 2232.449649,
   "end_time": "2024-07-02T04:16:26.763624",
   "environment_variables": {},
   "exception": null,
   "input_path": "__notebook__.ipynb",
   "output_path": "__notebook__.ipynb",
   "parameters": {},
   "start_time": "2024-07-02T03:39:14.313975",
   "version": "2.5.0"
  }
 },
 "nbformat": 4,
 "nbformat_minor": 5
}
