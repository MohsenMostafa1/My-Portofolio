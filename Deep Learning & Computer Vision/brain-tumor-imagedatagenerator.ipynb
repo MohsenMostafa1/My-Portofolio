{
 "cells": [
  {
   "cell_type": "code",
   "execution_count": 1,
   "id": "8a9fc2ab",
   "metadata": {
    "_cell_guid": "b1076dfc-b9ad-4769-8c92-a6c4dae69d19",
    "_uuid": "8f2839f25d086af736a60e9eeb907d3b93b6e0e5",
    "execution": {
     "iopub.execute_input": "2024-06-02T12:11:24.885368Z",
     "iopub.status.busy": "2024-06-02T12:11:24.885021Z",
     "iopub.status.idle": "2024-06-02T12:11:40.346480Z",
     "shell.execute_reply": "2024-06-02T12:11:40.345480Z"
    },
    "papermill": {
     "duration": 15.472843,
     "end_time": "2024-06-02T12:11:40.350733",
     "exception": false,
     "start_time": "2024-06-02T12:11:24.877890",
     "status": "completed"
    },
    "tags": []
   },
   "outputs": [
    {
     "name": "stderr",
     "output_type": "stream",
     "text": [
      "2024-06-02 12:11:29.200289: E external/local_xla/xla/stream_executor/cuda/cuda_dnn.cc:9261] Unable to register cuDNN factory: Attempting to register factory for plugin cuDNN when one has already been registered\n",
      "2024-06-02 12:11:29.200386: E external/local_xla/xla/stream_executor/cuda/cuda_fft.cc:607] Unable to register cuFFT factory: Attempting to register factory for plugin cuFFT when one has already been registered\n",
      "2024-06-02 12:11:29.361638: E external/local_xla/xla/stream_executor/cuda/cuda_blas.cc:1515] Unable to register cuBLAS factory: Attempting to register factory for plugin cuBLAS when one has already been registered\n"
     ]
    },
    {
     "name": "stdout",
     "output_type": "stream",
     "text": [
      "/kaggle/input/brain-mri-images-for-brain-tumor-detection/no/34 no.jpg\n",
      "/kaggle/input/brain-mri-images-for-brain-tumor-detection/no/N20.JPG\n",
      "/kaggle/input/brain-mri-images-for-brain-tumor-detection/no/N1.JPG\n",
      "/kaggle/input/brain-mri-images-for-brain-tumor-detection/no/49 no.jpg\n",
      "/kaggle/input/brain-mri-images-for-brain-tumor-detection/no/N15.jpg\n",
      "/kaggle/input/brain-mri-images-for-brain-tumor-detection/no/No18.jpg\n",
      "/kaggle/input/brain-mri-images-for-brain-tumor-detection/no/31 no.jpg\n",
      "/kaggle/input/brain-mri-images-for-brain-tumor-detection/no/no 6.jpg\n",
      "/kaggle/input/brain-mri-images-for-brain-tumor-detection/no/3 no.jpg\n",
      "/kaggle/input/brain-mri-images-for-brain-tumor-detection/no/no 5.jpeg\n",
      "/kaggle/input/brain-mri-images-for-brain-tumor-detection/no/no 1.jpg\n",
      "/kaggle/input/brain-mri-images-for-brain-tumor-detection/no/26 no.jpg\n",
      "/kaggle/input/brain-mri-images-for-brain-tumor-detection/no/N26.JPG\n",
      "/kaggle/input/brain-mri-images-for-brain-tumor-detection/no/N5.jpg\n",
      "/kaggle/input/brain-mri-images-for-brain-tumor-detection/no/6 no.jpg\n",
      "/kaggle/input/brain-mri-images-for-brain-tumor-detection/no/No21.jpg\n",
      "/kaggle/input/brain-mri-images-for-brain-tumor-detection/no/17 no.jpg\n",
      "/kaggle/input/brain-mri-images-for-brain-tumor-detection/no/No22.jpg\n",
      "/kaggle/input/brain-mri-images-for-brain-tumor-detection/no/29 no.jpg\n",
      "/kaggle/input/brain-mri-images-for-brain-tumor-detection/no/46 no.jpg\n",
      "/kaggle/input/brain-mri-images-for-brain-tumor-detection/no/32 no.jpg\n",
      "/kaggle/input/brain-mri-images-for-brain-tumor-detection/no/42 no.jpg\n",
      "/kaggle/input/brain-mri-images-for-brain-tumor-detection/no/no 90.jpg\n",
      "/kaggle/input/brain-mri-images-for-brain-tumor-detection/no/no 94.jpg\n",
      "/kaggle/input/brain-mri-images-for-brain-tumor-detection/no/No19.jpg\n",
      "/kaggle/input/brain-mri-images-for-brain-tumor-detection/no/47 no.jpg\n",
      "/kaggle/input/brain-mri-images-for-brain-tumor-detection/no/N22.JPG\n",
      "/kaggle/input/brain-mri-images-for-brain-tumor-detection/no/No12.jpg\n",
      "/kaggle/input/brain-mri-images-for-brain-tumor-detection/no/15 no.jpg\n",
      "/kaggle/input/brain-mri-images-for-brain-tumor-detection/no/20 no.jpg\n",
      "/kaggle/input/brain-mri-images-for-brain-tumor-detection/no/No13.jpg\n",
      "/kaggle/input/brain-mri-images-for-brain-tumor-detection/no/11 no.jpg\n",
      "/kaggle/input/brain-mri-images-for-brain-tumor-detection/no/N11.jpg\n",
      "/kaggle/input/brain-mri-images-for-brain-tumor-detection/no/No17.jpg\n",
      "/kaggle/input/brain-mri-images-for-brain-tumor-detection/no/no 98.jpg\n",
      "/kaggle/input/brain-mri-images-for-brain-tumor-detection/no/18 no.jpg\n",
      "/kaggle/input/brain-mri-images-for-brain-tumor-detection/no/N19.JPG\n",
      "/kaggle/input/brain-mri-images-for-brain-tumor-detection/no/25 no.jpg\n",
      "/kaggle/input/brain-mri-images-for-brain-tumor-detection/no/24 no.jpg\n",
      "/kaggle/input/brain-mri-images-for-brain-tumor-detection/no/no 91.jpeg\n",
      "/kaggle/input/brain-mri-images-for-brain-tumor-detection/no/45 no.jpg\n",
      "/kaggle/input/brain-mri-images-for-brain-tumor-detection/no/22 no.jpg\n",
      "/kaggle/input/brain-mri-images-for-brain-tumor-detection/no/No16.jpg\n",
      "/kaggle/input/brain-mri-images-for-brain-tumor-detection/no/44no.jpg\n",
      "/kaggle/input/brain-mri-images-for-brain-tumor-detection/no/4 no.jpg\n",
      "/kaggle/input/brain-mri-images-for-brain-tumor-detection/no/36 no.jpg\n",
      "/kaggle/input/brain-mri-images-for-brain-tumor-detection/no/8 no.jpg\n",
      "/kaggle/input/brain-mri-images-for-brain-tumor-detection/no/48 no.jpeg\n",
      "/kaggle/input/brain-mri-images-for-brain-tumor-detection/no/No20.jpg\n",
      "/kaggle/input/brain-mri-images-for-brain-tumor-detection/no/no 2.jpg\n",
      "/kaggle/input/brain-mri-images-for-brain-tumor-detection/no/no 10.jpg\n",
      "/kaggle/input/brain-mri-images-for-brain-tumor-detection/no/7 no.jpg\n",
      "/kaggle/input/brain-mri-images-for-brain-tumor-detection/no/10 no.jpg\n",
      "/kaggle/input/brain-mri-images-for-brain-tumor-detection/no/N17.jpg\n",
      "/kaggle/input/brain-mri-images-for-brain-tumor-detection/no/14 no.jpg\n",
      "/kaggle/input/brain-mri-images-for-brain-tumor-detection/no/no 8.jpg\n",
      "/kaggle/input/brain-mri-images-for-brain-tumor-detection/no/38 no.jpg\n",
      "/kaggle/input/brain-mri-images-for-brain-tumor-detection/no/40 no.jpg\n",
      "/kaggle/input/brain-mri-images-for-brain-tumor-detection/no/no 9.png\n",
      "/kaggle/input/brain-mri-images-for-brain-tumor-detection/no/N3.jpg\n",
      "/kaggle/input/brain-mri-images-for-brain-tumor-detection/no/no 89.jpg\n",
      "/kaggle/input/brain-mri-images-for-brain-tumor-detection/no/19 no.jpg\n",
      "/kaggle/input/brain-mri-images-for-brain-tumor-detection/no/12 no.jpg\n",
      "/kaggle/input/brain-mri-images-for-brain-tumor-detection/no/N2.JPG\n",
      "/kaggle/input/brain-mri-images-for-brain-tumor-detection/no/No11.jpg\n",
      "/kaggle/input/brain-mri-images-for-brain-tumor-detection/no/no 92.jpg\n",
      "/kaggle/input/brain-mri-images-for-brain-tumor-detection/no/No14.jpg\n",
      "/kaggle/input/brain-mri-images-for-brain-tumor-detection/no/39 no.jpg\n",
      "/kaggle/input/brain-mri-images-for-brain-tumor-detection/no/no 7.jpeg\n",
      "/kaggle/input/brain-mri-images-for-brain-tumor-detection/no/27 no.jpg\n",
      "/kaggle/input/brain-mri-images-for-brain-tumor-detection/no/5 no.jpg\n",
      "/kaggle/input/brain-mri-images-for-brain-tumor-detection/no/no 95.jpg\n",
      "/kaggle/input/brain-mri-images-for-brain-tumor-detection/no/no.jpg\n",
      "/kaggle/input/brain-mri-images-for-brain-tumor-detection/no/no 3.jpg\n",
      "/kaggle/input/brain-mri-images-for-brain-tumor-detection/no/No15.jpg\n",
      "/kaggle/input/brain-mri-images-for-brain-tumor-detection/no/no 923.jpg\n",
      "/kaggle/input/brain-mri-images-for-brain-tumor-detection/no/28 no.jpg\n",
      "/kaggle/input/brain-mri-images-for-brain-tumor-detection/no/no 100.jpg\n",
      "/kaggle/input/brain-mri-images-for-brain-tumor-detection/no/23 no.jpg\n",
      "/kaggle/input/brain-mri-images-for-brain-tumor-detection/no/13 no.jpg\n",
      "/kaggle/input/brain-mri-images-for-brain-tumor-detection/no/37 no.jpg\n",
      "/kaggle/input/brain-mri-images-for-brain-tumor-detection/no/21 no.jpg\n",
      "/kaggle/input/brain-mri-images-for-brain-tumor-detection/no/30 no.jpg\n",
      "/kaggle/input/brain-mri-images-for-brain-tumor-detection/no/no 4.jpg\n",
      "/kaggle/input/brain-mri-images-for-brain-tumor-detection/no/9 no.jpg\n",
      "/kaggle/input/brain-mri-images-for-brain-tumor-detection/no/no 99.jpg\n",
      "/kaggle/input/brain-mri-images-for-brain-tumor-detection/no/N21.jpg\n",
      "/kaggle/input/brain-mri-images-for-brain-tumor-detection/no/50 no.jpg\n",
      "/kaggle/input/brain-mri-images-for-brain-tumor-detection/no/43 no.jpg\n",
      "/kaggle/input/brain-mri-images-for-brain-tumor-detection/no/no 96.jpg\n",
      "/kaggle/input/brain-mri-images-for-brain-tumor-detection/no/41 no.jpg\n",
      "/kaggle/input/brain-mri-images-for-brain-tumor-detection/no/N16.jpg\n",
      "/kaggle/input/brain-mri-images-for-brain-tumor-detection/no/no 97.jpg\n",
      "/kaggle/input/brain-mri-images-for-brain-tumor-detection/no/1 no.jpeg\n",
      "/kaggle/input/brain-mri-images-for-brain-tumor-detection/no/2 no.jpeg\n",
      "/kaggle/input/brain-mri-images-for-brain-tumor-detection/no/35 no.jpg\n",
      "/kaggle/input/brain-mri-images-for-brain-tumor-detection/no/N6.jpg\n",
      "/kaggle/input/brain-mri-images-for-brain-tumor-detection/no/33 no.jpg\n",
      "/kaggle/input/brain-mri-images-for-brain-tumor-detection/yes/Y115.JPG\n",
      "/kaggle/input/brain-mri-images-for-brain-tumor-detection/yes/Y192.JPG\n",
      "/kaggle/input/brain-mri-images-for-brain-tumor-detection/yes/Y162.jpg\n",
      "/kaggle/input/brain-mri-images-for-brain-tumor-detection/yes/Y9.jpg\n",
      "/kaggle/input/brain-mri-images-for-brain-tumor-detection/yes/Y108.jpg\n",
      "/kaggle/input/brain-mri-images-for-brain-tumor-detection/yes/Y155.JPG\n",
      "/kaggle/input/brain-mri-images-for-brain-tumor-detection/yes/Y106.jpg\n",
      "/kaggle/input/brain-mri-images-for-brain-tumor-detection/yes/Y258.JPG\n",
      "/kaggle/input/brain-mri-images-for-brain-tumor-detection/yes/Y103.jpg\n",
      "/kaggle/input/brain-mri-images-for-brain-tumor-detection/yes/Y185.jpg\n",
      "/kaggle/input/brain-mri-images-for-brain-tumor-detection/yes/Y180.jpg\n",
      "/kaggle/input/brain-mri-images-for-brain-tumor-detection/yes/Y120.JPG\n",
      "/kaggle/input/brain-mri-images-for-brain-tumor-detection/yes/Y54.jpg\n",
      "/kaggle/input/brain-mri-images-for-brain-tumor-detection/yes/Y165.JPG\n",
      "/kaggle/input/brain-mri-images-for-brain-tumor-detection/yes/Y112.JPG\n",
      "/kaggle/input/brain-mri-images-for-brain-tumor-detection/yes/Y99.JPG\n",
      "/kaggle/input/brain-mri-images-for-brain-tumor-detection/yes/Y3.jpg\n",
      "/kaggle/input/brain-mri-images-for-brain-tumor-detection/yes/Y184.JPG\n",
      "/kaggle/input/brain-mri-images-for-brain-tumor-detection/yes/Y82.jpg\n",
      "/kaggle/input/brain-mri-images-for-brain-tumor-detection/yes/Y169.jpg\n",
      "/kaggle/input/brain-mri-images-for-brain-tumor-detection/yes/Y146.JPG\n",
      "/kaggle/input/brain-mri-images-for-brain-tumor-detection/yes/Y147.JPG\n",
      "/kaggle/input/brain-mri-images-for-brain-tumor-detection/yes/Y116.JPG\n",
      "/kaggle/input/brain-mri-images-for-brain-tumor-detection/yes/Y27.jpg\n",
      "/kaggle/input/brain-mri-images-for-brain-tumor-detection/yes/Y73.jpg\n",
      "/kaggle/input/brain-mri-images-for-brain-tumor-detection/yes/Y181.jpg\n",
      "/kaggle/input/brain-mri-images-for-brain-tumor-detection/yes/Y81.jpg\n",
      "/kaggle/input/brain-mri-images-for-brain-tumor-detection/yes/Y161.JPG\n",
      "/kaggle/input/brain-mri-images-for-brain-tumor-detection/yes/Y17.jpg\n",
      "/kaggle/input/brain-mri-images-for-brain-tumor-detection/yes/Y69.jpg\n",
      "/kaggle/input/brain-mri-images-for-brain-tumor-detection/yes/Y158.JPG\n",
      "/kaggle/input/brain-mri-images-for-brain-tumor-detection/yes/Y32.jpg\n",
      "/kaggle/input/brain-mri-images-for-brain-tumor-detection/yes/Y186.jpg\n",
      "/kaggle/input/brain-mri-images-for-brain-tumor-detection/yes/Y259.JPG\n",
      "/kaggle/input/brain-mri-images-for-brain-tumor-detection/yes/Y42.jpg\n",
      "/kaggle/input/brain-mri-images-for-brain-tumor-detection/yes/Y250.jpg\n",
      "/kaggle/input/brain-mri-images-for-brain-tumor-detection/yes/Y58.JPG\n",
      "/kaggle/input/brain-mri-images-for-brain-tumor-detection/yes/Y60.jpg\n",
      "/kaggle/input/brain-mri-images-for-brain-tumor-detection/yes/Y252.jpg\n",
      "/kaggle/input/brain-mri-images-for-brain-tumor-detection/yes/Y182.JPG\n",
      "/kaggle/input/brain-mri-images-for-brain-tumor-detection/yes/Y154.jpg\n",
      "/kaggle/input/brain-mri-images-for-brain-tumor-detection/yes/Y79.jpg\n",
      "/kaggle/input/brain-mri-images-for-brain-tumor-detection/yes/Y31.jpg\n",
      "/kaggle/input/brain-mri-images-for-brain-tumor-detection/yes/Y98.JPG\n",
      "/kaggle/input/brain-mri-images-for-brain-tumor-detection/yes/Y91.jpg\n",
      "/kaggle/input/brain-mri-images-for-brain-tumor-detection/yes/Y95.jpg\n",
      "/kaggle/input/brain-mri-images-for-brain-tumor-detection/yes/Y22.jpg\n",
      "/kaggle/input/brain-mri-images-for-brain-tumor-detection/yes/Y35.jpg\n",
      "/kaggle/input/brain-mri-images-for-brain-tumor-detection/yes/Y33.jpg\n",
      "/kaggle/input/brain-mri-images-for-brain-tumor-detection/yes/Y247.JPG\n",
      "/kaggle/input/brain-mri-images-for-brain-tumor-detection/yes/Y19.JPG\n",
      "/kaggle/input/brain-mri-images-for-brain-tumor-detection/yes/Y160.JPG\n",
      "/kaggle/input/brain-mri-images-for-brain-tumor-detection/yes/Y13.jpg\n",
      "/kaggle/input/brain-mri-images-for-brain-tumor-detection/yes/Y29.jpg\n",
      "/kaggle/input/brain-mri-images-for-brain-tumor-detection/yes/Y55.jpg\n",
      "/kaggle/input/brain-mri-images-for-brain-tumor-detection/yes/Y4.jpg\n",
      "/kaggle/input/brain-mri-images-for-brain-tumor-detection/yes/Y50.JPG\n",
      "/kaggle/input/brain-mri-images-for-brain-tumor-detection/yes/Y114.JPG\n",
      "/kaggle/input/brain-mri-images-for-brain-tumor-detection/yes/Y26.jpg\n",
      "/kaggle/input/brain-mri-images-for-brain-tumor-detection/yes/Y257.jpg\n",
      "/kaggle/input/brain-mri-images-for-brain-tumor-detection/yes/Y97.JPG\n",
      "/kaggle/input/brain-mri-images-for-brain-tumor-detection/yes/Y14.jpg\n",
      "/kaggle/input/brain-mri-images-for-brain-tumor-detection/yes/Y25.jpg\n",
      "/kaggle/input/brain-mri-images-for-brain-tumor-detection/yes/Y170.JPG\n",
      "/kaggle/input/brain-mri-images-for-brain-tumor-detection/yes/Y51.jpg\n",
      "/kaggle/input/brain-mri-images-for-brain-tumor-detection/yes/Y34.jpg\n",
      "/kaggle/input/brain-mri-images-for-brain-tumor-detection/yes/Y39.jpg\n",
      "/kaggle/input/brain-mri-images-for-brain-tumor-detection/yes/Y15.jpg\n",
      "/kaggle/input/brain-mri-images-for-brain-tumor-detection/yes/Y104.jpg\n",
      "/kaggle/input/brain-mri-images-for-brain-tumor-detection/yes/Y187.jpg\n",
      "/kaggle/input/brain-mri-images-for-brain-tumor-detection/yes/Y167.JPG\n",
      "/kaggle/input/brain-mri-images-for-brain-tumor-detection/yes/Y40.JPG\n",
      "/kaggle/input/brain-mri-images-for-brain-tumor-detection/yes/Y38.jpg\n",
      "/kaggle/input/brain-mri-images-for-brain-tumor-detection/yes/Y111.JPG\n",
      "/kaggle/input/brain-mri-images-for-brain-tumor-detection/yes/Y37.jpg\n",
      "/kaggle/input/brain-mri-images-for-brain-tumor-detection/yes/Y24.jpg\n",
      "/kaggle/input/brain-mri-images-for-brain-tumor-detection/yes/Y157.JPG\n",
      "/kaggle/input/brain-mri-images-for-brain-tumor-detection/yes/Y6.jpg\n",
      "/kaggle/input/brain-mri-images-for-brain-tumor-detection/yes/Y28.jpg\n",
      "/kaggle/input/brain-mri-images-for-brain-tumor-detection/yes/Y164.JPG\n",
      "/kaggle/input/brain-mri-images-for-brain-tumor-detection/yes/Y30.jpg\n",
      "/kaggle/input/brain-mri-images-for-brain-tumor-detection/yes/Y90.jpg\n",
      "/kaggle/input/brain-mri-images-for-brain-tumor-detection/yes/Y92.jpg\n",
      "/kaggle/input/brain-mri-images-for-brain-tumor-detection/yes/Y86.JPG\n",
      "/kaggle/input/brain-mri-images-for-brain-tumor-detection/yes/Y46.jpg\n",
      "/kaggle/input/brain-mri-images-for-brain-tumor-detection/yes/Y248.JPG\n",
      "/kaggle/input/brain-mri-images-for-brain-tumor-detection/yes/Y1.jpg\n",
      "/kaggle/input/brain-mri-images-for-brain-tumor-detection/yes/Y2.jpg\n",
      "/kaggle/input/brain-mri-images-for-brain-tumor-detection/yes/Y62.jpg\n",
      "/kaggle/input/brain-mri-images-for-brain-tumor-detection/yes/Y67.JPG\n",
      "/kaggle/input/brain-mri-images-for-brain-tumor-detection/yes/Y109.JPG\n",
      "/kaggle/input/brain-mri-images-for-brain-tumor-detection/yes/Y117.JPG\n",
      "/kaggle/input/brain-mri-images-for-brain-tumor-detection/yes/Y194.jpg\n",
      "/kaggle/input/brain-mri-images-for-brain-tumor-detection/yes/Y71.JPG\n",
      "/kaggle/input/brain-mri-images-for-brain-tumor-detection/yes/Y7.jpg\n",
      "/kaggle/input/brain-mri-images-for-brain-tumor-detection/yes/Y59.JPG\n",
      "/kaggle/input/brain-mri-images-for-brain-tumor-detection/yes/Y246.JPG\n",
      "/kaggle/input/brain-mri-images-for-brain-tumor-detection/yes/Y66.JPG\n",
      "/kaggle/input/brain-mri-images-for-brain-tumor-detection/yes/Y148.JPG\n",
      "/kaggle/input/brain-mri-images-for-brain-tumor-detection/yes/Y243.JPG\n",
      "/kaggle/input/brain-mri-images-for-brain-tumor-detection/yes/Y56.jpg\n",
      "/kaggle/input/brain-mri-images-for-brain-tumor-detection/yes/Y18.JPG\n",
      "/kaggle/input/brain-mri-images-for-brain-tumor-detection/yes/Y23.JPG\n",
      "/kaggle/input/brain-mri-images-for-brain-tumor-detection/yes/Y96.jpg\n",
      "/kaggle/input/brain-mri-images-for-brain-tumor-detection/yes/Y195.JPG\n",
      "/kaggle/input/brain-mri-images-for-brain-tumor-detection/yes/Y65.JPG\n",
      "/kaggle/input/brain-mri-images-for-brain-tumor-detection/yes/Y16.JPG\n",
      "/kaggle/input/brain-mri-images-for-brain-tumor-detection/yes/Y193.JPG\n",
      "/kaggle/input/brain-mri-images-for-brain-tumor-detection/yes/Y45.JPG\n",
      "/kaggle/input/brain-mri-images-for-brain-tumor-detection/yes/Y53.jpg\n",
      "/kaggle/input/brain-mri-images-for-brain-tumor-detection/yes/Y245.jpg\n",
      "/kaggle/input/brain-mri-images-for-brain-tumor-detection/yes/Y159.JPG\n",
      "/kaggle/input/brain-mri-images-for-brain-tumor-detection/yes/Y12.jpg\n",
      "/kaggle/input/brain-mri-images-for-brain-tumor-detection/yes/Y100.JPG\n",
      "/kaggle/input/brain-mri-images-for-brain-tumor-detection/yes/Y102.jpg\n",
      "/kaggle/input/brain-mri-images-for-brain-tumor-detection/yes/Y75.JPG\n",
      "/kaggle/input/brain-mri-images-for-brain-tumor-detection/yes/Y256.JPG\n",
      "/kaggle/input/brain-mri-images-for-brain-tumor-detection/yes/Y10.jpg\n",
      "/kaggle/input/brain-mri-images-for-brain-tumor-detection/yes/Y253.JPG\n",
      "/kaggle/input/brain-mri-images-for-brain-tumor-detection/yes/Y105.jpg\n",
      "/kaggle/input/brain-mri-images-for-brain-tumor-detection/yes/Y166.JPG\n",
      "/kaggle/input/brain-mri-images-for-brain-tumor-detection/yes/Y61.jpg\n",
      "/kaggle/input/brain-mri-images-for-brain-tumor-detection/yes/Y47.JPG\n",
      "/kaggle/input/brain-mri-images-for-brain-tumor-detection/yes/Y255.JPG\n",
      "/kaggle/input/brain-mri-images-for-brain-tumor-detection/yes/Y70.jpg\n",
      "/kaggle/input/brain-mri-images-for-brain-tumor-detection/yes/Y168.jpg\n",
      "/kaggle/input/brain-mri-images-for-brain-tumor-detection/yes/Y163.JPG\n",
      "/kaggle/input/brain-mri-images-for-brain-tumor-detection/yes/Y188.jpg\n",
      "/kaggle/input/brain-mri-images-for-brain-tumor-detection/yes/Y242.JPG\n",
      "/kaggle/input/brain-mri-images-for-brain-tumor-detection/yes/Y21.jpg\n",
      "/kaggle/input/brain-mri-images-for-brain-tumor-detection/yes/Y36.JPG\n",
      "/kaggle/input/brain-mri-images-for-brain-tumor-detection/yes/Y254.jpg\n",
      "/kaggle/input/brain-mri-images-for-brain-tumor-detection/yes/Y183.jpg\n",
      "/kaggle/input/brain-mri-images-for-brain-tumor-detection/yes/Y74.jpg\n",
      "/kaggle/input/brain-mri-images-for-brain-tumor-detection/yes/Y251.JPG\n",
      "/kaggle/input/brain-mri-images-for-brain-tumor-detection/yes/Y52.jpg\n",
      "/kaggle/input/brain-mri-images-for-brain-tumor-detection/yes/Y153.jpg\n",
      "/kaggle/input/brain-mri-images-for-brain-tumor-detection/yes/Y156.JPG\n",
      "/kaggle/input/brain-mri-images-for-brain-tumor-detection/yes/Y11.jpg\n",
      "/kaggle/input/brain-mri-images-for-brain-tumor-detection/yes/Y77.jpg\n",
      "/kaggle/input/brain-mri-images-for-brain-tumor-detection/yes/Y249.JPG\n",
      "/kaggle/input/brain-mri-images-for-brain-tumor-detection/yes/Y41.jpg\n",
      "/kaggle/input/brain-mri-images-for-brain-tumor-detection/yes/Y76.jpg\n",
      "/kaggle/input/brain-mri-images-for-brain-tumor-detection/yes/Y78.jpg\n",
      "/kaggle/input/brain-mri-images-for-brain-tumor-detection/yes/Y20.jpg\n",
      "/kaggle/input/brain-mri-images-for-brain-tumor-detection/yes/Y85.JPG\n",
      "/kaggle/input/brain-mri-images-for-brain-tumor-detection/yes/Y49.JPG\n",
      "/kaggle/input/brain-mri-images-for-brain-tumor-detection/yes/Y244.JPG\n",
      "/kaggle/input/brain-mri-images-for-brain-tumor-detection/yes/Y8.jpg\n",
      "/kaggle/input/brain-mri-images-for-brain-tumor-detection/yes/Y107.jpg\n",
      "/kaggle/input/brain-mri-images-for-brain-tumor-detection/yes/Y113.JPG\n",
      "/kaggle/input/brain-mri-images-for-brain-tumor-detection/yes/Y101.jpg\n",
      "/kaggle/input/brain-mri-images-for-brain-tumor-detection/yes/Y89.JPG\n",
      "/kaggle/input/brain-mri-images-for-brain-tumor-detection/yes/Y44.JPG\n",
      "/kaggle/input/brain-mri-images-for-brain-tumor-detection/yes/Y92.png\n",
      "/kaggle/input/brain-mri-images-for-brain-tumor-detection/brain_tumor_dataset/no/34 no.jpg\n",
      "/kaggle/input/brain-mri-images-for-brain-tumor-detection/brain_tumor_dataset/no/N20.JPG\n",
      "/kaggle/input/brain-mri-images-for-brain-tumor-detection/brain_tumor_dataset/no/N1.JPG\n",
      "/kaggle/input/brain-mri-images-for-brain-tumor-detection/brain_tumor_dataset/no/49 no.jpg\n",
      "/kaggle/input/brain-mri-images-for-brain-tumor-detection/brain_tumor_dataset/no/N15.jpg\n",
      "/kaggle/input/brain-mri-images-for-brain-tumor-detection/brain_tumor_dataset/no/No18.jpg\n",
      "/kaggle/input/brain-mri-images-for-brain-tumor-detection/brain_tumor_dataset/no/31 no.jpg\n",
      "/kaggle/input/brain-mri-images-for-brain-tumor-detection/brain_tumor_dataset/no/no 6.jpg\n",
      "/kaggle/input/brain-mri-images-for-brain-tumor-detection/brain_tumor_dataset/no/3 no.jpg\n",
      "/kaggle/input/brain-mri-images-for-brain-tumor-detection/brain_tumor_dataset/no/no 5.jpeg\n",
      "/kaggle/input/brain-mri-images-for-brain-tumor-detection/brain_tumor_dataset/no/no 1.jpg\n",
      "/kaggle/input/brain-mri-images-for-brain-tumor-detection/brain_tumor_dataset/no/26 no.jpg\n",
      "/kaggle/input/brain-mri-images-for-brain-tumor-detection/brain_tumor_dataset/no/N26.JPG\n",
      "/kaggle/input/brain-mri-images-for-brain-tumor-detection/brain_tumor_dataset/no/N5.jpg\n",
      "/kaggle/input/brain-mri-images-for-brain-tumor-detection/brain_tumor_dataset/no/6 no.jpg\n",
      "/kaggle/input/brain-mri-images-for-brain-tumor-detection/brain_tumor_dataset/no/No21.jpg\n",
      "/kaggle/input/brain-mri-images-for-brain-tumor-detection/brain_tumor_dataset/no/17 no.jpg\n",
      "/kaggle/input/brain-mri-images-for-brain-tumor-detection/brain_tumor_dataset/no/No22.jpg\n",
      "/kaggle/input/brain-mri-images-for-brain-tumor-detection/brain_tumor_dataset/no/29 no.jpg\n",
      "/kaggle/input/brain-mri-images-for-brain-tumor-detection/brain_tumor_dataset/no/46 no.jpg\n",
      "/kaggle/input/brain-mri-images-for-brain-tumor-detection/brain_tumor_dataset/no/32 no.jpg\n",
      "/kaggle/input/brain-mri-images-for-brain-tumor-detection/brain_tumor_dataset/no/42 no.jpg\n",
      "/kaggle/input/brain-mri-images-for-brain-tumor-detection/brain_tumor_dataset/no/no 90.jpg\n",
      "/kaggle/input/brain-mri-images-for-brain-tumor-detection/brain_tumor_dataset/no/no 94.jpg\n",
      "/kaggle/input/brain-mri-images-for-brain-tumor-detection/brain_tumor_dataset/no/No19.jpg\n",
      "/kaggle/input/brain-mri-images-for-brain-tumor-detection/brain_tumor_dataset/no/47 no.jpg\n",
      "/kaggle/input/brain-mri-images-for-brain-tumor-detection/brain_tumor_dataset/no/N22.JPG\n",
      "/kaggle/input/brain-mri-images-for-brain-tumor-detection/brain_tumor_dataset/no/No12.jpg\n",
      "/kaggle/input/brain-mri-images-for-brain-tumor-detection/brain_tumor_dataset/no/15 no.jpg\n",
      "/kaggle/input/brain-mri-images-for-brain-tumor-detection/brain_tumor_dataset/no/20 no.jpg\n",
      "/kaggle/input/brain-mri-images-for-brain-tumor-detection/brain_tumor_dataset/no/No13.jpg\n",
      "/kaggle/input/brain-mri-images-for-brain-tumor-detection/brain_tumor_dataset/no/11 no.jpg\n",
      "/kaggle/input/brain-mri-images-for-brain-tumor-detection/brain_tumor_dataset/no/N11.jpg\n",
      "/kaggle/input/brain-mri-images-for-brain-tumor-detection/brain_tumor_dataset/no/No17.jpg\n",
      "/kaggle/input/brain-mri-images-for-brain-tumor-detection/brain_tumor_dataset/no/no 98.jpg\n",
      "/kaggle/input/brain-mri-images-for-brain-tumor-detection/brain_tumor_dataset/no/18 no.jpg\n",
      "/kaggle/input/brain-mri-images-for-brain-tumor-detection/brain_tumor_dataset/no/N19.JPG\n",
      "/kaggle/input/brain-mri-images-for-brain-tumor-detection/brain_tumor_dataset/no/25 no.jpg\n",
      "/kaggle/input/brain-mri-images-for-brain-tumor-detection/brain_tumor_dataset/no/24 no.jpg\n",
      "/kaggle/input/brain-mri-images-for-brain-tumor-detection/brain_tumor_dataset/no/no 91.jpeg\n",
      "/kaggle/input/brain-mri-images-for-brain-tumor-detection/brain_tumor_dataset/no/45 no.jpg\n",
      "/kaggle/input/brain-mri-images-for-brain-tumor-detection/brain_tumor_dataset/no/22 no.jpg\n",
      "/kaggle/input/brain-mri-images-for-brain-tumor-detection/brain_tumor_dataset/no/No16.jpg\n",
      "/kaggle/input/brain-mri-images-for-brain-tumor-detection/brain_tumor_dataset/no/44no.jpg\n",
      "/kaggle/input/brain-mri-images-for-brain-tumor-detection/brain_tumor_dataset/no/4 no.jpg\n",
      "/kaggle/input/brain-mri-images-for-brain-tumor-detection/brain_tumor_dataset/no/36 no.jpg\n",
      "/kaggle/input/brain-mri-images-for-brain-tumor-detection/brain_tumor_dataset/no/8 no.jpg\n",
      "/kaggle/input/brain-mri-images-for-brain-tumor-detection/brain_tumor_dataset/no/48 no.jpeg\n",
      "/kaggle/input/brain-mri-images-for-brain-tumor-detection/brain_tumor_dataset/no/No20.jpg\n",
      "/kaggle/input/brain-mri-images-for-brain-tumor-detection/brain_tumor_dataset/no/no 2.jpg\n",
      "/kaggle/input/brain-mri-images-for-brain-tumor-detection/brain_tumor_dataset/no/no 10.jpg\n",
      "/kaggle/input/brain-mri-images-for-brain-tumor-detection/brain_tumor_dataset/no/7 no.jpg\n",
      "/kaggle/input/brain-mri-images-for-brain-tumor-detection/brain_tumor_dataset/no/10 no.jpg\n",
      "/kaggle/input/brain-mri-images-for-brain-tumor-detection/brain_tumor_dataset/no/N17.jpg\n",
      "/kaggle/input/brain-mri-images-for-brain-tumor-detection/brain_tumor_dataset/no/14 no.jpg\n",
      "/kaggle/input/brain-mri-images-for-brain-tumor-detection/brain_tumor_dataset/no/no 8.jpg\n",
      "/kaggle/input/brain-mri-images-for-brain-tumor-detection/brain_tumor_dataset/no/38 no.jpg\n",
      "/kaggle/input/brain-mri-images-for-brain-tumor-detection/brain_tumor_dataset/no/40 no.jpg\n",
      "/kaggle/input/brain-mri-images-for-brain-tumor-detection/brain_tumor_dataset/no/no 9.png\n",
      "/kaggle/input/brain-mri-images-for-brain-tumor-detection/brain_tumor_dataset/no/N3.jpg\n",
      "/kaggle/input/brain-mri-images-for-brain-tumor-detection/brain_tumor_dataset/no/no 89.jpg\n",
      "/kaggle/input/brain-mri-images-for-brain-tumor-detection/brain_tumor_dataset/no/19 no.jpg\n",
      "/kaggle/input/brain-mri-images-for-brain-tumor-detection/brain_tumor_dataset/no/12 no.jpg\n",
      "/kaggle/input/brain-mri-images-for-brain-tumor-detection/brain_tumor_dataset/no/N2.JPG\n",
      "/kaggle/input/brain-mri-images-for-brain-tumor-detection/brain_tumor_dataset/no/No11.jpg\n",
      "/kaggle/input/brain-mri-images-for-brain-tumor-detection/brain_tumor_dataset/no/no 92.jpg\n",
      "/kaggle/input/brain-mri-images-for-brain-tumor-detection/brain_tumor_dataset/no/No14.jpg\n",
      "/kaggle/input/brain-mri-images-for-brain-tumor-detection/brain_tumor_dataset/no/39 no.jpg\n",
      "/kaggle/input/brain-mri-images-for-brain-tumor-detection/brain_tumor_dataset/no/no 7.jpeg\n",
      "/kaggle/input/brain-mri-images-for-brain-tumor-detection/brain_tumor_dataset/no/27 no.jpg\n",
      "/kaggle/input/brain-mri-images-for-brain-tumor-detection/brain_tumor_dataset/no/5 no.jpg\n",
      "/kaggle/input/brain-mri-images-for-brain-tumor-detection/brain_tumor_dataset/no/no 95.jpg\n",
      "/kaggle/input/brain-mri-images-for-brain-tumor-detection/brain_tumor_dataset/no/no.jpg\n",
      "/kaggle/input/brain-mri-images-for-brain-tumor-detection/brain_tumor_dataset/no/no 3.jpg\n",
      "/kaggle/input/brain-mri-images-for-brain-tumor-detection/brain_tumor_dataset/no/No15.jpg\n",
      "/kaggle/input/brain-mri-images-for-brain-tumor-detection/brain_tumor_dataset/no/no 923.jpg\n",
      "/kaggle/input/brain-mri-images-for-brain-tumor-detection/brain_tumor_dataset/no/28 no.jpg\n",
      "/kaggle/input/brain-mri-images-for-brain-tumor-detection/brain_tumor_dataset/no/no 100.jpg\n",
      "/kaggle/input/brain-mri-images-for-brain-tumor-detection/brain_tumor_dataset/no/23 no.jpg\n",
      "/kaggle/input/brain-mri-images-for-brain-tumor-detection/brain_tumor_dataset/no/13 no.jpg\n",
      "/kaggle/input/brain-mri-images-for-brain-tumor-detection/brain_tumor_dataset/no/37 no.jpg\n",
      "/kaggle/input/brain-mri-images-for-brain-tumor-detection/brain_tumor_dataset/no/21 no.jpg\n",
      "/kaggle/input/brain-mri-images-for-brain-tumor-detection/brain_tumor_dataset/no/30 no.jpg\n",
      "/kaggle/input/brain-mri-images-for-brain-tumor-detection/brain_tumor_dataset/no/no 4.jpg\n",
      "/kaggle/input/brain-mri-images-for-brain-tumor-detection/brain_tumor_dataset/no/9 no.jpg\n",
      "/kaggle/input/brain-mri-images-for-brain-tumor-detection/brain_tumor_dataset/no/no 99.jpg\n",
      "/kaggle/input/brain-mri-images-for-brain-tumor-detection/brain_tumor_dataset/no/N21.jpg\n",
      "/kaggle/input/brain-mri-images-for-brain-tumor-detection/brain_tumor_dataset/no/50 no.jpg\n",
      "/kaggle/input/brain-mri-images-for-brain-tumor-detection/brain_tumor_dataset/no/43 no.jpg\n",
      "/kaggle/input/brain-mri-images-for-brain-tumor-detection/brain_tumor_dataset/no/no 96.jpg\n",
      "/kaggle/input/brain-mri-images-for-brain-tumor-detection/brain_tumor_dataset/no/41 no.jpg\n",
      "/kaggle/input/brain-mri-images-for-brain-tumor-detection/brain_tumor_dataset/no/N16.jpg\n",
      "/kaggle/input/brain-mri-images-for-brain-tumor-detection/brain_tumor_dataset/no/no 97.jpg\n",
      "/kaggle/input/brain-mri-images-for-brain-tumor-detection/brain_tumor_dataset/no/1 no.jpeg\n",
      "/kaggle/input/brain-mri-images-for-brain-tumor-detection/brain_tumor_dataset/no/2 no.jpeg\n",
      "/kaggle/input/brain-mri-images-for-brain-tumor-detection/brain_tumor_dataset/no/35 no.jpg\n",
      "/kaggle/input/brain-mri-images-for-brain-tumor-detection/brain_tumor_dataset/no/N6.jpg\n",
      "/kaggle/input/brain-mri-images-for-brain-tumor-detection/brain_tumor_dataset/no/33 no.jpg\n",
      "/kaggle/input/brain-mri-images-for-brain-tumor-detection/brain_tumor_dataset/yes/Y115.JPG\n",
      "/kaggle/input/brain-mri-images-for-brain-tumor-detection/brain_tumor_dataset/yes/Y192.JPG\n",
      "/kaggle/input/brain-mri-images-for-brain-tumor-detection/brain_tumor_dataset/yes/Y162.jpg\n",
      "/kaggle/input/brain-mri-images-for-brain-tumor-detection/brain_tumor_dataset/yes/Y9.jpg\n",
      "/kaggle/input/brain-mri-images-for-brain-tumor-detection/brain_tumor_dataset/yes/Y108.jpg\n",
      "/kaggle/input/brain-mri-images-for-brain-tumor-detection/brain_tumor_dataset/yes/Y155.JPG\n",
      "/kaggle/input/brain-mri-images-for-brain-tumor-detection/brain_tumor_dataset/yes/Y106.jpg\n",
      "/kaggle/input/brain-mri-images-for-brain-tumor-detection/brain_tumor_dataset/yes/Y258.JPG\n",
      "/kaggle/input/brain-mri-images-for-brain-tumor-detection/brain_tumor_dataset/yes/Y103.jpg\n",
      "/kaggle/input/brain-mri-images-for-brain-tumor-detection/brain_tumor_dataset/yes/Y185.jpg\n",
      "/kaggle/input/brain-mri-images-for-brain-tumor-detection/brain_tumor_dataset/yes/Y180.jpg\n",
      "/kaggle/input/brain-mri-images-for-brain-tumor-detection/brain_tumor_dataset/yes/Y120.JPG\n",
      "/kaggle/input/brain-mri-images-for-brain-tumor-detection/brain_tumor_dataset/yes/Y54.jpg\n",
      "/kaggle/input/brain-mri-images-for-brain-tumor-detection/brain_tumor_dataset/yes/Y165.JPG\n",
      "/kaggle/input/brain-mri-images-for-brain-tumor-detection/brain_tumor_dataset/yes/Y112.JPG\n",
      "/kaggle/input/brain-mri-images-for-brain-tumor-detection/brain_tumor_dataset/yes/Y99.JPG\n",
      "/kaggle/input/brain-mri-images-for-brain-tumor-detection/brain_tumor_dataset/yes/Y3.jpg\n",
      "/kaggle/input/brain-mri-images-for-brain-tumor-detection/brain_tumor_dataset/yes/Y184.JPG\n",
      "/kaggle/input/brain-mri-images-for-brain-tumor-detection/brain_tumor_dataset/yes/Y82.jpg\n",
      "/kaggle/input/brain-mri-images-for-brain-tumor-detection/brain_tumor_dataset/yes/Y169.jpg\n",
      "/kaggle/input/brain-mri-images-for-brain-tumor-detection/brain_tumor_dataset/yes/Y146.JPG\n",
      "/kaggle/input/brain-mri-images-for-brain-tumor-detection/brain_tumor_dataset/yes/Y147.JPG\n",
      "/kaggle/input/brain-mri-images-for-brain-tumor-detection/brain_tumor_dataset/yes/Y116.JPG\n",
      "/kaggle/input/brain-mri-images-for-brain-tumor-detection/brain_tumor_dataset/yes/Y27.jpg\n",
      "/kaggle/input/brain-mri-images-for-brain-tumor-detection/brain_tumor_dataset/yes/Y73.jpg\n",
      "/kaggle/input/brain-mri-images-for-brain-tumor-detection/brain_tumor_dataset/yes/Y181.jpg\n",
      "/kaggle/input/brain-mri-images-for-brain-tumor-detection/brain_tumor_dataset/yes/Y81.jpg\n",
      "/kaggle/input/brain-mri-images-for-brain-tumor-detection/brain_tumor_dataset/yes/Y161.JPG\n",
      "/kaggle/input/brain-mri-images-for-brain-tumor-detection/brain_tumor_dataset/yes/Y17.jpg\n",
      "/kaggle/input/brain-mri-images-for-brain-tumor-detection/brain_tumor_dataset/yes/Y69.jpg\n",
      "/kaggle/input/brain-mri-images-for-brain-tumor-detection/brain_tumor_dataset/yes/Y158.JPG\n",
      "/kaggle/input/brain-mri-images-for-brain-tumor-detection/brain_tumor_dataset/yes/Y32.jpg\n",
      "/kaggle/input/brain-mri-images-for-brain-tumor-detection/brain_tumor_dataset/yes/Y186.jpg\n",
      "/kaggle/input/brain-mri-images-for-brain-tumor-detection/brain_tumor_dataset/yes/Y259.JPG\n",
      "/kaggle/input/brain-mri-images-for-brain-tumor-detection/brain_tumor_dataset/yes/Y42.jpg\n",
      "/kaggle/input/brain-mri-images-for-brain-tumor-detection/brain_tumor_dataset/yes/Y250.jpg\n",
      "/kaggle/input/brain-mri-images-for-brain-tumor-detection/brain_tumor_dataset/yes/Y58.JPG\n",
      "/kaggle/input/brain-mri-images-for-brain-tumor-detection/brain_tumor_dataset/yes/Y60.jpg\n",
      "/kaggle/input/brain-mri-images-for-brain-tumor-detection/brain_tumor_dataset/yes/Y252.jpg\n",
      "/kaggle/input/brain-mri-images-for-brain-tumor-detection/brain_tumor_dataset/yes/Y182.JPG\n",
      "/kaggle/input/brain-mri-images-for-brain-tumor-detection/brain_tumor_dataset/yes/Y154.jpg\n",
      "/kaggle/input/brain-mri-images-for-brain-tumor-detection/brain_tumor_dataset/yes/Y79.jpg\n",
      "/kaggle/input/brain-mri-images-for-brain-tumor-detection/brain_tumor_dataset/yes/Y31.jpg\n",
      "/kaggle/input/brain-mri-images-for-brain-tumor-detection/brain_tumor_dataset/yes/Y98.JPG\n",
      "/kaggle/input/brain-mri-images-for-brain-tumor-detection/brain_tumor_dataset/yes/Y91.jpg\n",
      "/kaggle/input/brain-mri-images-for-brain-tumor-detection/brain_tumor_dataset/yes/Y95.jpg\n",
      "/kaggle/input/brain-mri-images-for-brain-tumor-detection/brain_tumor_dataset/yes/Y22.jpg\n",
      "/kaggle/input/brain-mri-images-for-brain-tumor-detection/brain_tumor_dataset/yes/Y35.jpg\n",
      "/kaggle/input/brain-mri-images-for-brain-tumor-detection/brain_tumor_dataset/yes/Y33.jpg\n",
      "/kaggle/input/brain-mri-images-for-brain-tumor-detection/brain_tumor_dataset/yes/Y247.JPG\n",
      "/kaggle/input/brain-mri-images-for-brain-tumor-detection/brain_tumor_dataset/yes/Y19.JPG\n",
      "/kaggle/input/brain-mri-images-for-brain-tumor-detection/brain_tumor_dataset/yes/Y160.JPG\n",
      "/kaggle/input/brain-mri-images-for-brain-tumor-detection/brain_tumor_dataset/yes/Y13.jpg\n",
      "/kaggle/input/brain-mri-images-for-brain-tumor-detection/brain_tumor_dataset/yes/Y29.jpg\n",
      "/kaggle/input/brain-mri-images-for-brain-tumor-detection/brain_tumor_dataset/yes/Y55.jpg\n",
      "/kaggle/input/brain-mri-images-for-brain-tumor-detection/brain_tumor_dataset/yes/Y4.jpg\n",
      "/kaggle/input/brain-mri-images-for-brain-tumor-detection/brain_tumor_dataset/yes/Y50.JPG\n",
      "/kaggle/input/brain-mri-images-for-brain-tumor-detection/brain_tumor_dataset/yes/Y114.JPG\n",
      "/kaggle/input/brain-mri-images-for-brain-tumor-detection/brain_tumor_dataset/yes/Y26.jpg\n",
      "/kaggle/input/brain-mri-images-for-brain-tumor-detection/brain_tumor_dataset/yes/Y257.jpg\n",
      "/kaggle/input/brain-mri-images-for-brain-tumor-detection/brain_tumor_dataset/yes/Y97.JPG\n",
      "/kaggle/input/brain-mri-images-for-brain-tumor-detection/brain_tumor_dataset/yes/Y14.jpg\n",
      "/kaggle/input/brain-mri-images-for-brain-tumor-detection/brain_tumor_dataset/yes/Y25.jpg\n",
      "/kaggle/input/brain-mri-images-for-brain-tumor-detection/brain_tumor_dataset/yes/Y170.JPG\n",
      "/kaggle/input/brain-mri-images-for-brain-tumor-detection/brain_tumor_dataset/yes/Y51.jpg\n",
      "/kaggle/input/brain-mri-images-for-brain-tumor-detection/brain_tumor_dataset/yes/Y34.jpg\n",
      "/kaggle/input/brain-mri-images-for-brain-tumor-detection/brain_tumor_dataset/yes/Y39.jpg\n",
      "/kaggle/input/brain-mri-images-for-brain-tumor-detection/brain_tumor_dataset/yes/Y15.jpg\n",
      "/kaggle/input/brain-mri-images-for-brain-tumor-detection/brain_tumor_dataset/yes/Y104.jpg\n",
      "/kaggle/input/brain-mri-images-for-brain-tumor-detection/brain_tumor_dataset/yes/Y187.jpg\n",
      "/kaggle/input/brain-mri-images-for-brain-tumor-detection/brain_tumor_dataset/yes/Y167.JPG\n",
      "/kaggle/input/brain-mri-images-for-brain-tumor-detection/brain_tumor_dataset/yes/Y40.JPG\n",
      "/kaggle/input/brain-mri-images-for-brain-tumor-detection/brain_tumor_dataset/yes/Y38.jpg\n",
      "/kaggle/input/brain-mri-images-for-brain-tumor-detection/brain_tumor_dataset/yes/Y111.JPG\n",
      "/kaggle/input/brain-mri-images-for-brain-tumor-detection/brain_tumor_dataset/yes/Y37.jpg\n",
      "/kaggle/input/brain-mri-images-for-brain-tumor-detection/brain_tumor_dataset/yes/Y24.jpg\n",
      "/kaggle/input/brain-mri-images-for-brain-tumor-detection/brain_tumor_dataset/yes/Y157.JPG\n",
      "/kaggle/input/brain-mri-images-for-brain-tumor-detection/brain_tumor_dataset/yes/Y6.jpg\n",
      "/kaggle/input/brain-mri-images-for-brain-tumor-detection/brain_tumor_dataset/yes/Y28.jpg\n",
      "/kaggle/input/brain-mri-images-for-brain-tumor-detection/brain_tumor_dataset/yes/Y164.JPG\n",
      "/kaggle/input/brain-mri-images-for-brain-tumor-detection/brain_tumor_dataset/yes/Y30.jpg\n",
      "/kaggle/input/brain-mri-images-for-brain-tumor-detection/brain_tumor_dataset/yes/Y90.jpg\n",
      "/kaggle/input/brain-mri-images-for-brain-tumor-detection/brain_tumor_dataset/yes/Y92.jpg\n",
      "/kaggle/input/brain-mri-images-for-brain-tumor-detection/brain_tumor_dataset/yes/Y86.JPG\n",
      "/kaggle/input/brain-mri-images-for-brain-tumor-detection/brain_tumor_dataset/yes/Y46.jpg\n",
      "/kaggle/input/brain-mri-images-for-brain-tumor-detection/brain_tumor_dataset/yes/Y248.JPG\n",
      "/kaggle/input/brain-mri-images-for-brain-tumor-detection/brain_tumor_dataset/yes/Y1.jpg\n",
      "/kaggle/input/brain-mri-images-for-brain-tumor-detection/brain_tumor_dataset/yes/Y2.jpg\n",
      "/kaggle/input/brain-mri-images-for-brain-tumor-detection/brain_tumor_dataset/yes/Y62.jpg\n",
      "/kaggle/input/brain-mri-images-for-brain-tumor-detection/brain_tumor_dataset/yes/Y67.JPG\n",
      "/kaggle/input/brain-mri-images-for-brain-tumor-detection/brain_tumor_dataset/yes/Y109.JPG\n",
      "/kaggle/input/brain-mri-images-for-brain-tumor-detection/brain_tumor_dataset/yes/Y117.JPG\n",
      "/kaggle/input/brain-mri-images-for-brain-tumor-detection/brain_tumor_dataset/yes/Y194.jpg\n",
      "/kaggle/input/brain-mri-images-for-brain-tumor-detection/brain_tumor_dataset/yes/Y71.JPG\n",
      "/kaggle/input/brain-mri-images-for-brain-tumor-detection/brain_tumor_dataset/yes/Y7.jpg\n",
      "/kaggle/input/brain-mri-images-for-brain-tumor-detection/brain_tumor_dataset/yes/Y59.JPG\n",
      "/kaggle/input/brain-mri-images-for-brain-tumor-detection/brain_tumor_dataset/yes/Y246.JPG\n",
      "/kaggle/input/brain-mri-images-for-brain-tumor-detection/brain_tumor_dataset/yes/Y66.JPG\n",
      "/kaggle/input/brain-mri-images-for-brain-tumor-detection/brain_tumor_dataset/yes/Y148.JPG\n",
      "/kaggle/input/brain-mri-images-for-brain-tumor-detection/brain_tumor_dataset/yes/Y243.JPG\n",
      "/kaggle/input/brain-mri-images-for-brain-tumor-detection/brain_tumor_dataset/yes/Y56.jpg\n",
      "/kaggle/input/brain-mri-images-for-brain-tumor-detection/brain_tumor_dataset/yes/Y18.JPG\n",
      "/kaggle/input/brain-mri-images-for-brain-tumor-detection/brain_tumor_dataset/yes/Y23.JPG\n",
      "/kaggle/input/brain-mri-images-for-brain-tumor-detection/brain_tumor_dataset/yes/Y96.jpg\n",
      "/kaggle/input/brain-mri-images-for-brain-tumor-detection/brain_tumor_dataset/yes/Y195.JPG\n",
      "/kaggle/input/brain-mri-images-for-brain-tumor-detection/brain_tumor_dataset/yes/Y65.JPG\n",
      "/kaggle/input/brain-mri-images-for-brain-tumor-detection/brain_tumor_dataset/yes/Y16.JPG\n",
      "/kaggle/input/brain-mri-images-for-brain-tumor-detection/brain_tumor_dataset/yes/Y193.JPG\n",
      "/kaggle/input/brain-mri-images-for-brain-tumor-detection/brain_tumor_dataset/yes/Y45.JPG\n",
      "/kaggle/input/brain-mri-images-for-brain-tumor-detection/brain_tumor_dataset/yes/Y53.jpg\n",
      "/kaggle/input/brain-mri-images-for-brain-tumor-detection/brain_tumor_dataset/yes/Y245.jpg\n",
      "/kaggle/input/brain-mri-images-for-brain-tumor-detection/brain_tumor_dataset/yes/Y159.JPG\n",
      "/kaggle/input/brain-mri-images-for-brain-tumor-detection/brain_tumor_dataset/yes/Y12.jpg\n",
      "/kaggle/input/brain-mri-images-for-brain-tumor-detection/brain_tumor_dataset/yes/Y100.JPG\n",
      "/kaggle/input/brain-mri-images-for-brain-tumor-detection/brain_tumor_dataset/yes/Y102.jpg\n",
      "/kaggle/input/brain-mri-images-for-brain-tumor-detection/brain_tumor_dataset/yes/Y75.JPG\n",
      "/kaggle/input/brain-mri-images-for-brain-tumor-detection/brain_tumor_dataset/yes/Y256.JPG\n",
      "/kaggle/input/brain-mri-images-for-brain-tumor-detection/brain_tumor_dataset/yes/Y10.jpg\n",
      "/kaggle/input/brain-mri-images-for-brain-tumor-detection/brain_tumor_dataset/yes/Y253.JPG\n",
      "/kaggle/input/brain-mri-images-for-brain-tumor-detection/brain_tumor_dataset/yes/Y105.jpg\n",
      "/kaggle/input/brain-mri-images-for-brain-tumor-detection/brain_tumor_dataset/yes/Y166.JPG\n",
      "/kaggle/input/brain-mri-images-for-brain-tumor-detection/brain_tumor_dataset/yes/Y61.jpg\n",
      "/kaggle/input/brain-mri-images-for-brain-tumor-detection/brain_tumor_dataset/yes/Y47.JPG\n",
      "/kaggle/input/brain-mri-images-for-brain-tumor-detection/brain_tumor_dataset/yes/Y255.JPG\n",
      "/kaggle/input/brain-mri-images-for-brain-tumor-detection/brain_tumor_dataset/yes/Y70.jpg\n",
      "/kaggle/input/brain-mri-images-for-brain-tumor-detection/brain_tumor_dataset/yes/Y168.jpg\n",
      "/kaggle/input/brain-mri-images-for-brain-tumor-detection/brain_tumor_dataset/yes/Y163.JPG\n",
      "/kaggle/input/brain-mri-images-for-brain-tumor-detection/brain_tumor_dataset/yes/Y188.jpg\n",
      "/kaggle/input/brain-mri-images-for-brain-tumor-detection/brain_tumor_dataset/yes/Y242.JPG\n",
      "/kaggle/input/brain-mri-images-for-brain-tumor-detection/brain_tumor_dataset/yes/Y21.jpg\n",
      "/kaggle/input/brain-mri-images-for-brain-tumor-detection/brain_tumor_dataset/yes/Y36.JPG\n",
      "/kaggle/input/brain-mri-images-for-brain-tumor-detection/brain_tumor_dataset/yes/Y254.jpg\n",
      "/kaggle/input/brain-mri-images-for-brain-tumor-detection/brain_tumor_dataset/yes/Y183.jpg\n",
      "/kaggle/input/brain-mri-images-for-brain-tumor-detection/brain_tumor_dataset/yes/Y74.jpg\n",
      "/kaggle/input/brain-mri-images-for-brain-tumor-detection/brain_tumor_dataset/yes/Y251.JPG\n",
      "/kaggle/input/brain-mri-images-for-brain-tumor-detection/brain_tumor_dataset/yes/Y52.jpg\n",
      "/kaggle/input/brain-mri-images-for-brain-tumor-detection/brain_tumor_dataset/yes/Y153.jpg\n",
      "/kaggle/input/brain-mri-images-for-brain-tumor-detection/brain_tumor_dataset/yes/Y156.JPG\n",
      "/kaggle/input/brain-mri-images-for-brain-tumor-detection/brain_tumor_dataset/yes/Y11.jpg\n",
      "/kaggle/input/brain-mri-images-for-brain-tumor-detection/brain_tumor_dataset/yes/Y77.jpg\n",
      "/kaggle/input/brain-mri-images-for-brain-tumor-detection/brain_tumor_dataset/yes/Y249.JPG\n",
      "/kaggle/input/brain-mri-images-for-brain-tumor-detection/brain_tumor_dataset/yes/Y41.jpg\n",
      "/kaggle/input/brain-mri-images-for-brain-tumor-detection/brain_tumor_dataset/yes/Y76.jpg\n",
      "/kaggle/input/brain-mri-images-for-brain-tumor-detection/brain_tumor_dataset/yes/Y78.jpg\n",
      "/kaggle/input/brain-mri-images-for-brain-tumor-detection/brain_tumor_dataset/yes/Y20.jpg\n",
      "/kaggle/input/brain-mri-images-for-brain-tumor-detection/brain_tumor_dataset/yes/Y85.JPG\n",
      "/kaggle/input/brain-mri-images-for-brain-tumor-detection/brain_tumor_dataset/yes/Y49.JPG\n",
      "/kaggle/input/brain-mri-images-for-brain-tumor-detection/brain_tumor_dataset/yes/Y244.JPG\n",
      "/kaggle/input/brain-mri-images-for-brain-tumor-detection/brain_tumor_dataset/yes/Y8.jpg\n",
      "/kaggle/input/brain-mri-images-for-brain-tumor-detection/brain_tumor_dataset/yes/Y107.jpg\n",
      "/kaggle/input/brain-mri-images-for-brain-tumor-detection/brain_tumor_dataset/yes/Y113.JPG\n",
      "/kaggle/input/brain-mri-images-for-brain-tumor-detection/brain_tumor_dataset/yes/Y101.jpg\n",
      "/kaggle/input/brain-mri-images-for-brain-tumor-detection/brain_tumor_dataset/yes/Y89.JPG\n",
      "/kaggle/input/brain-mri-images-for-brain-tumor-detection/brain_tumor_dataset/yes/Y44.JPG\n",
      "/kaggle/input/brain-mri-images-for-brain-tumor-detection/brain_tumor_dataset/yes/Y92.png\n"
     ]
    }
   ],
   "source": [
    "# This Python 3 environment comes with many helpful analytics libraries installed\n",
    "# It is defined by the kaggle/python Docker image: https://github.com/kaggle/docker-python\n",
    "# For example, here's several helpful packages to load\n",
    "\n",
    "import numpy as np # linear algebra\n",
    "import pandas as pd # data processing, CSV file I/O (e.g. pd.read_csv)\n",
    "from sklearn.model_selection import train_test_split\n",
    "import tensorflow as tf\n",
    "from tensorflow.keras.preprocessing.image import ImageDataGenerator\n",
    "from tensorflow.keras.models import Sequential\n",
    "from tensorflow.keras.layers import Conv2D, MaxPooling2D, Flatten, Dense, Dropout\n",
    "from tensorflow.keras.optimizers import Adam\n",
    "from tensorflow.keras.utils import Sequence\n",
    "from tensorflow.keras.preprocessing.image import load_img, img_to_array\n",
    "import matplotlib.pyplot as plt\n",
    "import os\n",
    "# Input data files are available in the read-only \"../input/\" directory\n",
    "# For example, running this (by clicking run or pressing Shift+Enter) will list all files under the input directory\n",
    "\n",
    "import os\n",
    "for dirname, _, filenames in os.walk('/kaggle/input'):\n",
    "    for filename in filenames:\n",
    "        print(os.path.join(dirname, filename))\n",
    "\n",
    "# You can write up to 20GB to the current directory (/kaggle/working/) that gets preserved as output when you create a version using \"Save & Run All\" \n",
    "# You can also write temporary files to /kaggle/temp/, but they won't be saved outside of the current session"
   ]
  },
  {
   "cell_type": "markdown",
   "id": "3a4a7353",
   "metadata": {
    "papermill": {
     "duration": 0.006799,
     "end_time": "2024-06-02T12:11:40.365438",
     "exception": false,
     "start_time": "2024-06-02T12:11:40.358639",
     "status": "completed"
    },
    "tags": []
   },
   "source": [
    "#  Using ImageDataGenerator to load images directly from the given directories and split them into training and validation sets."
   ]
  },
  {
   "cell_type": "markdown",
   "id": "737390ff",
   "metadata": {
    "papermill": {
     "duration": 0.006664,
     "end_time": "2024-06-02T12:11:40.378656",
     "exception": false,
     "start_time": "2024-06-02T12:11:40.371992",
     "status": "completed"
    },
    "tags": []
   },
   "source": [
    "## Define Image Paths and Parameters"
   ]
  },
  {
   "cell_type": "code",
   "execution_count": 2,
   "id": "d2d58945",
   "metadata": {
    "execution": {
     "iopub.execute_input": "2024-06-02T12:11:40.393186Z",
     "iopub.status.busy": "2024-06-02T12:11:40.392653Z",
     "iopub.status.idle": "2024-06-02T12:11:40.396870Z",
     "shell.execute_reply": "2024-06-02T12:11:40.396006Z"
    },
    "papermill": {
     "duration": 0.013223,
     "end_time": "2024-06-02T12:11:40.398703",
     "exception": false,
     "start_time": "2024-06-02T12:11:40.385480",
     "status": "completed"
    },
    "tags": []
   },
   "outputs": [],
   "source": [
    "no_tumor_dir = '/kaggle/input/brain-mri-images-for-brain-tumor-detection/no'\n",
    "yes_tumor_dir = '/kaggle/input/brain-mri-images-for-brain-tumor-detection/yes'"
   ]
  },
  {
   "cell_type": "code",
   "execution_count": 3,
   "id": "c3d5c126",
   "metadata": {
    "execution": {
     "iopub.execute_input": "2024-06-02T12:11:40.412106Z",
     "iopub.status.busy": "2024-06-02T12:11:40.411864Z",
     "iopub.status.idle": "2024-06-02T12:11:40.415637Z",
     "shell.execute_reply": "2024-06-02T12:11:40.414809Z"
    },
    "papermill": {
     "duration": 0.012717,
     "end_time": "2024-06-02T12:11:40.417554",
     "exception": false,
     "start_time": "2024-06-02T12:11:40.404837",
     "status": "completed"
    },
    "tags": []
   },
   "outputs": [],
   "source": [
    "img_height, img_width = 150, 150\n",
    "batch_size = 32\n",
    "epochs = 10"
   ]
  },
  {
   "cell_type": "markdown",
   "id": "52fc2b33",
   "metadata": {
    "papermill": {
     "duration": 0.006334,
     "end_time": "2024-06-02T12:11:40.430787",
     "exception": false,
     "start_time": "2024-06-02T12:11:40.424453",
     "status": "completed"
    },
    "tags": []
   },
   "source": [
    "# Prepare Image Data Generators"
   ]
  },
  {
   "cell_type": "markdown",
   "id": "44c8138c",
   "metadata": {
    "papermill": {
     "duration": 0.006875,
     "end_time": "2024-06-02T12:11:40.444264",
     "exception": false,
     "start_time": "2024-06-02T12:11:40.437389",
     "status": "completed"
    },
    "tags": []
   },
   "source": [
    "## Since you have separate directories for no and yes, we need to combine them into a single directory structure compatible with ImageDataGenerator. However,creating new directories might not be feasible. Instead, we can create a custom DataFrame to handle this."
   ]
  },
  {
   "cell_type": "code",
   "execution_count": 4,
   "id": "69f56f2a",
   "metadata": {
    "execution": {
     "iopub.execute_input": "2024-06-02T12:11:40.468386Z",
     "iopub.status.busy": "2024-06-02T12:11:40.468118Z",
     "iopub.status.idle": "2024-06-02T12:11:40.473472Z",
     "shell.execute_reply": "2024-06-02T12:11:40.472807Z"
    },
    "papermill": {
     "duration": 0.014294,
     "end_time": "2024-06-02T12:11:40.475347",
     "exception": false,
     "start_time": "2024-06-02T12:11:40.461053",
     "status": "completed"
    },
    "tags": []
   },
   "outputs": [],
   "source": [
    "no_tumor_files = [os.path.join(no_tumor_dir, fname) for fname in os.listdir(no_tumor_dir)]\n",
    "yes_tumor_files = [os.path.join(yes_tumor_dir, fname) for fname in os.listdir(yes_tumor_dir)]"
   ]
  },
  {
   "cell_type": "code",
   "execution_count": 5,
   "id": "784b5e51",
   "metadata": {
    "execution": {
     "iopub.execute_input": "2024-06-02T12:11:40.490884Z",
     "iopub.status.busy": "2024-06-02T12:11:40.490514Z",
     "iopub.status.idle": "2024-06-02T12:11:40.499270Z",
     "shell.execute_reply": "2024-06-02T12:11:40.498138Z"
    },
    "papermill": {
     "duration": 0.019334,
     "end_time": "2024-06-02T12:11:40.501330",
     "exception": false,
     "start_time": "2024-06-02T12:11:40.481996",
     "status": "completed"
    },
    "tags": []
   },
   "outputs": [],
   "source": [
    "data = pd.DataFrame({\n",
    "    'filename': no_tumor_files + yes_tumor_files,\n",
    "    'label': [0] * len(no_tumor_files) + [1] * len(yes_tumor_files)\n",
    "})"
   ]
  },
  {
   "cell_type": "code",
   "execution_count": 6,
   "id": "65c62d49",
   "metadata": {
    "execution": {
     "iopub.execute_input": "2024-06-02T12:11:40.515901Z",
     "iopub.status.busy": "2024-06-02T12:11:40.515662Z",
     "iopub.status.idle": "2024-06-02T12:11:40.542904Z",
     "shell.execute_reply": "2024-06-02T12:11:40.541986Z"
    },
    "papermill": {
     "duration": 0.036117,
     "end_time": "2024-06-02T12:11:40.544774",
     "exception": false,
     "start_time": "2024-06-02T12:11:40.508657",
     "status": "completed"
    },
    "tags": []
   },
   "outputs": [
    {
     "name": "stdout",
     "output_type": "stream",
     "text": [
      "                                            filename  label\n",
      "0  /kaggle/input/brain-mri-images-for-brain-tumor...      0\n",
      "1  /kaggle/input/brain-mri-images-for-brain-tumor...      0\n",
      "2  /kaggle/input/brain-mri-images-for-brain-tumor...      0\n",
      "3  /kaggle/input/brain-mri-images-for-brain-tumor...      1\n",
      "4  /kaggle/input/brain-mri-images-for-brain-tumor...      0\n",
      "                                            filename  label\n",
      "0  /kaggle/input/brain-mri-images-for-brain-tumor...      0\n",
      "1  /kaggle/input/brain-mri-images-for-brain-tumor...      1\n",
      "2  /kaggle/input/brain-mri-images-for-brain-tumor...      0\n",
      "3  /kaggle/input/brain-mri-images-for-brain-tumor...      1\n",
      "4  /kaggle/input/brain-mri-images-for-brain-tumor...      0\n"
     ]
    }
   ],
   "source": [
    "train_df, val_df = train_test_split(data, test_size=0.2, stratify=data['label'], random_state=42)\n",
    "\n",
    "train_df = train_df.reset_index(drop=True)\n",
    "val_df = val_df.reset_index(drop=True)\n",
    "\n",
    "print(train_df.head())\n",
    "print(val_df.head())"
   ]
  },
  {
   "cell_type": "markdown",
   "id": "95012b1c",
   "metadata": {
    "papermill": {
     "duration": 0.006298,
     "end_time": "2024-06-02T12:11:40.557491",
     "exception": false,
     "start_time": "2024-06-02T12:11:40.551193",
     "status": "completed"
    },
    "tags": []
   },
   "source": [
    "# Define Custom Data Generators"
   ]
  },
  {
   "cell_type": "markdown",
   "id": "0531f0c5",
   "metadata": {
    "papermill": {
     "duration": 0.006117,
     "end_time": "2024-06-02T12:11:40.569877",
     "exception": false,
     "start_time": "2024-06-02T12:11:40.563760",
     "status": "completed"
    },
    "tags": []
   },
   "source": [
    "## We need custom data generators to handle DataFrame inputs."
   ]
  },
  {
   "cell_type": "code",
   "execution_count": 7,
   "id": "23c143f7",
   "metadata": {
    "execution": {
     "iopub.execute_input": "2024-06-02T12:11:40.583665Z",
     "iopub.status.busy": "2024-06-02T12:11:40.583424Z",
     "iopub.status.idle": "2024-06-02T12:11:40.593236Z",
     "shell.execute_reply": "2024-06-02T12:11:40.592284Z"
    },
    "papermill": {
     "duration": 0.019407,
     "end_time": "2024-06-02T12:11:40.595561",
     "exception": false,
     "start_time": "2024-06-02T12:11:40.576154",
     "status": "completed"
    },
    "tags": []
   },
   "outputs": [],
   "source": [
    "class DataFrameImageGenerator(Sequence):\n",
    "    def __init__(self, dataframe, batch_size, img_size, shuffle=True):\n",
    "        self.dataframe = dataframe\n",
    "        self.batch_size = batch_size\n",
    "        self.img_size = img_size\n",
    "        self.shuffle = shuffle\n",
    "        self.on_epoch_end()\n",
    "\n",
    "    def __len__(self):\n",
    "        return int(len(self.dataframe) // self.batch_size)\n",
    "\n",
    "    def __getitem__(self, index):\n",
    "        batch = self.dataframe[index * self.batch_size:(index + 1) * self.batch_size]\n",
    "        images = []\n",
    "        labels = []\n",
    "        for _, row in batch.iterrows():\n",
    "            img = load_img(row['filename'], target_size=self.img_size)\n",
    "            img = img_to_array(img) / 255.0\n",
    "            images.append(img)\n",
    "            labels.append(row['label'])\n",
    "        return tf.convert_to_tensor(images), tf.convert_to_tensor(labels)\n",
    "\n",
    "    def on_epoch_end(self):\n",
    "        if self.shuffle:\n",
    "            self.dataframe = self.dataframe.sample(frac=1).reset_index(drop=True)"
   ]
  },
  {
   "cell_type": "code",
   "execution_count": 8,
   "id": "6d2460ec",
   "metadata": {
    "execution": {
     "iopub.execute_input": "2024-06-02T12:11:40.611277Z",
     "iopub.status.busy": "2024-06-02T12:11:40.610951Z",
     "iopub.status.idle": "2024-06-02T12:11:40.616959Z",
     "shell.execute_reply": "2024-06-02T12:11:40.615865Z"
    },
    "papermill": {
     "duration": 0.016135,
     "end_time": "2024-06-02T12:11:40.619095",
     "exception": false,
     "start_time": "2024-06-02T12:11:40.602960",
     "status": "completed"
    },
    "tags": []
   },
   "outputs": [],
   "source": [
    "train_generator = DataFrameImageGenerator(train_df, batch_size, (img_height, img_width))\n",
    "val_generator = DataFrameImageGenerator(val_df, batch_size, (img_height, img_width))"
   ]
  },
  {
   "cell_type": "markdown",
   "id": "a7d29f67",
   "metadata": {
    "papermill": {
     "duration": 0.007012,
     "end_time": "2024-06-02T12:11:40.633278",
     "exception": false,
     "start_time": "2024-06-02T12:11:40.626266",
     "status": "completed"
    },
    "tags": []
   },
   "source": [
    "#  Build the CNN Model"
   ]
  },
  {
   "cell_type": "code",
   "execution_count": 9,
   "id": "2ba28098",
   "metadata": {
    "execution": {
     "iopub.execute_input": "2024-06-02T12:11:40.648708Z",
     "iopub.status.busy": "2024-06-02T12:11:40.648418Z",
     "iopub.status.idle": "2024-06-02T12:11:41.581681Z",
     "shell.execute_reply": "2024-06-02T12:11:41.580807Z"
    },
    "papermill": {
     "duration": 0.943286,
     "end_time": "2024-06-02T12:11:41.583651",
     "exception": false,
     "start_time": "2024-06-02T12:11:40.640365",
     "status": "completed"
    },
    "tags": []
   },
   "outputs": [
    {
     "name": "stderr",
     "output_type": "stream",
     "text": [
      "/opt/conda/lib/python3.10/site-packages/keras/src/layers/convolutional/base_conv.py:107: UserWarning: Do not pass an `input_shape`/`input_dim` argument to a layer. When using Sequential models, prefer using an `Input(shape)` object as the first layer in the model instead.\n",
      "  super().__init__(activity_regularizer=activity_regularizer, **kwargs)\n"
     ]
    },
    {
     "data": {
      "text/html": [
       "<pre style=\"white-space:pre;overflow-x:auto;line-height:normal;font-family:Menlo,'DejaVu Sans Mono',consolas,'Courier New',monospace\"><span style=\"font-weight: bold\">Model: \"sequential\"</span>\n",
       "</pre>\n"
      ],
      "text/plain": [
       "\u001b[1mModel: \"sequential\"\u001b[0m\n"
      ]
     },
     "metadata": {},
     "output_type": "display_data"
    },
    {
     "data": {
      "text/html": [
       "<pre style=\"white-space:pre;overflow-x:auto;line-height:normal;font-family:Menlo,'DejaVu Sans Mono',consolas,'Courier New',monospace\">┏━━━━━━━━━━━━━━━━━━━━━━━━━━━━━━━━━┳━━━━━━━━━━━━━━━━━━━━━━━━┳━━━━━━━━━━━━━━━┓\n",
       "┃<span style=\"font-weight: bold\"> Layer (type)                    </span>┃<span style=\"font-weight: bold\"> Output Shape           </span>┃<span style=\"font-weight: bold\">       Param # </span>┃\n",
       "┡━━━━━━━━━━━━━━━━━━━━━━━━━━━━━━━━━╇━━━━━━━━━━━━━━━━━━━━━━━━╇━━━━━━━━━━━━━━━┩\n",
       "│ conv2d (<span style=\"color: #0087ff; text-decoration-color: #0087ff\">Conv2D</span>)                 │ (<span style=\"color: #00d7ff; text-decoration-color: #00d7ff\">None</span>, <span style=\"color: #00af00; text-decoration-color: #00af00\">148</span>, <span style=\"color: #00af00; text-decoration-color: #00af00\">148</span>, <span style=\"color: #00af00; text-decoration-color: #00af00\">32</span>)   │           <span style=\"color: #00af00; text-decoration-color: #00af00\">896</span> │\n",
       "├─────────────────────────────────┼────────────────────────┼───────────────┤\n",
       "│ max_pooling2d (<span style=\"color: #0087ff; text-decoration-color: #0087ff\">MaxPooling2D</span>)    │ (<span style=\"color: #00d7ff; text-decoration-color: #00d7ff\">None</span>, <span style=\"color: #00af00; text-decoration-color: #00af00\">74</span>, <span style=\"color: #00af00; text-decoration-color: #00af00\">74</span>, <span style=\"color: #00af00; text-decoration-color: #00af00\">32</span>)     │             <span style=\"color: #00af00; text-decoration-color: #00af00\">0</span> │\n",
       "├─────────────────────────────────┼────────────────────────┼───────────────┤\n",
       "│ conv2d_1 (<span style=\"color: #0087ff; text-decoration-color: #0087ff\">Conv2D</span>)               │ (<span style=\"color: #00d7ff; text-decoration-color: #00d7ff\">None</span>, <span style=\"color: #00af00; text-decoration-color: #00af00\">72</span>, <span style=\"color: #00af00; text-decoration-color: #00af00\">72</span>, <span style=\"color: #00af00; text-decoration-color: #00af00\">64</span>)     │        <span style=\"color: #00af00; text-decoration-color: #00af00\">18,496</span> │\n",
       "├─────────────────────────────────┼────────────────────────┼───────────────┤\n",
       "│ max_pooling2d_1 (<span style=\"color: #0087ff; text-decoration-color: #0087ff\">MaxPooling2D</span>)  │ (<span style=\"color: #00d7ff; text-decoration-color: #00d7ff\">None</span>, <span style=\"color: #00af00; text-decoration-color: #00af00\">36</span>, <span style=\"color: #00af00; text-decoration-color: #00af00\">36</span>, <span style=\"color: #00af00; text-decoration-color: #00af00\">64</span>)     │             <span style=\"color: #00af00; text-decoration-color: #00af00\">0</span> │\n",
       "├─────────────────────────────────┼────────────────────────┼───────────────┤\n",
       "│ conv2d_2 (<span style=\"color: #0087ff; text-decoration-color: #0087ff\">Conv2D</span>)               │ (<span style=\"color: #00d7ff; text-decoration-color: #00d7ff\">None</span>, <span style=\"color: #00af00; text-decoration-color: #00af00\">34</span>, <span style=\"color: #00af00; text-decoration-color: #00af00\">34</span>, <span style=\"color: #00af00; text-decoration-color: #00af00\">128</span>)    │        <span style=\"color: #00af00; text-decoration-color: #00af00\">73,856</span> │\n",
       "├─────────────────────────────────┼────────────────────────┼───────────────┤\n",
       "│ max_pooling2d_2 (<span style=\"color: #0087ff; text-decoration-color: #0087ff\">MaxPooling2D</span>)  │ (<span style=\"color: #00d7ff; text-decoration-color: #00d7ff\">None</span>, <span style=\"color: #00af00; text-decoration-color: #00af00\">17</span>, <span style=\"color: #00af00; text-decoration-color: #00af00\">17</span>, <span style=\"color: #00af00; text-decoration-color: #00af00\">128</span>)    │             <span style=\"color: #00af00; text-decoration-color: #00af00\">0</span> │\n",
       "├─────────────────────────────────┼────────────────────────┼───────────────┤\n",
       "│ flatten (<span style=\"color: #0087ff; text-decoration-color: #0087ff\">Flatten</span>)               │ (<span style=\"color: #00d7ff; text-decoration-color: #00d7ff\">None</span>, <span style=\"color: #00af00; text-decoration-color: #00af00\">36992</span>)          │             <span style=\"color: #00af00; text-decoration-color: #00af00\">0</span> │\n",
       "├─────────────────────────────────┼────────────────────────┼───────────────┤\n",
       "│ dense (<span style=\"color: #0087ff; text-decoration-color: #0087ff\">Dense</span>)                   │ (<span style=\"color: #00d7ff; text-decoration-color: #00d7ff\">None</span>, <span style=\"color: #00af00; text-decoration-color: #00af00\">128</span>)            │     <span style=\"color: #00af00; text-decoration-color: #00af00\">4,735,104</span> │\n",
       "├─────────────────────────────────┼────────────────────────┼───────────────┤\n",
       "│ dropout (<span style=\"color: #0087ff; text-decoration-color: #0087ff\">Dropout</span>)               │ (<span style=\"color: #00d7ff; text-decoration-color: #00d7ff\">None</span>, <span style=\"color: #00af00; text-decoration-color: #00af00\">128</span>)            │             <span style=\"color: #00af00; text-decoration-color: #00af00\">0</span> │\n",
       "├─────────────────────────────────┼────────────────────────┼───────────────┤\n",
       "│ dense_1 (<span style=\"color: #0087ff; text-decoration-color: #0087ff\">Dense</span>)                 │ (<span style=\"color: #00d7ff; text-decoration-color: #00d7ff\">None</span>, <span style=\"color: #00af00; text-decoration-color: #00af00\">1</span>)              │           <span style=\"color: #00af00; text-decoration-color: #00af00\">129</span> │\n",
       "└─────────────────────────────────┴────────────────────────┴───────────────┘\n",
       "</pre>\n"
      ],
      "text/plain": [
       "┏━━━━━━━━━━━━━━━━━━━━━━━━━━━━━━━━━┳━━━━━━━━━━━━━━━━━━━━━━━━┳━━━━━━━━━━━━━━━┓\n",
       "┃\u001b[1m \u001b[0m\u001b[1mLayer (type)                   \u001b[0m\u001b[1m \u001b[0m┃\u001b[1m \u001b[0m\u001b[1mOutput Shape          \u001b[0m\u001b[1m \u001b[0m┃\u001b[1m \u001b[0m\u001b[1m      Param #\u001b[0m\u001b[1m \u001b[0m┃\n",
       "┡━━━━━━━━━━━━━━━━━━━━━━━━━━━━━━━━━╇━━━━━━━━━━━━━━━━━━━━━━━━╇━━━━━━━━━━━━━━━┩\n",
       "│ conv2d (\u001b[38;5;33mConv2D\u001b[0m)                 │ (\u001b[38;5;45mNone\u001b[0m, \u001b[38;5;34m148\u001b[0m, \u001b[38;5;34m148\u001b[0m, \u001b[38;5;34m32\u001b[0m)   │           \u001b[38;5;34m896\u001b[0m │\n",
       "├─────────────────────────────────┼────────────────────────┼───────────────┤\n",
       "│ max_pooling2d (\u001b[38;5;33mMaxPooling2D\u001b[0m)    │ (\u001b[38;5;45mNone\u001b[0m, \u001b[38;5;34m74\u001b[0m, \u001b[38;5;34m74\u001b[0m, \u001b[38;5;34m32\u001b[0m)     │             \u001b[38;5;34m0\u001b[0m │\n",
       "├─────────────────────────────────┼────────────────────────┼───────────────┤\n",
       "│ conv2d_1 (\u001b[38;5;33mConv2D\u001b[0m)               │ (\u001b[38;5;45mNone\u001b[0m, \u001b[38;5;34m72\u001b[0m, \u001b[38;5;34m72\u001b[0m, \u001b[38;5;34m64\u001b[0m)     │        \u001b[38;5;34m18,496\u001b[0m │\n",
       "├─────────────────────────────────┼────────────────────────┼───────────────┤\n",
       "│ max_pooling2d_1 (\u001b[38;5;33mMaxPooling2D\u001b[0m)  │ (\u001b[38;5;45mNone\u001b[0m, \u001b[38;5;34m36\u001b[0m, \u001b[38;5;34m36\u001b[0m, \u001b[38;5;34m64\u001b[0m)     │             \u001b[38;5;34m0\u001b[0m │\n",
       "├─────────────────────────────────┼────────────────────────┼───────────────┤\n",
       "│ conv2d_2 (\u001b[38;5;33mConv2D\u001b[0m)               │ (\u001b[38;5;45mNone\u001b[0m, \u001b[38;5;34m34\u001b[0m, \u001b[38;5;34m34\u001b[0m, \u001b[38;5;34m128\u001b[0m)    │        \u001b[38;5;34m73,856\u001b[0m │\n",
       "├─────────────────────────────────┼────────────────────────┼───────────────┤\n",
       "│ max_pooling2d_2 (\u001b[38;5;33mMaxPooling2D\u001b[0m)  │ (\u001b[38;5;45mNone\u001b[0m, \u001b[38;5;34m17\u001b[0m, \u001b[38;5;34m17\u001b[0m, \u001b[38;5;34m128\u001b[0m)    │             \u001b[38;5;34m0\u001b[0m │\n",
       "├─────────────────────────────────┼────────────────────────┼───────────────┤\n",
       "│ flatten (\u001b[38;5;33mFlatten\u001b[0m)               │ (\u001b[38;5;45mNone\u001b[0m, \u001b[38;5;34m36992\u001b[0m)          │             \u001b[38;5;34m0\u001b[0m │\n",
       "├─────────────────────────────────┼────────────────────────┼───────────────┤\n",
       "│ dense (\u001b[38;5;33mDense\u001b[0m)                   │ (\u001b[38;5;45mNone\u001b[0m, \u001b[38;5;34m128\u001b[0m)            │     \u001b[38;5;34m4,735,104\u001b[0m │\n",
       "├─────────────────────────────────┼────────────────────────┼───────────────┤\n",
       "│ dropout (\u001b[38;5;33mDropout\u001b[0m)               │ (\u001b[38;5;45mNone\u001b[0m, \u001b[38;5;34m128\u001b[0m)            │             \u001b[38;5;34m0\u001b[0m │\n",
       "├─────────────────────────────────┼────────────────────────┼───────────────┤\n",
       "│ dense_1 (\u001b[38;5;33mDense\u001b[0m)                 │ (\u001b[38;5;45mNone\u001b[0m, \u001b[38;5;34m1\u001b[0m)              │           \u001b[38;5;34m129\u001b[0m │\n",
       "└─────────────────────────────────┴────────────────────────┴───────────────┘\n"
      ]
     },
     "metadata": {},
     "output_type": "display_data"
    },
    {
     "data": {
      "text/html": [
       "<pre style=\"white-space:pre;overflow-x:auto;line-height:normal;font-family:Menlo,'DejaVu Sans Mono',consolas,'Courier New',monospace\"><span style=\"font-weight: bold\"> Total params: </span><span style=\"color: #00af00; text-decoration-color: #00af00\">4,828,481</span> (18.42 MB)\n",
       "</pre>\n"
      ],
      "text/plain": [
       "\u001b[1m Total params: \u001b[0m\u001b[38;5;34m4,828,481\u001b[0m (18.42 MB)\n"
      ]
     },
     "metadata": {},
     "output_type": "display_data"
    },
    {
     "data": {
      "text/html": [
       "<pre style=\"white-space:pre;overflow-x:auto;line-height:normal;font-family:Menlo,'DejaVu Sans Mono',consolas,'Courier New',monospace\"><span style=\"font-weight: bold\"> Trainable params: </span><span style=\"color: #00af00; text-decoration-color: #00af00\">4,828,481</span> (18.42 MB)\n",
       "</pre>\n"
      ],
      "text/plain": [
       "\u001b[1m Trainable params: \u001b[0m\u001b[38;5;34m4,828,481\u001b[0m (18.42 MB)\n"
      ]
     },
     "metadata": {},
     "output_type": "display_data"
    },
    {
     "data": {
      "text/html": [
       "<pre style=\"white-space:pre;overflow-x:auto;line-height:normal;font-family:Menlo,'DejaVu Sans Mono',consolas,'Courier New',monospace\"><span style=\"font-weight: bold\"> Non-trainable params: </span><span style=\"color: #00af00; text-decoration-color: #00af00\">0</span> (0.00 B)\n",
       "</pre>\n"
      ],
      "text/plain": [
       "\u001b[1m Non-trainable params: \u001b[0m\u001b[38;5;34m0\u001b[0m (0.00 B)\n"
      ]
     },
     "metadata": {},
     "output_type": "display_data"
    }
   ],
   "source": [
    "model = Sequential([\n",
    "    Conv2D(32, (3, 3), activation='relu', input_shape=(img_height, img_width, 3)),\n",
    "    MaxPooling2D(pool_size=(2, 2)),\n",
    "    Conv2D(64, (3, 3), activation='relu'),\n",
    "    MaxPooling2D(pool_size=(2, 2)),\n",
    "    Conv2D(128, (3, 3), activation='relu'),\n",
    "    MaxPooling2D(pool_size=(2, 2)),\n",
    "    Flatten(),\n",
    "    Dense(128, activation='relu'),\n",
    "    Dropout(0.5),\n",
    "    Dense(1, activation='sigmoid')\n",
    "])\n",
    "\n",
    "model.compile(optimizer=Adam(learning_rate=0.001), \n",
    "              loss='binary_crossentropy', \n",
    "              metrics=['accuracy'])\n",
    "\n",
    "model.summary()"
   ]
  },
  {
   "cell_type": "markdown",
   "id": "190354c1",
   "metadata": {
    "papermill": {
     "duration": 0.007476,
     "end_time": "2024-06-02T12:11:41.598898",
     "exception": false,
     "start_time": "2024-06-02T12:11:41.591422",
     "status": "completed"
    },
    "tags": []
   },
   "source": [
    "# Train the Model"
   ]
  },
  {
   "cell_type": "code",
   "execution_count": 10,
   "id": "6d3bf82d",
   "metadata": {
    "execution": {
     "iopub.execute_input": "2024-06-02T12:11:41.615558Z",
     "iopub.status.busy": "2024-06-02T12:11:41.614852Z",
     "iopub.status.idle": "2024-06-02T12:13:45.496632Z",
     "shell.execute_reply": "2024-06-02T12:13:45.495812Z"
    },
    "papermill": {
     "duration": 123.892371,
     "end_time": "2024-06-02T12:13:45.498681",
     "exception": false,
     "start_time": "2024-06-02T12:11:41.606310",
     "status": "completed"
    },
    "tags": []
   },
   "outputs": [
    {
     "name": "stdout",
     "output_type": "stream",
     "text": [
      "Epoch 1/10\n"
     ]
    },
    {
     "name": "stderr",
     "output_type": "stream",
     "text": [
      "/opt/conda/lib/python3.10/site-packages/keras/src/trainers/data_adapters/py_dataset_adapter.py:121: UserWarning: Your `PyDataset` class should call `super().__init__(**kwargs)` in its constructor. `**kwargs` can include `workers`, `use_multiprocessing`, `max_queue_size`. Do not pass these arguments to `fit()`, as they will be ignored.\n",
      "  self._warn_if_super_not_called()\n"
     ]
    },
    {
     "name": "stdout",
     "output_type": "stream",
     "text": [
      "\u001b[1m4/6\u001b[0m \u001b[32m━━━━━━━━━━━━━\u001b[0m\u001b[37m━━━━━━━\u001b[0m \u001b[1m0s\u001b[0m 21ms/step - accuracy: 0.4473 - loss: 0.9633 "
     ]
    },
    {
     "name": "stderr",
     "output_type": "stream",
     "text": [
      "WARNING: All log messages before absl::InitializeLog() is called are written to STDERR\n",
      "I0000 00:00:1717330324.007140      70 device_compiler.h:186] Compiled cluster using XLA!  This line is logged at most once for the lifetime of the process.\n",
      "W0000 00:00:1717330324.025995      70 graph_launch.cc:671] Fallback to op-by-op mode because memset node breaks graph update\n"
     ]
    },
    {
     "name": "stdout",
     "output_type": "stream",
     "text": [
      "\u001b[1m6/6\u001b[0m \u001b[32m━━━━━━━━━━━━━━━━━━━━\u001b[0m\u001b[37m\u001b[0m \u001b[1m23s\u001b[0m 774ms/step - accuracy: 0.4666 - loss: 0.9172 - val_accuracy: 0.6875 - val_loss: 0.6640\n",
      "Epoch 2/10\n"
     ]
    },
    {
     "name": "stderr",
     "output_type": "stream",
     "text": [
      "W0000 00:00:1717330327.902726      69 graph_launch.cc:671] Fallback to op-by-op mode because memset node breaks graph update\n"
     ]
    },
    {
     "name": "stdout",
     "output_type": "stream",
     "text": [
      "\u001b[1m6/6\u001b[0m \u001b[32m━━━━━━━━━━━━━━━━━━━━\u001b[0m\u001b[37m\u001b[0m \u001b[1m11s\u001b[0m 358ms/step - accuracy: 0.7551 - loss: 0.6109 - val_accuracy: 0.7500 - val_loss: 0.5949\n",
      "Epoch 3/10\n",
      "\u001b[1m6/6\u001b[0m \u001b[32m━━━━━━━━━━━━━━━━━━━━\u001b[0m\u001b[37m\u001b[0m \u001b[1m11s\u001b[0m 341ms/step - accuracy: 0.7954 - loss: 0.5124 - val_accuracy: 0.8125 - val_loss: 0.5954\n",
      "Epoch 4/10\n",
      "\u001b[1m6/6\u001b[0m \u001b[32m━━━━━━━━━━━━━━━━━━━━\u001b[0m\u001b[37m\u001b[0m \u001b[1m11s\u001b[0m 338ms/step - accuracy: 0.7438 - loss: 0.4965 - val_accuracy: 0.8125 - val_loss: 0.4611\n",
      "Epoch 5/10\n",
      "\u001b[1m6/6\u001b[0m \u001b[32m━━━━━━━━━━━━━━━━━━━━\u001b[0m\u001b[37m\u001b[0m \u001b[1m11s\u001b[0m 342ms/step - accuracy: 0.7946 - loss: 0.4347 - val_accuracy: 0.7188 - val_loss: 0.7126\n",
      "Epoch 6/10\n",
      "\u001b[1m6/6\u001b[0m \u001b[32m━━━━━━━━━━━━━━━━━━━━\u001b[0m\u001b[37m\u001b[0m \u001b[1m11s\u001b[0m 337ms/step - accuracy: 0.7880 - loss: 0.4726 - val_accuracy: 0.7188 - val_loss: 0.6246\n",
      "Epoch 7/10\n",
      "\u001b[1m6/6\u001b[0m \u001b[32m━━━━━━━━━━━━━━━━━━━━\u001b[0m\u001b[37m\u001b[0m \u001b[1m11s\u001b[0m 349ms/step - accuracy: 0.7906 - loss: 0.4904 - val_accuracy: 0.7188 - val_loss: 0.6525\n",
      "Epoch 8/10\n",
      "\u001b[1m6/6\u001b[0m \u001b[32m━━━━━━━━━━━━━━━━━━━━\u001b[0m\u001b[37m\u001b[0m \u001b[1m11s\u001b[0m 343ms/step - accuracy: 0.8151 - loss: 0.3984 - val_accuracy: 0.6562 - val_loss: 0.7194\n",
      "Epoch 9/10\n",
      "\u001b[1m6/6\u001b[0m \u001b[32m━━━━━━━━━━━━━━━━━━━━\u001b[0m\u001b[37m\u001b[0m \u001b[1m11s\u001b[0m 339ms/step - accuracy: 0.8579 - loss: 0.3350 - val_accuracy: 0.7812 - val_loss: 0.6772\n",
      "Epoch 10/10\n",
      "\u001b[1m6/6\u001b[0m \u001b[32m━━━━━━━━━━━━━━━━━━━━\u001b[0m\u001b[37m\u001b[0m \u001b[1m11s\u001b[0m 337ms/step - accuracy: 0.8428 - loss: 0.3743 - val_accuracy: 0.8125 - val_loss: 0.4613\n"
     ]
    }
   ],
   "source": [
    "history = model.fit(\n",
    "    train_generator,\n",
    "    validation_data=val_generator,\n",
    "    epochs=epochs\n",
    ")"
   ]
  },
  {
   "cell_type": "markdown",
   "id": "cb166b9f",
   "metadata": {
    "papermill": {
     "duration": 0.011686,
     "end_time": "2024-06-02T12:13:45.522274",
     "exception": false,
     "start_time": "2024-06-02T12:13:45.510588",
     "status": "completed"
    },
    "tags": []
   },
   "source": [
    "# Visualize Training Results"
   ]
  },
  {
   "cell_type": "code",
   "execution_count": 11,
   "id": "ad653998",
   "metadata": {
    "execution": {
     "iopub.execute_input": "2024-06-02T12:13:45.548890Z",
     "iopub.status.busy": "2024-06-02T12:13:45.548529Z",
     "iopub.status.idle": "2024-06-02T12:13:45.900345Z",
     "shell.execute_reply": "2024-06-02T12:13:45.899423Z"
    },
    "papermill": {
     "duration": 0.368345,
     "end_time": "2024-06-02T12:13:45.902431",
     "exception": false,
     "start_time": "2024-06-02T12:13:45.534086",
     "status": "completed"
    },
    "tags": []
   },
   "outputs": [
    {
     "data": {
      "text/plain": [
       "<matplotlib.legend.Legend at 0x7ec1c454a620>"
      ]
     },
     "execution_count": 11,
     "metadata": {},
     "output_type": "execute_result"
    },
    {
     "data": {
      "image/png": "[encoded data removed]",
      "text/plain": [
       "<Figure size 1200x400 with 1 Axes>"
      ]
     },
     "metadata": {},
     "output_type": "display_data"
    }
   ],
   "source": [
    "plt.figure(figsize=(12, 4))\n",
    "plt.subplot(1, 2, 1)\n",
    "plt.plot(history.history['accuracy'])\n",
    "plt.plot(history.history['val_accuracy'])\n",
    "plt.title('Model accuracy')\n",
    "plt.ylabel('Accuracy')\n",
    "plt.xlabel('Epoch')\n",
    "plt.legend(['Train', 'Validation'], loc='upper left')"
   ]
  },
  {
   "cell_type": "code",
   "execution_count": 12,
   "id": "ad701681",
   "metadata": {
    "execution": {
     "iopub.execute_input": "2024-06-02T12:13:45.928485Z",
     "iopub.status.busy": "2024-06-02T12:13:45.927866Z",
     "iopub.status.idle": "2024-06-02T12:13:46.159136Z",
     "shell.execute_reply": "2024-06-02T12:13:46.158277Z"
    },
    "papermill": {
     "duration": 0.246333,
     "end_time": "2024-06-02T12:13:46.161116",
     "exception": false,
     "start_time": "2024-06-02T12:13:45.914783",
     "status": "completed"
    },
    "tags": []
   },
   "outputs": [
    {
     "data": {
      "image/png": "[encoded data removed]",
      "text/plain": [
       "<Figure size 640x480 with 1 Axes>"
      ]
     },
     "metadata": {},
     "output_type": "display_data"
    }
   ],
   "source": [
    "plt.subplot(1, 2, 2)\n",
    "plt.plot(history.history['loss'])\n",
    "plt.plot(history.history['val_loss'])\n",
    "plt.title('Model loss')\n",
    "plt.ylabel('Loss')\n",
    "plt.xlabel('Epoch')\n",
    "plt.legend(['Train', 'Validation'], loc='upper left')\n",
    "\n",
    "plt.tight_layout()\n",
    "plt.show()"
   ]
  },
  {
   "cell_type": "code",
   "execution_count": null,
   "id": "929a76b7",
   "metadata": {
    "papermill": {
     "duration": 0.012542,
     "end_time": "2024-06-02T12:13:46.186559",
     "exception": false,
     "start_time": "2024-06-02T12:13:46.174017",
     "status": "completed"
    },
    "tags": []
   },
   "outputs": [],
   "source": []
  }
 ],
 "metadata": {
  "kaggle": {
   "accelerator": "nvidiaTeslaT4",
   "dataSources": [
    {
     "datasetId": 165566,
     "sourceId": 377107,
     "sourceType": "datasetVersion"
    }
   ],
   "dockerImageVersionId": 30716,
   "isGpuEnabled": true,
   "isInternetEnabled": true,
   "language": "python",
   "sourceType": "notebook"
  },
  "kernelspec": {
   "display_name": "Python 3",
   "language": "python",
   "name": "python3"
  },
  "language_info": {
   "codemirror_mode": {
    "name": "ipython",
    "version": 3
   },
   "file_extension": ".py",
   "mimetype": "text/x-python",
   "name": "python",
   "nbconvert_exporter": "python",
   "pygments_lexer": "ipython3",
   "version": "3.10.13"
  },
  "papermill": {
   "default_parameters": {},
   "duration": 146.281595,
   "end_time": "2024-06-02T12:13:48.223606",
   "environment_variables": {},
   "exception": null,
   "input_path": "__notebook__.ipynb",
   "output_path": "__notebook__.ipynb",
   "parameters": {},
   "start_time": "2024-06-02T12:11:21.942011",
   "version": "2.5.0"
  }
 },
 "nbformat": 4,
 "nbformat_minor": 5
}
