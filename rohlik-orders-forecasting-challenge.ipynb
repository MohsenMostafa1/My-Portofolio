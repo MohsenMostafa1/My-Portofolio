{
 "cells": [
  {
   "cell_type": "markdown",
   "id": "31f49742",
   "metadata": {
    "papermill": {
     "duration": 0.0171,
     "end_time": "2024-07-11T04:49:13.742589",
     "exception": false,
     "start_time": "2024-07-11T04:49:13.725489",
     "status": "completed"
    },
    "tags": []
   },
   "source": [
    "Accurate order forecasts are crucial for planning process, impacting workforce allocation, delivery logistics, inventory management, and supply chain efficiency. By optimizing forecasts, we can minimize waste and streamline operations, making our e-grocery services more sustainable and efficient.\n",
    "\n",
    "\n",
    "\n",
    "<figure>\n",
    "        <img src=\"https://www.rohlik.group/sites/default/files/obsah/frontpage/obrazky/family.png\" alt =\"Audio Art\" style='width:800px;height:500px;'>\n",
    "        <figcaption>\n",
    "\n",
    "\n",
    "\n"
   ]
  },
  {
   "cell_type": "markdown",
   "id": "00c79a8c",
   "metadata": {
    "papermill": {
     "duration": 0.016096,
     "end_time": "2024-07-11T04:49:13.774718",
     "exception": false,
     "start_time": "2024-07-11T04:49:13.758622",
     "status": "completed"
    },
    "tags": []
   },
   "source": [
    "### Data Loading and Initial Exploration"
   ]
  },
  {
   "cell_type": "code",
   "execution_count": 1,
   "id": "28369550",
   "metadata": {
    "execution": {
     "iopub.execute_input": "2024-07-11T04:49:13.811998Z",
     "iopub.status.busy": "2024-07-11T04:49:13.811554Z",
     "iopub.status.idle": "2024-07-11T04:49:18.213105Z",
     "shell.execute_reply": "2024-07-11T04:49:18.211744Z"
    },
    "papermill": {
     "duration": 4.423926,
     "end_time": "2024-07-11T04:49:18.216031",
     "exception": false,
     "start_time": "2024-07-11T04:49:13.792105",
     "status": "completed"
    },
    "tags": []
   },
   "outputs": [],
   "source": [
    "import pandas as pd\n",
    "import numpy as np\n",
    "import matplotlib.pyplot as plt\n",
    "import seaborn as sns\n",
    "from sklearn.model_selection import train_test_split, GridSearchCV\n",
    "from sklearn.metrics import mean_absolute_percentage_error\n",
    "import lightgbm as lgb"
   ]
  },
  {
   "cell_type": "markdown",
   "id": "fea82fac",
   "metadata": {
    "papermill": {
     "duration": 0.01666,
     "end_time": "2024-07-11T04:49:18.248817",
     "exception": false,
     "start_time": "2024-07-11T04:49:18.232157",
     "status": "completed"
    },
    "tags": []
   },
   "source": [
    "### Load the data"
   ]
  },
  {
   "cell_type": "code",
   "execution_count": 2,
   "id": "4c12897e",
   "metadata": {
    "execution": {
     "iopub.execute_input": "2024-07-11T04:49:18.284815Z",
     "iopub.status.busy": "2024-07-11T04:49:18.284121Z",
     "iopub.status.idle": "2024-07-11T04:49:18.393286Z",
     "shell.execute_reply": "2024-07-11T04:49:18.392103Z"
    },
    "papermill": {
     "duration": 0.130093,
     "end_time": "2024-07-11T04:49:18.396228",
     "exception": false,
     "start_time": "2024-07-11T04:49:18.266135",
     "status": "completed"
    },
    "tags": []
   },
   "outputs": [],
   "source": [
    "# Load the data\n",
    "train = pd.read_csv('/kaggle/input/rohlik-orders-forecasting-challenge/train.csv')\n",
    "test = pd.read_csv('/kaggle/input/rohlik-orders-forecasting-challenge/test.csv')\n",
    "train_calendar = pd.read_csv('/kaggle/input/rohlik-orders-forecasting-challenge/train_calendar.csv')\n",
    "test_calendar = pd.read_csv('/kaggle/input/rohlik-orders-forecasting-challenge/test_calendar.csv')"
   ]
  },
  {
   "cell_type": "markdown",
   "id": "e6054367",
   "metadata": {
    "papermill": {
     "duration": 0.01559,
     "end_time": "2024-07-11T04:49:18.428085",
     "exception": false,
     "start_time": "2024-07-11T04:49:18.412495",
     "status": "completed"
    },
    "tags": []
   },
   "source": [
    "### Display the first few rows of the train and test datasets"
   ]
  },
  {
   "cell_type": "code",
   "execution_count": 3,
   "id": "56b5196e",
   "metadata": {
    "execution": {
     "iopub.execute_input": "2024-07-11T04:49:18.461624Z",
     "iopub.status.busy": "2024-07-11T04:49:18.461195Z",
     "iopub.status.idle": "2024-07-11T04:49:18.497137Z",
     "shell.execute_reply": "2024-07-11T04:49:18.495856Z"
    },
    "papermill": {
     "duration": 0.056385,
     "end_time": "2024-07-11T04:49:18.500273",
     "exception": false,
     "start_time": "2024-07-11T04:49:18.443888",
     "status": "completed"
    },
    "tags": []
   },
   "outputs": [
    {
     "name": "stdout",
     "output_type": "stream",
     "text": [
      "  warehouse        date  orders holiday_name  holiday  shutdown  \\\n",
      "0  Prague_1  2020-12-05  6895.0          NaN        0         0   \n",
      "1  Prague_1  2020-12-06  6584.0          NaN        0         0   \n",
      "2  Prague_1  2020-12-07  7030.0          NaN        0         0   \n",
      "3  Prague_1  2020-12-08  6550.0          NaN        0         0   \n",
      "4  Prague_1  2020-12-09  6910.0          NaN        0         0   \n",
      "\n",
      "   mini_shutdown  shops_closed  winter_school_holidays  school_holidays  \\\n",
      "0              0             0                       0                0   \n",
      "1              0             0                       0                0   \n",
      "2              0             0                       0                0   \n",
      "3              0             0                       0                0   \n",
      "4              0             0                       0                0   \n",
      "\n",
      "   blackout  mov_change  frankfurt_shutdown  precipitation  snow  \\\n",
      "0         0         0.0                   0            0.0   0.0   \n",
      "1         0         0.0                   0            0.0   0.0   \n",
      "2         0         0.0                   0            0.0   0.0   \n",
      "3         0         0.0                   0            0.8   0.0   \n",
      "4         0         0.0                   0            0.5   0.0   \n",
      "\n",
      "   user_activity_1  user_activity_2                   id  \n",
      "0           1722.0          32575.0  Prague_1_2020-12-05  \n",
      "1           1688.0          32507.0  Prague_1_2020-12-06  \n",
      "2           1696.0          32552.0  Prague_1_2020-12-07  \n",
      "3           1681.0          32423.0  Prague_1_2020-12-08  \n",
      "4           1704.0          32410.0  Prague_1_2020-12-09  \n",
      "  warehouse        date holiday_name  holiday  shops_closed  \\\n",
      "0  Prague_1  2024-03-16          NaN        0             0   \n",
      "1  Prague_1  2024-03-17          NaN        0             0   \n",
      "2  Prague_1  2024-03-18          NaN        0             0   \n",
      "3  Prague_1  2024-03-19          NaN        0             0   \n",
      "4  Prague_1  2024-03-20          NaN        0             0   \n",
      "\n",
      "   winter_school_holidays  school_holidays                   id  \n",
      "0                       0                0  Prague_1_2024-03-16  \n",
      "1                       0                0  Prague_1_2024-03-17  \n",
      "2                       0                0  Prague_1_2024-03-18  \n",
      "3                       0                0  Prague_1_2024-03-19  \n",
      "4                       0                0  Prague_1_2024-03-20  \n",
      "         date holiday_name  holiday  shutdown  mini_shutdown  \\\n",
      "0  2022-03-09          NaN        0         0              0   \n",
      "1  2019-07-03          NaN        0         0              0   \n",
      "2  2020-05-18          NaN        0         0              0   \n",
      "3  2021-11-09          NaN        0         0              0   \n",
      "4  2023-08-02          NaN        0         0              0   \n",
      "\n",
      "   warehouse_limited  shops_closed  winter_school_holidays  school_holidays  \\\n",
      "0                  0             0                       1                0   \n",
      "1                  0             0                       0                0   \n",
      "2                  0             0                       0                0   \n",
      "3                  0             0                       0                0   \n",
      "4                  0             0                       0                0   \n",
      "\n",
      "   blackout  mov_change  frankfurt_shutdown  precipitation  snow warehouse  \n",
      "0         0         0.0                   0            0.0   0.0  Prague_1  \n",
      "1         0         0.0                   0            0.0   0.0  Prague_1  \n",
      "2         0         0.0                   0            0.0   0.0  Prague_1  \n",
      "3         0         0.0                   0            0.0   0.0  Prague_1  \n",
      "4         0         0.0                   0            2.5   0.0  Prague_1  \n",
      "         date                      holiday_name  holiday  shops_closed  \\\n",
      "0  2024-11-17  Den boje za svobodu a demokracii        1             0   \n",
      "1  2024-07-04                               NaN        0             0   \n",
      "2  2024-08-04                               NaN        0             0   \n",
      "3  2024-12-01                               NaN        0             0   \n",
      "4  2024-07-24                               NaN        0             0   \n",
      "\n",
      "   winter_school_holidays  school_holidays warehouse  \n",
      "0                       0                0  Prague_1  \n",
      "1                       0                0  Prague_1  \n",
      "2                       0                0  Prague_1  \n",
      "3                       0                0  Prague_1  \n",
      "4                       0                0  Prague_1  \n"
     ]
    }
   ],
   "source": [
    "print(train.head())\n",
    "print(test.head())\n",
    "print(train_calendar.head())\n",
    "print(test_calendar.head())"
   ]
  },
  {
   "cell_type": "markdown",
   "id": "4ae13e5e",
   "metadata": {
    "papermill": {
     "duration": 0.015826,
     "end_time": "2024-07-11T04:49:18.532256",
     "exception": false,
     "start_time": "2024-07-11T04:49:18.516430",
     "status": "completed"
    },
    "tags": []
   },
   "source": [
    "### Summary statistics"
   ]
  },
  {
   "cell_type": "code",
   "execution_count": 4,
   "id": "61c46a4b",
   "metadata": {
    "execution": {
     "iopub.execute_input": "2024-07-11T04:49:18.566253Z",
     "iopub.status.busy": "2024-07-11T04:49:18.565823Z",
     "iopub.status.idle": "2024-07-11T04:49:18.628387Z",
     "shell.execute_reply": "2024-07-11T04:49:18.627193Z"
    },
    "papermill": {
     "duration": 0.082756,
     "end_time": "2024-07-11T04:49:18.631173",
     "exception": false,
     "start_time": "2024-07-11T04:49:18.548417",
     "status": "completed"
    },
    "tags": []
   },
   "outputs": [
    {
     "name": "stdout",
     "output_type": "stream",
     "text": [
      "             orders      holiday     shutdown  mini_shutdown  shops_closed  \\\n",
      "count   7340.000000  7340.000000  7340.000000    7340.000000   7340.000000   \n",
      "mean    5535.443869     0.027248     0.000136       0.000545      0.010899   \n",
      "std     2182.680279     0.162816     0.011672       0.023340      0.103836   \n",
      "min      790.000000     0.000000     0.000000       0.000000      0.000000   \n",
      "25%     4434.000000     0.000000     0.000000       0.000000      0.000000   \n",
      "50%     5370.000000     0.000000     0.000000       0.000000      0.000000   \n",
      "75%     7009.250000     0.000000     0.000000       0.000000      0.000000   \n",
      "max    18139.000000     1.000000     1.000000       1.000000      1.000000   \n",
      "\n",
      "       winter_school_holidays  school_holidays     blackout   mov_change  \\\n",
      "count             7340.000000      7340.000000  7340.000000  7340.000000   \n",
      "mean                 0.029973         0.007084     0.000954     0.221499   \n",
      "std                  0.170524         0.083876     0.030869     0.410293   \n",
      "min                  0.000000         0.000000     0.000000     0.000000   \n",
      "25%                  0.000000         0.000000     0.000000     0.000000   \n",
      "50%                  0.000000         0.000000     0.000000     0.000000   \n",
      "75%                  0.000000         0.000000     0.000000     0.000000   \n",
      "max                  1.000000         1.000000     1.000000     1.000000   \n",
      "\n",
      "       frankfurt_shutdown  precipitation         snow  user_activity_1  \\\n",
      "count         7340.000000    7070.000000  7070.000000      7340.000000   \n",
      "mean             0.000272       1.621126     0.290112      1633.545777   \n",
      "std              0.016506       4.542875     1.546102       784.167637   \n",
      "min              0.000000       0.000000     0.000000       482.000000   \n",
      "25%              0.000000       0.000000     0.000000       945.000000   \n",
      "50%              0.000000       0.000000     0.000000      1349.000000   \n",
      "75%              0.000000       1.000000     0.000000      2308.000000   \n",
      "max              1.000000      80.000000    19.840000      3437.000000   \n",
      "\n",
      "       user_activity_2  \n",
      "count      7340.000000  \n",
      "mean      23477.031335  \n",
      "std        8934.848328  \n",
      "min        1797.000000  \n",
      "25%       18509.000000  \n",
      "50%       22267.000000  \n",
      "75%       30028.750000  \n",
      "max       45769.000000  \n",
      "          holiday  shops_closed  winter_school_holidays  school_holidays\n",
      "count  397.000000    397.000000              397.000000       397.000000\n",
      "mean     0.068010      0.020151                0.020151         0.070529\n",
      "std      0.252081      0.140694                0.140694         0.256359\n",
      "min      0.000000      0.000000                0.000000         0.000000\n",
      "25%      0.000000      0.000000                0.000000         0.000000\n",
      "50%      0.000000      0.000000                0.000000         0.000000\n",
      "75%      0.000000      0.000000                0.000000         0.000000\n",
      "max      1.000000      1.000000                1.000000         1.000000\n"
     ]
    }
   ],
   "source": [
    "print(train.describe())\n",
    "print(test.describe())"
   ]
  },
  {
   "cell_type": "markdown",
   "id": "52e84bd5",
   "metadata": {
    "papermill": {
     "duration": 0.021787,
     "end_time": "2024-07-11T04:49:18.674018",
     "exception": false,
     "start_time": "2024-07-11T04:49:18.652231",
     "status": "completed"
    },
    "tags": []
   },
   "source": [
    "### Merge train data with calendar data"
   ]
  },
  {
   "cell_type": "code",
   "execution_count": 5,
   "id": "2ef41da7",
   "metadata": {
    "execution": {
     "iopub.execute_input": "2024-07-11T04:49:18.717718Z",
     "iopub.status.busy": "2024-07-11T04:49:18.717252Z",
     "iopub.status.idle": "2024-07-11T04:49:18.758709Z",
     "shell.execute_reply": "2024-07-11T04:49:18.757538Z"
    },
    "papermill": {
     "duration": 0.065136,
     "end_time": "2024-07-11T04:49:18.761721",
     "exception": false,
     "start_time": "2024-07-11T04:49:18.696585",
     "status": "completed"
    },
    "tags": []
   },
   "outputs": [],
   "source": [
    "train = pd.merge(train, train_calendar, on=['warehouse', 'date'], how='left')\n",
    "test = pd.merge(test, test_calendar, on=['warehouse', 'date'], how='left')"
   ]
  },
  {
   "cell_type": "markdown",
   "id": "84898863",
   "metadata": {
    "papermill": {
     "duration": 0.021225,
     "end_time": "2024-07-11T04:49:18.801104",
     "exception": false,
     "start_time": "2024-07-11T04:49:18.779879",
     "status": "completed"
    },
    "tags": []
   },
   "source": [
    "### Convert date to datetime format"
   ]
  },
  {
   "cell_type": "code",
   "execution_count": 6,
   "id": "968e564d",
   "metadata": {
    "execution": {
     "iopub.execute_input": "2024-07-11T04:49:18.857635Z",
     "iopub.status.busy": "2024-07-11T04:49:18.856669Z",
     "iopub.status.idle": "2024-07-11T04:49:18.881810Z",
     "shell.execute_reply": "2024-07-11T04:49:18.879502Z"
    },
    "papermill": {
     "duration": 0.058021,
     "end_time": "2024-07-11T04:49:18.885206",
     "exception": false,
     "start_time": "2024-07-11T04:49:18.827185",
     "status": "completed"
    },
    "tags": []
   },
   "outputs": [],
   "source": [
    "train['date'] = pd.to_datetime(train['date'])\n",
    "test['date'] = pd.to_datetime(test['date'])"
   ]
  },
  {
   "cell_type": "markdown",
   "id": "9abe40eb",
   "metadata": {
    "papermill": {
     "duration": 0.020937,
     "end_time": "2024-07-11T04:49:18.933563",
     "exception": false,
     "start_time": "2024-07-11T04:49:18.912626",
     "status": "completed"
    },
    "tags": []
   },
   "source": [
    "### Extract date features"
   ]
  },
  {
   "cell_type": "code",
   "execution_count": 7,
   "id": "bed2506d",
   "metadata": {
    "execution": {
     "iopub.execute_input": "2024-07-11T04:49:18.968293Z",
     "iopub.status.busy": "2024-07-11T04:49:18.967851Z",
     "iopub.status.idle": "2024-07-11T04:49:18.985143Z",
     "shell.execute_reply": "2024-07-11T04:49:18.983678Z"
    },
    "papermill": {
     "duration": 0.037969,
     "end_time": "2024-07-11T04:49:18.988065",
     "exception": false,
     "start_time": "2024-07-11T04:49:18.950096",
     "status": "completed"
    },
    "tags": []
   },
   "outputs": [],
   "source": [
    "train['year'] = train['date'].dt.year\n",
    "train['month'] = train['date'].dt.month\n",
    "train['day'] = train['date'].dt.day\n",
    "train['dayofweek'] = train['date'].dt.dayofweek\n",
    "\n",
    "test['year'] = test['date'].dt.year\n",
    "test['month'] = test['date'].dt.month\n",
    "test['day'] = test['date'].dt.day\n",
    "test['dayofweek'] = test['date'].dt.dayofweek"
   ]
  },
  {
   "cell_type": "markdown",
   "id": "5045bd3b",
   "metadata": {
    "papermill": {
     "duration": 0.020053,
     "end_time": "2024-07-11T04:49:19.029273",
     "exception": false,
     "start_time": "2024-07-11T04:49:19.009220",
     "status": "completed"
    },
    "tags": []
   },
   "source": [
    "### Fill missing values"
   ]
  },
  {
   "cell_type": "code",
   "execution_count": 8,
   "id": "fc32ea60",
   "metadata": {
    "execution": {
     "iopub.execute_input": "2024-07-11T04:49:19.065784Z",
     "iopub.status.busy": "2024-07-11T04:49:19.065036Z",
     "iopub.status.idle": "2024-07-11T04:49:19.079289Z",
     "shell.execute_reply": "2024-07-11T04:49:19.077945Z"
    },
    "papermill": {
     "duration": 0.036068,
     "end_time": "2024-07-11T04:49:19.082182",
     "exception": false,
     "start_time": "2024-07-11T04:49:19.046114",
     "status": "completed"
    },
    "tags": []
   },
   "outputs": [],
   "source": [
    "train.fillna(0, inplace=True)\n",
    "test.fillna(0, inplace=True)"
   ]
  },
  {
   "cell_type": "markdown",
   "id": "e4af1b61",
   "metadata": {
    "papermill": {
     "duration": 0.01601,
     "end_time": "2024-07-11T04:49:19.115253",
     "exception": false,
     "start_time": "2024-07-11T04:49:19.099243",
     "status": "completed"
    },
    "tags": []
   },
   "source": [
    "### Drop columns that are not useful or cause issues"
   ]
  },
  {
   "cell_type": "code",
   "execution_count": 9,
   "id": "0d4c8536",
   "metadata": {
    "execution": {
     "iopub.execute_input": "2024-07-11T04:49:19.150344Z",
     "iopub.status.busy": "2024-07-11T04:49:19.149941Z",
     "iopub.status.idle": "2024-07-11T04:49:19.162206Z",
     "shell.execute_reply": "2024-07-11T04:49:19.160699Z"
    },
    "papermill": {
     "duration": 0.033555,
     "end_time": "2024-07-11T04:49:19.165056",
     "exception": false,
     "start_time": "2024-07-11T04:49:19.131501",
     "status": "completed"
    },
    "tags": []
   },
   "outputs": [],
   "source": [
    "train.drop(columns=['holiday_name_x', 'holiday_name_y'], inplace=True)\n",
    "test.drop(columns=['holiday_name_x', 'holiday_name_y'], inplace=True)"
   ]
  },
  {
   "cell_type": "markdown",
   "id": "f80061b9",
   "metadata": {
    "papermill": {
     "duration": 0.016735,
     "end_time": "2024-07-11T04:49:19.198187",
     "exception": false,
     "start_time": "2024-07-11T04:49:19.181452",
     "status": "completed"
    },
    "tags": []
   },
   "source": [
    "### Encode categorical variables"
   ]
  },
  {
   "cell_type": "code",
   "execution_count": 10,
   "id": "15715745",
   "metadata": {
    "execution": {
     "iopub.execute_input": "2024-07-11T04:49:19.233290Z",
     "iopub.status.busy": "2024-07-11T04:49:19.232861Z",
     "iopub.status.idle": "2024-07-11T04:49:19.251867Z",
     "shell.execute_reply": "2024-07-11T04:49:19.250675Z"
    },
    "papermill": {
     "duration": 0.039869,
     "end_time": "2024-07-11T04:49:19.254882",
     "exception": false,
     "start_time": "2024-07-11T04:49:19.215013",
     "status": "completed"
    },
    "tags": []
   },
   "outputs": [],
   "source": [
    "train = pd.get_dummies(train, columns=['warehouse'], drop_first=True)\n",
    "test = pd.get_dummies(test, columns=['warehouse'], drop_first=True)"
   ]
  },
  {
   "cell_type": "markdown",
   "id": "984156aa",
   "metadata": {
    "papermill": {
     "duration": 0.015977,
     "end_time": "2024-07-11T04:49:19.287131",
     "exception": false,
     "start_time": "2024-07-11T04:49:19.271154",
     "status": "completed"
    },
    "tags": []
   },
   "source": [
    "### Separate the target column 'orders' from the train DataFrame"
   ]
  },
  {
   "cell_type": "code",
   "execution_count": 11,
   "id": "b9fc60c8",
   "metadata": {
    "execution": {
     "iopub.execute_input": "2024-07-11T04:49:19.385017Z",
     "iopub.status.busy": "2024-07-11T04:49:19.384533Z",
     "iopub.status.idle": "2024-07-11T04:49:19.392201Z",
     "shell.execute_reply": "2024-07-11T04:49:19.391091Z"
    },
    "papermill": {
     "duration": 0.091076,
     "end_time": "2024-07-11T04:49:19.394706",
     "exception": false,
     "start_time": "2024-07-11T04:49:19.303630",
     "status": "completed"
    },
    "tags": []
   },
   "outputs": [],
   "source": [
    "y_train = train['orders']\n",
    "train.drop(columns=['orders'], inplace=True)"
   ]
  },
  {
   "cell_type": "markdown",
   "id": "48df731e",
   "metadata": {
    "papermill": {
     "duration": 0.016002,
     "end_time": "2024-07-11T04:49:19.427538",
     "exception": false,
     "start_time": "2024-07-11T04:49:19.411536",
     "status": "completed"
    },
    "tags": []
   },
   "source": [
    "### Align the train and test data"
   ]
  },
  {
   "cell_type": "code",
   "execution_count": 12,
   "id": "ea8bb4f6",
   "metadata": {
    "execution": {
     "iopub.execute_input": "2024-07-11T04:49:19.462033Z",
     "iopub.status.busy": "2024-07-11T04:49:19.461627Z",
     "iopub.status.idle": "2024-07-11T04:49:19.470802Z",
     "shell.execute_reply": "2024-07-11T04:49:19.469605Z"
    },
    "papermill": {
     "duration": 0.029303,
     "end_time": "2024-07-11T04:49:19.473306",
     "exception": false,
     "start_time": "2024-07-11T04:49:19.444003",
     "status": "completed"
    },
    "tags": []
   },
   "outputs": [],
   "source": [
    "train, test = train.align(test, join='inner', axis=1)\n",
    "train['orders'] = y_train"
   ]
  },
  {
   "cell_type": "markdown",
   "id": "227d1b53",
   "metadata": {
    "papermill": {
     "duration": 0.016089,
     "end_time": "2024-07-11T04:49:19.505942",
     "exception": false,
     "start_time": "2024-07-11T04:49:19.489853",
     "status": "completed"
    },
    "tags": []
   },
   "source": [
    "### Check data types"
   ]
  },
  {
   "cell_type": "code",
   "execution_count": 13,
   "id": "f2da3ab8",
   "metadata": {
    "execution": {
     "iopub.execute_input": "2024-07-11T04:49:19.540322Z",
     "iopub.status.busy": "2024-07-11T04:49:19.539928Z",
     "iopub.status.idle": "2024-07-11T04:49:19.547874Z",
     "shell.execute_reply": "2024-07-11T04:49:19.546569Z"
    },
    "papermill": {
     "duration": 0.028824,
     "end_time": "2024-07-11T04:49:19.551091",
     "exception": false,
     "start_time": "2024-07-11T04:49:19.522267",
     "status": "completed"
    },
    "tags": []
   },
   "outputs": [
    {
     "name": "stdout",
     "output_type": "stream",
     "text": [
      "date                        datetime64[ns]\n",
      "holiday_x                            int64\n",
      "shops_closed_x                       int64\n",
      "winter_school_holidays_x             int64\n",
      "school_holidays_x                    int64\n",
      "id                                  object\n",
      "holiday_y                            int64\n",
      "shops_closed_y                       int64\n",
      "winter_school_holidays_y             int64\n",
      "school_holidays_y                    int64\n",
      "year                                 int32\n",
      "month                                int32\n",
      "day                                  int32\n",
      "dayofweek                            int32\n",
      "warehouse_Budapest_1                  bool\n",
      "warehouse_Frankfurt_1                 bool\n",
      "warehouse_Munich_1                    bool\n",
      "warehouse_Prague_1                    bool\n",
      "warehouse_Prague_2                    bool\n",
      "warehouse_Prague_3                    bool\n",
      "orders                             float64\n",
      "dtype: object\n"
     ]
    }
   ],
   "source": [
    "print(train.dtypes)"
   ]
  },
  {
   "cell_type": "markdown",
   "id": "b2488c85",
   "metadata": {
    "papermill": {
     "duration": 0.017708,
     "end_time": "2024-07-11T04:49:19.585371",
     "exception": false,
     "start_time": "2024-07-11T04:49:19.567663",
     "status": "completed"
    },
    "tags": []
   },
   "source": [
    "### Plot the number of orders over time"
   ]
  },
  {
   "cell_type": "code",
   "execution_count": 14,
   "id": "352521e4",
   "metadata": {
    "execution": {
     "iopub.execute_input": "2024-07-11T04:49:19.621925Z",
     "iopub.status.busy": "2024-07-11T04:49:19.621525Z",
     "iopub.status.idle": "2024-07-11T04:49:56.710023Z",
     "shell.execute_reply": "2024-07-11T04:49:56.708641Z"
    },
    "papermill": {
     "duration": 37.130767,
     "end_time": "2024-07-11T04:49:56.733638",
     "exception": false,
     "start_time": "2024-07-11T04:49:19.602871",
     "status": "completed"
    },
    "tags": []
   },
   "outputs": [
    {
     "name": "stderr",
     "output_type": "stream",
     "text": [
      "/opt/conda/lib/python3.10/site-packages/seaborn/_oldcore.py:1119: FutureWarning: use_inf_as_na option is deprecated and will be removed in a future version. Convert inf values to NaN before operating instead.\n",
      "  with pd.option_context('mode.use_inf_as_na', True):\n",
      "/opt/conda/lib/python3.10/site-packages/seaborn/_oldcore.py:1119: FutureWarning: use_inf_as_na option is deprecated and will be removed in a future version. Convert inf values to NaN before operating instead.\n",
      "  with pd.option_context('mode.use_inf_as_na', True):\n"
     ]
    },
    {
     "data": {
      "image/png": "[encoded data removed]",
      "text/plain": [
       "<Figure size 1200x600 with 1 Axes>"
      ]
     },
     "metadata": {},
     "output_type": "display_data"
    }
   ],
   "source": [
    "plt.figure(figsize=(12, 6))\n",
    "sns.lineplot(data=train, x='date', y='orders')\n",
    "plt.title('Number of Orders Over Time')\n",
    "plt.show()"
   ]
  },
  {
   "cell_type": "markdown",
   "id": "60e8f934",
   "metadata": {
    "papermill": {
     "duration": 0.020053,
     "end_time": "2024-07-11T04:49:56.773866",
     "exception": false,
     "start_time": "2024-07-11T04:49:56.753813",
     "status": "completed"
    },
    "tags": []
   },
   "source": [
    "### Plot orders distribution"
   ]
  },
  {
   "cell_type": "code",
   "execution_count": 15,
   "id": "68e7408b",
   "metadata": {
    "execution": {
     "iopub.execute_input": "2024-07-11T04:49:56.818201Z",
     "iopub.status.busy": "2024-07-11T04:49:56.817472Z",
     "iopub.status.idle": "2024-07-11T04:49:57.367058Z",
     "shell.execute_reply": "2024-07-11T04:49:57.365874Z"
    },
    "papermill": {
     "duration": 0.57599,
     "end_time": "2024-07-11T04:49:57.369856",
     "exception": false,
     "start_time": "2024-07-11T04:49:56.793866",
     "status": "completed"
    },
    "tags": []
   },
   "outputs": [
    {
     "name": "stderr",
     "output_type": "stream",
     "text": [
      "/opt/conda/lib/python3.10/site-packages/seaborn/_oldcore.py:1119: FutureWarning: use_inf_as_na option is deprecated and will be removed in a future version. Convert inf values to NaN before operating instead.\n",
      "  with pd.option_context('mode.use_inf_as_na', True):\n"
     ]
    },
    {
     "data": {
      "image/png": "[encoded data removed]",
      "text/plain": [
       "<Figure size 1200x600 with 1 Axes>"
      ]
     },
     "metadata": {},
     "output_type": "display_data"
    }
   ],
   "source": [
    "plt.figure(figsize=(12, 6))\n",
    "sns.histplot(train['orders'], bins=50, kde=True)\n",
    "plt.title('Orders Distribution')\n",
    "plt.show()"
   ]
  },
  {
   "cell_type": "markdown",
   "id": "f297636a",
   "metadata": {
    "papermill": {
     "duration": 0.019676,
     "end_time": "2024-07-11T04:49:57.409593",
     "exception": false,
     "start_time": "2024-07-11T04:49:57.389917",
     "status": "completed"
    },
    "tags": []
   },
   "source": [
    "### Drop the original 'date' and 'id' columns"
   ]
  },
  {
   "cell_type": "code",
   "execution_count": 16,
   "id": "5dee8a73",
   "metadata": {
    "execution": {
     "iopub.execute_input": "2024-07-11T04:49:57.451635Z",
     "iopub.status.busy": "2024-07-11T04:49:57.451196Z",
     "iopub.status.idle": "2024-07-11T04:49:57.460765Z",
     "shell.execute_reply": "2024-07-11T04:49:57.459490Z"
    },
    "papermill": {
     "duration": 0.033811,
     "end_time": "2024-07-11T04:49:57.463611",
     "exception": false,
     "start_time": "2024-07-11T04:49:57.429800",
     "status": "completed"
    },
    "tags": []
   },
   "outputs": [],
   "source": [
    "train.drop(columns=['date'], inplace=True)\n",
    "test.drop(columns=['date'], inplace=True)"
   ]
  },
  {
   "cell_type": "markdown",
   "id": "39add0c9",
   "metadata": {
    "papermill": {
     "duration": 0.020801,
     "end_time": "2024-07-11T04:49:57.504479",
     "exception": false,
     "start_time": "2024-07-11T04:49:57.483678",
     "status": "completed"
    },
    "tags": []
   },
   "source": [
    "### Separate target variable from features"
   ]
  },
  {
   "cell_type": "code",
   "execution_count": 17,
   "id": "9a33428c",
   "metadata": {
    "execution": {
     "iopub.execute_input": "2024-07-11T04:49:57.546666Z",
     "iopub.status.busy": "2024-07-11T04:49:57.546259Z",
     "iopub.status.idle": "2024-07-11T04:49:57.551817Z",
     "shell.execute_reply": "2024-07-11T04:49:57.550585Z"
    },
    "papermill": {
     "duration": 0.030044,
     "end_time": "2024-07-11T04:49:57.554500",
     "exception": false,
     "start_time": "2024-07-11T04:49:57.524456",
     "status": "completed"
    },
    "tags": []
   },
   "outputs": [],
   "source": [
    "X = train\n",
    "X_test = test"
   ]
  },
  {
   "cell_type": "markdown",
   "id": "219c1f1a",
   "metadata": {
    "papermill": {
     "duration": 0.020273,
     "end_time": "2024-07-11T04:49:57.595432",
     "exception": false,
     "start_time": "2024-07-11T04:49:57.575159",
     "status": "completed"
    },
    "tags": []
   },
   "source": [
    "### Split train data into features and target"
   ]
  },
  {
   "cell_type": "code",
   "execution_count": 18,
   "id": "94555f8c",
   "metadata": {
    "execution": {
     "iopub.execute_input": "2024-07-11T04:49:57.637746Z",
     "iopub.status.busy": "2024-07-11T04:49:57.637311Z",
     "iopub.status.idle": "2024-07-11T04:49:57.645138Z",
     "shell.execute_reply": "2024-07-11T04:49:57.643930Z"
    },
    "papermill": {
     "duration": 0.032065,
     "end_time": "2024-07-11T04:49:57.647754",
     "exception": false,
     "start_time": "2024-07-11T04:49:57.615689",
     "status": "completed"
    },
    "tags": []
   },
   "outputs": [],
   "source": [
    "X = train.drop(columns=['orders'])\n",
    "y = train['orders']"
   ]
  },
  {
   "cell_type": "markdown",
   "id": "c8714f7e",
   "metadata": {
    "papermill": {
     "duration": 0.01988,
     "end_time": "2024-07-11T04:49:57.688271",
     "exception": false,
     "start_time": "2024-07-11T04:49:57.668391",
     "status": "completed"
    },
    "tags": []
   },
   "source": [
    "### Split the data into training and validation sets"
   ]
  },
  {
   "cell_type": "code",
   "execution_count": 19,
   "id": "824824de",
   "metadata": {
    "execution": {
     "iopub.execute_input": "2024-07-11T04:49:57.731894Z",
     "iopub.status.busy": "2024-07-11T04:49:57.731409Z",
     "iopub.status.idle": "2024-07-11T04:49:57.743548Z",
     "shell.execute_reply": "2024-07-11T04:49:57.742335Z"
    },
    "papermill": {
     "duration": 0.036962,
     "end_time": "2024-07-11T04:49:57.746538",
     "exception": false,
     "start_time": "2024-07-11T04:49:57.709576",
     "status": "completed"
    },
    "tags": []
   },
   "outputs": [],
   "source": [
    "X_train, X_val, y_train, y_val = train_test_split(X, y, test_size=0.2, random_state=42)"
   ]
  },
  {
   "cell_type": "markdown",
   "id": "c1bd9b0d",
   "metadata": {
    "papermill": {
     "duration": 0.022082,
     "end_time": "2024-07-11T04:49:57.789199",
     "exception": false,
     "start_time": "2024-07-11T04:49:57.767117",
     "status": "completed"
    },
    "tags": []
   },
   "source": [
    "### Initialize and train the LightGBM model"
   ]
  },
  {
   "cell_type": "code",
   "execution_count": 20,
   "id": "82f35eaf",
   "metadata": {
    "execution": {
     "iopub.execute_input": "2024-07-11T04:49:57.833714Z",
     "iopub.status.busy": "2024-07-11T04:49:57.833258Z",
     "iopub.status.idle": "2024-07-11T04:49:57.840383Z",
     "shell.execute_reply": "2024-07-11T04:49:57.839178Z"
    },
    "papermill": {
     "duration": 0.033626,
     "end_time": "2024-07-11T04:49:57.843479",
     "exception": false,
     "start_time": "2024-07-11T04:49:57.809853",
     "status": "completed"
    },
    "tags": []
   },
   "outputs": [],
   "source": [
    "lgb_model = lgb.LGBMRegressor(objective='regression', n_estimators=1000, learning_rate=0.05)\n",
    "\n",
    "callbacks = [\n",
    "    lgb.early_stopping(stopping_rounds=100),\n",
    "    lgb.log_evaluation(period=10)\n",
    "]"
   ]
  },
  {
   "cell_type": "markdown",
   "id": "3166c0b7",
   "metadata": {
    "papermill": {
     "duration": 0.019935,
     "end_time": "2024-07-11T04:49:57.885767",
     "exception": false,
     "start_time": "2024-07-11T04:49:57.865832",
     "status": "completed"
    },
    "tags": []
   },
   "source": [
    "### Remove 'id' column if exists in the training data"
   ]
  },
  {
   "cell_type": "code",
   "execution_count": 21,
   "id": "31a2fe72",
   "metadata": {
    "execution": {
     "iopub.execute_input": "2024-07-11T04:49:57.929110Z",
     "iopub.status.busy": "2024-07-11T04:49:57.928673Z",
     "iopub.status.idle": "2024-07-11T04:50:02.441479Z",
     "shell.execute_reply": "2024-07-11T04:50:02.440219Z"
    },
    "papermill": {
     "duration": 4.537317,
     "end_time": "2024-07-11T04:50:02.444378",
     "exception": false,
     "start_time": "2024-07-11T04:49:57.907061",
     "status": "completed"
    },
    "tags": []
   },
   "outputs": [
    {
     "name": "stdout",
     "output_type": "stream",
     "text": [
      "[LightGBM] [Info] Auto-choosing row-wise multi-threading, the overhead of testing was 0.003046 seconds.\n",
      "You can set `force_row_wise=true` to remove the overhead.\n",
      "And if memory is not enough, you can set `force_col_wise=true`.\n",
      "[LightGBM] [Info] Total Bins 86\n",
      "[LightGBM] [Info] Number of data points in the train set: 5872, number of used features: 18\n",
      "[LightGBM] [Info] Start training from score 5512.430518\n",
      "Training until validation scores don't improve for 100 rounds\n",
      "[10]\tvalid_0's mape: 0.301894\tvalid_0's l2: 2.01941e+06\n",
      "[20]\tvalid_0's mape: 0.200384\tvalid_0's l2: 993537\n",
      "[30]\tvalid_0's mape: 0.141372\tvalid_0's l2: 593768\n",
      "[40]\tvalid_0's mape: 0.106917\tvalid_0's l2: 419814\n",
      "[50]\tvalid_0's mape: 0.0863841\tvalid_0's l2: 332792\n",
      "[60]\tvalid_0's mape: 0.0743109\tvalid_0's l2: 284327\n",
      "[70]\tvalid_0's mape: 0.0658907\tvalid_0's l2: 252013\n",
      "[80]\tvalid_0's mape: 0.0596426\tvalid_0's l2: 221789\n",
      "[90]\tvalid_0's mape: 0.0557593\tvalid_0's l2: 196003\n",
      "[100]\tvalid_0's mape: 0.0534907\tvalid_0's l2: 178389\n",
      "[110]\tvalid_0's mape: 0.0515095\tvalid_0's l2: 167779\n",
      "[120]\tvalid_0's mape: 0.0499918\tvalid_0's l2: 158185\n",
      "[130]\tvalid_0's mape: 0.0487165\tvalid_0's l2: 148271\n",
      "[140]\tvalid_0's mape: 0.0477127\tvalid_0's l2: 141984\n",
      "[150]\tvalid_0's mape: 0.047025\tvalid_0's l2: 136315\n",
      "[160]\tvalid_0's mape: 0.0462543\tvalid_0's l2: 132279\n",
      "[170]\tvalid_0's mape: 0.0457465\tvalid_0's l2: 128725\n",
      "[180]\tvalid_0's mape: 0.0451926\tvalid_0's l2: 125767\n",
      "[190]\tvalid_0's mape: 0.0446782\tvalid_0's l2: 123371\n",
      "[200]\tvalid_0's mape: 0.0442623\tvalid_0's l2: 121569\n",
      "[210]\tvalid_0's mape: 0.0440084\tvalid_0's l2: 120140\n",
      "[220]\tvalid_0's mape: 0.0436615\tvalid_0's l2: 118239\n",
      "[230]\tvalid_0's mape: 0.0433509\tvalid_0's l2: 116413\n",
      "[240]\tvalid_0's mape: 0.0430923\tvalid_0's l2: 115303\n",
      "[250]\tvalid_0's mape: 0.0426165\tvalid_0's l2: 114104\n",
      "[260]\tvalid_0's mape: 0.0424154\tvalid_0's l2: 113330\n",
      "[270]\tvalid_0's mape: 0.0422194\tvalid_0's l2: 112079\n",
      "[280]\tvalid_0's mape: 0.0420049\tvalid_0's l2: 110918\n",
      "[290]\tvalid_0's mape: 0.0418736\tvalid_0's l2: 109914\n",
      "[300]\tvalid_0's mape: 0.0417074\tvalid_0's l2: 109042\n",
      "[310]\tvalid_0's mape: 0.0415383\tvalid_0's l2: 108016\n",
      "[320]\tvalid_0's mape: 0.0414111\tvalid_0's l2: 107239\n",
      "[330]\tvalid_0's mape: 0.0413525\tvalid_0's l2: 106662\n",
      "[340]\tvalid_0's mape: 0.0412394\tvalid_0's l2: 106170\n",
      "[350]\tvalid_0's mape: 0.0411683\tvalid_0's l2: 105515\n",
      "[360]\tvalid_0's mape: 0.0411309\tvalid_0's l2: 104923\n",
      "[370]\tvalid_0's mape: 0.0410293\tvalid_0's l2: 104551\n",
      "[380]\tvalid_0's mape: 0.0410099\tvalid_0's l2: 104155\n",
      "[390]\tvalid_0's mape: 0.0409785\tvalid_0's l2: 103803\n",
      "[400]\tvalid_0's mape: 0.0408913\tvalid_0's l2: 103202\n",
      "[410]\tvalid_0's mape: 0.0407944\tvalid_0's l2: 102715\n",
      "[420]\tvalid_0's mape: 0.040614\tvalid_0's l2: 102083\n",
      "[430]\tvalid_0's mape: 0.0405341\tvalid_0's l2: 101537\n",
      "[440]\tvalid_0's mape: 0.0404785\tvalid_0's l2: 101249\n",
      "[450]\tvalid_0's mape: 0.0403433\tvalid_0's l2: 100513\n",
      "[460]\tvalid_0's mape: 0.0402508\tvalid_0's l2: 100039\n",
      "[470]\tvalid_0's mape: 0.0401993\tvalid_0's l2: 99698\n",
      "[480]\tvalid_0's mape: 0.0401557\tvalid_0's l2: 99292\n",
      "[490]\tvalid_0's mape: 0.040057\tvalid_0's l2: 98743.6\n",
      "[500]\tvalid_0's mape: 0.0400428\tvalid_0's l2: 98676.5\n",
      "[510]\tvalid_0's mape: 0.0400075\tvalid_0's l2: 98425.6\n",
      "[520]\tvalid_0's mape: 0.0399785\tvalid_0's l2: 98267.6\n",
      "[530]\tvalid_0's mape: 0.0399613\tvalid_0's l2: 97884.7\n",
      "[540]\tvalid_0's mape: 0.0399318\tvalid_0's l2: 97708.7\n",
      "[550]\tvalid_0's mape: 0.0398665\tvalid_0's l2: 97521.8\n",
      "[560]\tvalid_0's mape: 0.0398508\tvalid_0's l2: 97274.4\n",
      "[570]\tvalid_0's mape: 0.0398319\tvalid_0's l2: 96802.4\n",
      "[580]\tvalid_0's mape: 0.03981\tvalid_0's l2: 96465\n",
      "[590]\tvalid_0's mape: 0.0397379\tvalid_0's l2: 96249.5\n",
      "[600]\tvalid_0's mape: 0.039698\tvalid_0's l2: 96113.2\n",
      "[610]\tvalid_0's mape: 0.0396903\tvalid_0's l2: 95869\n",
      "[620]\tvalid_0's mape: 0.03969\tvalid_0's l2: 95500.7\n",
      "[630]\tvalid_0's mape: 0.0396583\tvalid_0's l2: 95110.3\n",
      "[640]\tvalid_0's mape: 0.0396673\tvalid_0's l2: 94997.8\n",
      "[650]\tvalid_0's mape: 0.0396562\tvalid_0's l2: 94809\n",
      "[660]\tvalid_0's mape: 0.0396303\tvalid_0's l2: 94338.7\n",
      "[670]\tvalid_0's mape: 0.039611\tvalid_0's l2: 93969.8\n",
      "[680]\tvalid_0's mape: 0.0395899\tvalid_0's l2: 93458.6\n",
      "[690]\tvalid_0's mape: 0.0395143\tvalid_0's l2: 93189.4\n",
      "[700]\tvalid_0's mape: 0.0394735\tvalid_0's l2: 92940.9\n",
      "[710]\tvalid_0's mape: 0.0394791\tvalid_0's l2: 92829.3\n",
      "[720]\tvalid_0's mape: 0.0394424\tvalid_0's l2: 92517.9\n",
      "[730]\tvalid_0's mape: 0.0393966\tvalid_0's l2: 92326.9\n",
      "[740]\tvalid_0's mape: 0.0393943\tvalid_0's l2: 92209.3\n",
      "[750]\tvalid_0's mape: 0.0393443\tvalid_0's l2: 91961.4\n",
      "[760]\tvalid_0's mape: 0.0393418\tvalid_0's l2: 91666.2\n",
      "[770]\tvalid_0's mape: 0.0392765\tvalid_0's l2: 91224.4\n",
      "[780]\tvalid_0's mape: 0.0392776\tvalid_0's l2: 91067.3\n",
      "[790]\tvalid_0's mape: 0.0392749\tvalid_0's l2: 90790.4\n",
      "[800]\tvalid_0's mape: 0.0392416\tvalid_0's l2: 90655.5\n",
      "[810]\tvalid_0's mape: 0.0392301\tvalid_0's l2: 90561.4\n",
      "[820]\tvalid_0's mape: 0.0392081\tvalid_0's l2: 90286.1\n",
      "[830]\tvalid_0's mape: 0.0392209\tvalid_0's l2: 90064.3\n",
      "[840]\tvalid_0's mape: 0.0391928\tvalid_0's l2: 89939.9\n",
      "[850]\tvalid_0's mape: 0.0392079\tvalid_0's l2: 89936.1\n",
      "[860]\tvalid_0's mape: 0.0391647\tvalid_0's l2: 89562.9\n",
      "[870]\tvalid_0's mape: 0.0391218\tvalid_0's l2: 89290.3\n",
      "[880]\tvalid_0's mape: 0.0391417\tvalid_0's l2: 89331.9\n",
      "[890]\tvalid_0's mape: 0.0391375\tvalid_0's l2: 89275.2\n",
      "[900]\tvalid_0's mape: 0.0391256\tvalid_0's l2: 89050.4\n",
      "[910]\tvalid_0's mape: 0.039087\tvalid_0's l2: 88691\n",
      "[920]\tvalid_0's mape: 0.0390658\tvalid_0's l2: 88354.5\n",
      "[930]\tvalid_0's mape: 0.0390282\tvalid_0's l2: 88198.5\n",
      "[940]\tvalid_0's mape: 0.0390039\tvalid_0's l2: 88051.1\n",
      "[950]\tvalid_0's mape: 0.0389885\tvalid_0's l2: 87595\n",
      "[960]\tvalid_0's mape: 0.0389516\tvalid_0's l2: 87140.6\n",
      "[970]\tvalid_0's mape: 0.0389102\tvalid_0's l2: 87037.4\n",
      "[980]\tvalid_0's mape: 0.0388547\tvalid_0's l2: 86833.7\n",
      "[990]\tvalid_0's mape: 0.0388472\tvalid_0's l2: 86654.6\n",
      "[1000]\tvalid_0's mape: 0.0388425\tvalid_0's l2: 86552.1\n",
      "Did not meet early stopping. Best iteration is:\n",
      "[988]\tvalid_0's mape: 0.0388378\tvalid_0's l2: 86674.3\n"
     ]
    },
    {
     "data": {
      "text/html": [
       "<style>#sk-container-id-1 {color: black;background-color: white;}#sk-container-id-1 pre{padding: 0;}#sk-container-id-1 div.sk-toggleable {background-color: white;}#sk-container-id-1 label.sk-toggleable__label {cursor: pointer;display: block;width: 100%;margin-bottom: 0;padding: 0.3em;box-sizing: border-box;text-align: center;}#sk-container-id-1 label.sk-toggleable__label-arrow:before {content: \"▸\";float: left;margin-right: 0.25em;color: #696969;}#sk-container-id-1 label.sk-toggleable__label-arrow:hover:before {color: black;}#sk-container-id-1 div.sk-estimator:hover label.sk-toggleable__label-arrow:before {color: black;}#sk-container-id-1 div.sk-toggleable__content {max-height: 0;max-width: 0;overflow: hidden;text-align: left;background-color: #f0f8ff;}#sk-container-id-1 div.sk-toggleable__content pre {margin: 0.2em;color: black;border-radius: 0.25em;background-color: #f0f8ff;}#sk-container-id-1 input.sk-toggleable__control:checked~div.sk-toggleable__content {max-height: 200px;max-width: 100%;overflow: auto;}#sk-container-id-1 input.sk-toggleable__control:checked~label.sk-toggleable__label-arrow:before {content: \"▾\";}#sk-container-id-1 div.sk-estimator input.sk-toggleable__control:checked~label.sk-toggleable__label {background-color: #d4ebff;}#sk-container-id-1 div.sk-label input.sk-toggleable__control:checked~label.sk-toggleable__label {background-color: #d4ebff;}#sk-container-id-1 input.sk-hidden--visually {border: 0;clip: rect(1px 1px 1px 1px);clip: rect(1px, 1px, 1px, 1px);height: 1px;margin: -1px;overflow: hidden;padding: 0;position: absolute;width: 1px;}#sk-container-id-1 div.sk-estimator {font-family: monospace;background-color: #f0f8ff;border: 1px dotted black;border-radius: 0.25em;box-sizing: border-box;margin-bottom: 0.5em;}#sk-container-id-1 div.sk-estimator:hover {background-color: #d4ebff;}#sk-container-id-1 div.sk-parallel-item::after {content: \"\";width: 100%;border-bottom: 1px solid gray;flex-grow: 1;}#sk-container-id-1 div.sk-label:hover label.sk-toggleable__label {background-color: #d4ebff;}#sk-container-id-1 div.sk-serial::before {content: \"\";position: absolute;border-left: 1px solid gray;box-sizing: border-box;top: 0;bottom: 0;left: 50%;z-index: 0;}#sk-container-id-1 div.sk-serial {display: flex;flex-direction: column;align-items: center;background-color: white;padding-right: 0.2em;padding-left: 0.2em;position: relative;}#sk-container-id-1 div.sk-item {position: relative;z-index: 1;}#sk-container-id-1 div.sk-parallel {display: flex;align-items: stretch;justify-content: center;background-color: white;position: relative;}#sk-container-id-1 div.sk-item::before, #sk-container-id-1 div.sk-parallel-item::before {content: \"\";position: absolute;border-left: 1px solid gray;box-sizing: border-box;top: 0;bottom: 0;left: 50%;z-index: -1;}#sk-container-id-1 div.sk-parallel-item {display: flex;flex-direction: column;z-index: 1;position: relative;background-color: white;}#sk-container-id-1 div.sk-parallel-item:first-child::after {align-self: flex-end;width: 50%;}#sk-container-id-1 div.sk-parallel-item:last-child::after {align-self: flex-start;width: 50%;}#sk-container-id-1 div.sk-parallel-item:only-child::after {width: 0;}#sk-container-id-1 div.sk-dashed-wrapped {border: 1px dashed gray;margin: 0 0.4em 0.5em 0.4em;box-sizing: border-box;padding-bottom: 0.4em;background-color: white;}#sk-container-id-1 div.sk-label label {font-family: monospace;font-weight: bold;display: inline-block;line-height: 1.2em;}#sk-container-id-1 div.sk-label-container {text-align: center;}#sk-container-id-1 div.sk-container {/* jupyter's `normalize.less` sets `[hidden] { display: none; }` but bootstrap.min.css set `[hidden] { display: none !important; }` so we also need the `!important` here to be able to override the default hidden behavior on the sphinx rendered scikit-learn.org. See: https://github.com/scikit-learn/scikit-learn/issues/21755 */display: inline-block !important;position: relative;}#sk-container-id-1 div.sk-text-repr-fallback {display: none;}</style><div id=\"sk-container-id-1\" class=\"sk-top-container\"><div class=\"sk-text-repr-fallback\"><pre>LGBMRegressor(learning_rate=0.05, n_estimators=1000, objective=&#x27;regression&#x27;)</pre><b>In a Jupyter environment, please rerun this cell to show the HTML representation or trust the notebook. <br />On GitHub, the HTML representation is unable to render, please try loading this page with nbviewer.org.</b></div><div class=\"sk-container\" hidden><div class=\"sk-item\"><div class=\"sk-estimator sk-toggleable\"><input class=\"sk-toggleable__control sk-hidden--visually\" id=\"sk-estimator-id-1\" type=\"checkbox\" checked><label for=\"sk-estimator-id-1\" class=\"sk-toggleable__label sk-toggleable__label-arrow\">LGBMRegressor</label><div class=\"sk-toggleable__content\"><pre>LGBMRegressor(learning_rate=0.05, n_estimators=1000, objective=&#x27;regression&#x27;)</pre></div></div></div></div></div>"
      ],
      "text/plain": [
       "LGBMRegressor(learning_rate=0.05, n_estimators=1000, objective='regression')"
      ]
     },
     "execution_count": 21,
     "metadata": {},
     "output_type": "execute_result"
    }
   ],
   "source": [
    "features_to_use = [col for col in X_train.columns if col != 'id']\n",
    "X_train = X_train[features_to_use]\n",
    "X_val = X_val[features_to_use]\n",
    "\n",
    "lgb_model.fit(X_train, y_train, \n",
    "              eval_set=[(X_val, y_val)], \n",
    "              eval_metric='mape', \n",
    "              callbacks=callbacks)"
   ]
  },
  {
   "cell_type": "markdown",
   "id": "403d0426",
   "metadata": {
    "papermill": {
     "duration": 0.022064,
     "end_time": "2024-07-11T04:50:02.489083",
     "exception": false,
     "start_time": "2024-07-11T04:50:02.467019",
     "status": "completed"
    },
    "tags": []
   },
   "source": [
    "### Calculate MAPE scores"
   ]
  },
  {
   "cell_type": "code",
   "execution_count": 22,
   "id": "52b331e3",
   "metadata": {
    "execution": {
     "iopub.execute_input": "2024-07-11T04:50:02.555477Z",
     "iopub.status.busy": "2024-07-11T04:50:02.554932Z",
     "iopub.status.idle": "2024-07-11T04:50:02.561787Z",
     "shell.execute_reply": "2024-07-11T04:50:02.560415Z"
    },
    "papermill": {
     "duration": 0.04811,
     "end_time": "2024-07-11T04:50:02.565215",
     "exception": false,
     "start_time": "2024-07-11T04:50:02.517105",
     "status": "completed"
    },
    "tags": []
   },
   "outputs": [],
   "source": [
    "def calculate_mape(y_true, y_pred):\n",
    "    return mean_absolute_percentage_error(y_true, y_pred)"
   ]
  },
  {
   "cell_type": "markdown",
   "id": "b3b45041",
   "metadata": {
    "papermill": {
     "duration": 0.029681,
     "end_time": "2024-07-11T04:50:02.619057",
     "exception": false,
     "start_time": "2024-07-11T04:50:02.589376",
     "status": "completed"
    },
    "tags": []
   },
   "source": [
    "### Training MAPE"
   ]
  },
  {
   "cell_type": "code",
   "execution_count": 23,
   "id": "61ad4c9a",
   "metadata": {
    "execution": {
     "iopub.execute_input": "2024-07-11T04:50:02.669374Z",
     "iopub.status.busy": "2024-07-11T04:50:02.668821Z",
     "iopub.status.idle": "2024-07-11T04:50:03.246205Z",
     "shell.execute_reply": "2024-07-11T04:50:03.245025Z"
    },
    "papermill": {
     "duration": 0.606583,
     "end_time": "2024-07-11T04:50:03.249089",
     "exception": false,
     "start_time": "2024-07-11T04:50:02.642506",
     "status": "completed"
    },
    "tags": []
   },
   "outputs": [],
   "source": [
    "train_predictions = lgb_model.predict(X_train)\n",
    "train_mape = calculate_mape(y_train, train_predictions)"
   ]
  },
  {
   "cell_type": "markdown",
   "id": "c2e6267b",
   "metadata": {
    "papermill": {
     "duration": 0.022958,
     "end_time": "2024-07-11T04:50:03.296529",
     "exception": false,
     "start_time": "2024-07-11T04:50:03.273571",
     "status": "completed"
    },
    "tags": []
   },
   "source": [
    "### Align test columns with train columns"
   ]
  },
  {
   "cell_type": "code",
   "execution_count": 24,
   "id": "522ba56e",
   "metadata": {
    "execution": {
     "iopub.execute_input": "2024-07-11T04:50:03.345149Z",
     "iopub.status.busy": "2024-07-11T04:50:03.344764Z",
     "iopub.status.idle": "2024-07-11T04:50:03.353232Z",
     "shell.execute_reply": "2024-07-11T04:50:03.351712Z"
    },
    "papermill": {
     "duration": 0.035574,
     "end_time": "2024-07-11T04:50:03.356050",
     "exception": false,
     "start_time": "2024-07-11T04:50:03.320476",
     "status": "completed"
    },
    "tags": []
   },
   "outputs": [],
   "source": [
    "train_cols = set(X_train.columns)\n",
    "val_cols = set(X_val.columns)\n",
    "test_cols = set(X_test.columns)"
   ]
  },
  {
   "cell_type": "markdown",
   "id": "2b25f1c3",
   "metadata": {
    "papermill": {
     "duration": 0.02286,
     "end_time": "2024-07-11T04:50:03.403142",
     "exception": false,
     "start_time": "2024-07-11T04:50:03.380282",
     "status": "completed"
    },
    "tags": []
   },
   "source": [
    "### Check differences"
   ]
  },
  {
   "cell_type": "code",
   "execution_count": 25,
   "id": "71b861b9",
   "metadata": {
    "execution": {
     "iopub.execute_input": "2024-07-11T04:50:03.450702Z",
     "iopub.status.busy": "2024-07-11T04:50:03.450278Z",
     "iopub.status.idle": "2024-07-11T04:50:03.460682Z",
     "shell.execute_reply": "2024-07-11T04:50:03.459473Z"
    },
    "papermill": {
     "duration": 0.03726,
     "end_time": "2024-07-11T04:50:03.463178",
     "exception": false,
     "start_time": "2024-07-11T04:50:03.425918",
     "status": "completed"
    },
    "tags": []
   },
   "outputs": [
    {
     "name": "stdout",
     "output_type": "stream",
     "text": [
      "Columns missing in X_val compared to X_train: set()\n",
      "Columns missing in X_test compared to X_train: {'id'}\n"
     ]
    }
   ],
   "source": [
    "missing_in_train_val = train_cols - val_cols\n",
    "missing_in_train_test = train_cols - test_cols\n",
    "missing_in_val_train = val_cols - train_cols\n",
    "missing_in_val_test = val_cols - test_cols\n",
    "missing_in_test_train = test_cols - train_cols\n",
    "missing_in_test_val = test_cols - val_cols\n",
    "\n",
    "print(\"Columns missing in X_val compared to X_train:\", missing_in_val_train)\n",
    "print(\"Columns missing in X_test compared to X_train:\", missing_in_test_train)"
   ]
  },
  {
   "cell_type": "code",
   "execution_count": 26,
   "id": "3121f72f",
   "metadata": {
    "execution": {
     "iopub.execute_input": "2024-07-11T04:50:03.511197Z",
     "iopub.status.busy": "2024-07-11T04:50:03.510791Z",
     "iopub.status.idle": "2024-07-11T04:50:03.519602Z",
     "shell.execute_reply": "2024-07-11T04:50:03.518401Z"
    },
    "papermill": {
     "duration": 0.035729,
     "end_time": "2024-07-11T04:50:03.522256",
     "exception": false,
     "start_time": "2024-07-11T04:50:03.486527",
     "status": "completed"
    },
    "tags": []
   },
   "outputs": [],
   "source": [
    "common_columns = list(train_cols.intersection(val_cols).intersection(test_cols))\n",
    "X_test = test[common_columns]"
   ]
  },
  {
   "cell_type": "code",
   "execution_count": 27,
   "id": "ccd3db1a",
   "metadata": {
    "execution": {
     "iopub.execute_input": "2024-07-11T04:50:03.570886Z",
     "iopub.status.busy": "2024-07-11T04:50:03.570425Z",
     "iopub.status.idle": "2024-07-11T04:50:03.578050Z",
     "shell.execute_reply": "2024-07-11T04:50:03.576863Z"
    },
    "papermill": {
     "duration": 0.035322,
     "end_time": "2024-07-11T04:50:03.581399",
     "exception": false,
     "start_time": "2024-07-11T04:50:03.546077",
     "status": "completed"
    },
    "tags": []
   },
   "outputs": [],
   "source": [
    "assert set(X_train.columns) == set(X_test.columns), \"Columns in X_test do not match with X_train and X_val\""
   ]
  },
  {
   "cell_type": "markdown",
   "id": "0c39c278",
   "metadata": {
    "papermill": {
     "duration": 0.022499,
     "end_time": "2024-07-11T04:50:03.632467",
     "exception": false,
     "start_time": "2024-07-11T04:50:03.609968",
     "status": "completed"
    },
    "tags": []
   },
   "source": [
    "### Make predictions"
   ]
  },
  {
   "cell_type": "code",
   "execution_count": 28,
   "id": "dec64d69",
   "metadata": {
    "execution": {
     "iopub.execute_input": "2024-07-11T04:50:03.681232Z",
     "iopub.status.busy": "2024-07-11T04:50:03.680786Z",
     "iopub.status.idle": "2024-07-11T04:50:03.720180Z",
     "shell.execute_reply": "2024-07-11T04:50:03.718975Z"
    },
    "papermill": {
     "duration": 0.067412,
     "end_time": "2024-07-11T04:50:03.723325",
     "exception": false,
     "start_time": "2024-07-11T04:50:03.655913",
     "status": "completed"
    },
    "tags": []
   },
   "outputs": [],
   "source": [
    "predictions = lgb_model.predict(X_test)"
   ]
  },
  {
   "cell_type": "markdown",
   "id": "0299616a",
   "metadata": {
    "papermill": {
     "duration": 0.023047,
     "end_time": "2024-07-11T04:50:03.769768",
     "exception": false,
     "start_time": "2024-07-11T04:50:03.746721",
     "status": "completed"
    },
    "tags": []
   },
   "source": [
    "### Evaluate the model on the validation set"
   ]
  },
  {
   "cell_type": "code",
   "execution_count": 29,
   "id": "05f938f9",
   "metadata": {
    "execution": {
     "iopub.execute_input": "2024-07-11T04:50:03.827775Z",
     "iopub.status.busy": "2024-07-11T04:50:03.827324Z",
     "iopub.status.idle": "2024-07-11T04:50:03.966399Z",
     "shell.execute_reply": "2024-07-11T04:50:03.964910Z"
    },
    "papermill": {
     "duration": 0.171808,
     "end_time": "2024-07-11T04:50:03.969301",
     "exception": false,
     "start_time": "2024-07-11T04:50:03.797493",
     "status": "completed"
    },
    "tags": []
   },
   "outputs": [
    {
     "name": "stdout",
     "output_type": "stream",
     "text": [
      "Mean Absolute Percentage Error on validation set: 0.03883780478904273\n"
     ]
    }
   ],
   "source": [
    "val_predictions = lgb_model.predict(X_val)\n",
    "mape = mean_absolute_percentage_error(y_val, val_predictions)\n",
    "print(f'Mean Absolute Percentage Error on validation set: {mape}')"
   ]
  },
  {
   "cell_type": "markdown",
   "id": "9794169f",
   "metadata": {
    "papermill": {
     "duration": 0.023296,
     "end_time": "2024-07-11T04:50:04.015451",
     "exception": false,
     "start_time": "2024-07-11T04:50:03.992155",
     "status": "completed"
    },
    "tags": []
   },
   "source": [
    "### Submission Preparation"
   ]
  },
  {
   "cell_type": "code",
   "execution_count": 30,
   "id": "315f8692",
   "metadata": {
    "execution": {
     "iopub.execute_input": "2024-07-11T04:50:04.062959Z",
     "iopub.status.busy": "2024-07-11T04:50:04.062494Z",
     "iopub.status.idle": "2024-07-11T04:50:04.077448Z",
     "shell.execute_reply": "2024-07-11T04:50:04.075894Z"
    },
    "papermill": {
     "duration": 0.041801,
     "end_time": "2024-07-11T04:50:04.080230",
     "exception": false,
     "start_time": "2024-07-11T04:50:04.038429",
     "status": "completed"
    },
    "tags": []
   },
   "outputs": [
    {
     "name": "stdout",
     "output_type": "stream",
     "text": [
      "Submission file created!\n",
      "                    ID  ORDERS\n",
      "0  Prague_1_2024-03-16    5314\n",
      "1  Prague_1_2024-03-17    5314\n",
      "2  Prague_1_2024-03-18    6193\n",
      "3  Prague_1_2024-03-19    5314\n",
      "4  Prague_1_2024-03-20    5314\n"
     ]
    }
   ],
   "source": [
    "submission = pd.DataFrame({\n",
    "    'ID': test['id'],  # Assuming 'id' column exists in test set\n",
    "    'ORDERS': predictions.round().astype(int)  # Round predictions to nearest integer\n",
    "})\n",
    "\n",
    "submission.to_csv('submission.csv', index=False)\n",
    "print('Submission file created!')\n",
    "\n",
    "print(submission.head())"
   ]
  },
  {
   "cell_type": "code",
   "execution_count": null,
   "id": "4cf7cdc4",
   "metadata": {
    "papermill": {
     "duration": 0.023698,
     "end_time": "2024-07-11T04:50:04.127496",
     "exception": false,
     "start_time": "2024-07-11T04:50:04.103798",
     "status": "completed"
    },
    "tags": []
   },
   "outputs": [],
   "source": []
  }
 ],
 "metadata": {
  "kaggle": {
   "accelerator": "none",
   "dataSources": [
    {
     "databundleVersionId": 8794587,
     "sourceId": 80874,
     "sourceType": "competition"
    }
   ],
   "dockerImageVersionId": 30732,
   "isGpuEnabled": false,
   "isInternetEnabled": true,
   "language": "python",
   "sourceType": "notebook"
  },
  "kernelspec": {
   "display_name": "Python 3",
   "language": "python",
   "name": "python3"
  },
  "language_info": {
   "codemirror_mode": {
    "name": "ipython",
    "version": 3
   },
   "file_extension": ".py",
   "mimetype": "text/x-python",
   "name": "python",
   "nbconvert_exporter": "python",
   "pygments_lexer": "ipython3",
   "version": "3.10.13"
  },
  "papermill": {
   "default_parameters": {},
   "duration": 54.557125,
   "end_time": "2024-07-11T04:50:04.974035",
   "environment_variables": {},
   "exception": null,
   "input_path": "__notebook__.ipynb",
   "output_path": "__notebook__.ipynb",
   "parameters": {},
   "start_time": "2024-07-11T04:49:10.416910",
   "version": "2.5.0"
  }
 },
 "nbformat": 4,
 "nbformat_minor": 5
}
