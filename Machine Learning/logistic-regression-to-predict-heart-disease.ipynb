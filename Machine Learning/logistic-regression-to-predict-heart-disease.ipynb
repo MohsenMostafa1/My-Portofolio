{
 "cells": [
  {
   "cell_type": "code",
   "execution_count": 1,
   "id": "9ea9ce50",
   "metadata": {
    "_cell_guid": "b1076dfc-b9ad-4769-8c92-a6c4dae69d19",
    "_uuid": "8f2839f25d086af736a60e9eeb907d3b93b6e0e5",
    "execution": {
     "iopub.execute_input": "2024-01-22T13:24:03.895304Z",
     "iopub.status.busy": "2024-01-22T13:24:03.894944Z",
     "iopub.status.idle": "2024-01-22T13:24:05.595354Z",
     "shell.execute_reply": "2024-01-22T13:24:05.594436Z"
    },
    "papermill": {
     "duration": 1.710002,
     "end_time": "2024-01-22T13:24:05.597503",
     "exception": false,
     "start_time": "2024-01-22T13:24:03.887501",
     "status": "completed"
    },
    "tags": []
   },
   "outputs": [
    {
     "name": "stdout",
     "output_type": "stream",
     "text": [
      "/kaggle/input/heart-disease-prediction-using-logistic-regression/framingham.csv\n"
     ]
    }
   ],
   "source": [
    "# This Python 3 environment comes with many helpful analytics libraries installed\n",
    "# It is defined by the kaggle/python Docker image: https://github.com/kaggle/docker-python\n",
    "# For example, here's several helpful packages to load\n",
    "\n",
    "import numpy as np # linear algebra\n",
    "import pandas as pd # data processing, CSV file I/O (e.g. pd.read_csv)\n",
    "from sklearn.model_selection import train_test_split\n",
    "from sklearn.preprocessing import StandardScaler\n",
    "from sklearn.impute import SimpleImputer\n",
    "from sklearn.linear_model import LogisticRegression\n",
    "from sklearn.metrics import accuracy_score, confusion_matrix, classification_report\n",
    "# Input data files are available in the read-only \"../input/\" directory\n",
    "# For example, running this (by clicking run or pressing Shift+Enter) will list all files under the input directory\n",
    "\n",
    "import os\n",
    "for dirname, _, filenames in os.walk('/kaggle/input'):\n",
    "    for filename in filenames:\n",
    "        print(os.path.join(dirname, filename))\n",
    "\n",
    "# You can write up to 20GB to the current directory (/kaggle/working/) that gets preserved as output when you create a version using \"Save & Run All\" \n",
    "# You can also write temporary files to /kaggle/temp/, but they won't be saved outside of the current session"
   ]
  },
  {
   "cell_type": "code",
   "execution_count": 2,
   "id": "1f5529b6",
   "metadata": {
    "execution": {
     "iopub.execute_input": "2024-01-22T13:24:05.610030Z",
     "iopub.status.busy": "2024-01-22T13:24:05.609515Z",
     "iopub.status.idle": "2024-01-22T13:24:05.643174Z",
     "shell.execute_reply": "2024-01-22T13:24:05.642033Z"
    },
    "papermill": {
     "duration": 0.043116,
     "end_time": "2024-01-22T13:24:05.646123",
     "exception": false,
     "start_time": "2024-01-22T13:24:05.603007",
     "status": "completed"
    },
    "tags": []
   },
   "outputs": [],
   "source": [
    "df = pd.read_csv('/kaggle/input/heart-disease-prediction-using-logistic-regression/framingham.csv')"
   ]
  },
  {
   "cell_type": "code",
   "execution_count": 3,
   "id": "b37aa629",
   "metadata": {
    "execution": {
     "iopub.execute_input": "2024-01-22T13:24:05.658647Z",
     "iopub.status.busy": "2024-01-22T13:24:05.658290Z",
     "iopub.status.idle": "2024-01-22T13:24:05.676899Z",
     "shell.execute_reply": "2024-01-22T13:24:05.675242Z"
    },
    "papermill": {
     "duration": 0.02758,
     "end_time": "2024-01-22T13:24:05.679284",
     "exception": false,
     "start_time": "2024-01-22T13:24:05.651704",
     "status": "completed"
    },
    "tags": []
   },
   "outputs": [
    {
     "name": "stdout",
     "output_type": "stream",
     "text": [
      "   male  age  education  currentSmoker  cigsPerDay  BPMeds  prevalentStroke  \\\n",
      "0     1   39        4.0              0         0.0     0.0                0   \n",
      "1     0   46        2.0              0         0.0     0.0                0   \n",
      "2     1   48        1.0              1        20.0     0.0                0   \n",
      "3     0   61        3.0              1        30.0     0.0                0   \n",
      "4     0   46        3.0              1        23.0     0.0                0   \n",
      "\n",
      "   prevalentHyp  diabetes  totChol  sysBP  diaBP    BMI  heartRate  glucose  \\\n",
      "0             0         0    195.0  106.0   70.0  26.97       80.0     77.0   \n",
      "1             0         0    250.0  121.0   81.0  28.73       95.0     76.0   \n",
      "2             0         0    245.0  127.5   80.0  25.34       75.0     70.0   \n",
      "3             1         0    225.0  150.0   95.0  28.58       65.0    103.0   \n",
      "4             0         0    285.0  130.0   84.0  23.10       85.0     85.0   \n",
      "\n",
      "   TenYearCHD  \n",
      "0           0  \n",
      "1           0  \n",
      "2           0  \n",
      "3           1  \n",
      "4           0  \n"
     ]
    }
   ],
   "source": [
    "print(df.head())"
   ]
  },
  {
   "cell_type": "markdown",
   "id": "15d0c534",
   "metadata": {
    "papermill": {
     "duration": 0.005329,
     "end_time": "2024-01-22T13:24:05.690436",
     "exception": false,
     "start_time": "2024-01-22T13:24:05.685107",
     "status": "completed"
    },
    "tags": []
   },
   "source": [
    "# Separate features (X) and target variable (y)"
   ]
  },
  {
   "cell_type": "code",
   "execution_count": 4,
   "id": "f737339f",
   "metadata": {
    "execution": {
     "iopub.execute_input": "2024-01-22T13:24:05.703794Z",
     "iopub.status.busy": "2024-01-22T13:24:05.702849Z",
     "iopub.status.idle": "2024-01-22T13:24:05.714865Z",
     "shell.execute_reply": "2024-01-22T13:24:05.713926Z"
    },
    "papermill": {
     "duration": 0.021273,
     "end_time": "2024-01-22T13:24:05.717240",
     "exception": false,
     "start_time": "2024-01-22T13:24:05.695967",
     "status": "completed"
    },
    "tags": []
   },
   "outputs": [],
   "source": [
    "X = df.drop('TenYearCHD', axis=1)\n",
    "y = df['TenYearCHD']"
   ]
  },
  {
   "cell_type": "markdown",
   "id": "1f769dec",
   "metadata": {
    "papermill": {
     "duration": 0.005228,
     "end_time": "2024-01-22T13:24:05.728009",
     "exception": false,
     "start_time": "2024-01-22T13:24:05.722781",
     "status": "completed"
    },
    "tags": []
   },
   "source": [
    "# Split the data into training and testing sets"
   ]
  },
  {
   "cell_type": "code",
   "execution_count": 5,
   "id": "f32a03dc",
   "metadata": {
    "execution": {
     "iopub.execute_input": "2024-01-22T13:24:05.740579Z",
     "iopub.status.busy": "2024-01-22T13:24:05.740172Z",
     "iopub.status.idle": "2024-01-22T13:24:05.749506Z",
     "shell.execute_reply": "2024-01-22T13:24:05.748461Z"
    },
    "papermill": {
     "duration": 0.018229,
     "end_time": "2024-01-22T13:24:05.751717",
     "exception": false,
     "start_time": "2024-01-22T13:24:05.733488",
     "status": "completed"
    },
    "tags": []
   },
   "outputs": [],
   "source": [
    "X_train, X_test, y_train, y_test = train_test_split(X, y, test_size=0.2, random_state=42)"
   ]
  },
  {
   "cell_type": "markdown",
   "id": "79705e73",
   "metadata": {
    "papermill": {
     "duration": 0.00535,
     "end_time": "2024-01-22T13:24:05.762631",
     "exception": false,
     "start_time": "2024-01-22T13:24:05.757281",
     "status": "completed"
    },
    "tags": []
   },
   "source": [
    "# Impute missing values"
   ]
  },
  {
   "cell_type": "code",
   "execution_count": 6,
   "id": "94691396",
   "metadata": {
    "execution": {
     "iopub.execute_input": "2024-01-22T13:24:05.775285Z",
     "iopub.status.busy": "2024-01-22T13:24:05.774892Z",
     "iopub.status.idle": "2024-01-22T13:24:05.788571Z",
     "shell.execute_reply": "2024-01-22T13:24:05.787818Z"
    },
    "papermill": {
     "duration": 0.023518,
     "end_time": "2024-01-22T13:24:05.791632",
     "exception": false,
     "start_time": "2024-01-22T13:24:05.768114",
     "status": "completed"
    },
    "tags": []
   },
   "outputs": [],
   "source": [
    "imputer = SimpleImputer(strategy='mean')  # You can choose other strategies as well\n",
    "X_train_imputed = imputer.fit_transform(X_train)\n",
    "X_test_imputed = imputer.transform(X_test)"
   ]
  },
  {
   "cell_type": "markdown",
   "id": "3c86459c",
   "metadata": {
    "papermill": {
     "duration": 0.005159,
     "end_time": "2024-01-22T13:24:05.802528",
     "exception": false,
     "start_time": "2024-01-22T13:24:05.797369",
     "status": "completed"
    },
    "tags": []
   },
   "source": [
    "# Standardize the features (optional but recommended for logistic regression)"
   ]
  },
  {
   "cell_type": "code",
   "execution_count": 7,
   "id": "88924788",
   "metadata": {
    "execution": {
     "iopub.execute_input": "2024-01-22T13:24:05.815701Z",
     "iopub.status.busy": "2024-01-22T13:24:05.815322Z",
     "iopub.status.idle": "2024-01-22T13:24:05.821528Z",
     "shell.execute_reply": "2024-01-22T13:24:05.820656Z"
    },
    "papermill": {
     "duration": 0.015395,
     "end_time": "2024-01-22T13:24:05.823580",
     "exception": false,
     "start_time": "2024-01-22T13:24:05.808185",
     "status": "completed"
    },
    "tags": []
   },
   "outputs": [],
   "source": [
    "scaler = StandardScaler()\n",
    "X_train_scaled = scaler.fit_transform(X_train_imputed)\n",
    "X_test_scaled = scaler.transform(X_test_imputed)"
   ]
  },
  {
   "cell_type": "markdown",
   "id": "3e014266",
   "metadata": {
    "papermill": {
     "duration": 0.005066,
     "end_time": "2024-01-22T13:24:05.834145",
     "exception": false,
     "start_time": "2024-01-22T13:24:05.829079",
     "status": "completed"
    },
    "tags": []
   },
   "source": [
    "# Create a logistic regression model"
   ]
  },
  {
   "cell_type": "code",
   "execution_count": 8,
   "id": "f1315c16",
   "metadata": {
    "execution": {
     "iopub.execute_input": "2024-01-22T13:24:05.846278Z",
     "iopub.status.busy": "2024-01-22T13:24:05.845898Z",
     "iopub.status.idle": "2024-01-22T13:24:05.850125Z",
     "shell.execute_reply": "2024-01-22T13:24:05.849178Z"
    },
    "papermill": {
     "duration": 0.0127,
     "end_time": "2024-01-22T13:24:05.852081",
     "exception": false,
     "start_time": "2024-01-22T13:24:05.839381",
     "status": "completed"
    },
    "tags": []
   },
   "outputs": [],
   "source": [
    "model = LogisticRegression(random_state=42)"
   ]
  },
  {
   "cell_type": "markdown",
   "id": "04d6f283",
   "metadata": {
    "papermill": {
     "duration": 0.005332,
     "end_time": "2024-01-22T13:24:05.862904",
     "exception": false,
     "start_time": "2024-01-22T13:24:05.857572",
     "status": "completed"
    },
    "tags": []
   },
   "source": [
    "# Train the model"
   ]
  },
  {
   "cell_type": "code",
   "execution_count": 9,
   "id": "06bd9f84",
   "metadata": {
    "execution": {
     "iopub.execute_input": "2024-01-22T13:24:05.875710Z",
     "iopub.status.busy": "2024-01-22T13:24:05.875345Z",
     "iopub.status.idle": "2024-01-22T13:24:05.911574Z",
     "shell.execute_reply": "2024-01-22T13:24:05.910299Z"
    },
    "papermill": {
     "duration": 0.046878,
     "end_time": "2024-01-22T13:24:05.915206",
     "exception": false,
     "start_time": "2024-01-22T13:24:05.868328",
     "status": "completed"
    },
    "tags": []
   },
   "outputs": [
    {
     "data": {
      "text/html": [
       "<style>#sk-container-id-1 {color: black;background-color: white;}#sk-container-id-1 pre{padding: 0;}#sk-container-id-1 div.sk-toggleable {background-color: white;}#sk-container-id-1 label.sk-toggleable__label {cursor: pointer;display: block;width: 100%;margin-bottom: 0;padding: 0.3em;box-sizing: border-box;text-align: center;}#sk-container-id-1 label.sk-toggleable__label-arrow:before {content: \"▸\";float: left;margin-right: 0.25em;color: #696969;}#sk-container-id-1 label.sk-toggleable__label-arrow:hover:before {color: black;}#sk-container-id-1 div.sk-estimator:hover label.sk-toggleable__label-arrow:before {color: black;}#sk-container-id-1 div.sk-toggleable__content {max-height: 0;max-width: 0;overflow: hidden;text-align: left;background-color: #f0f8ff;}#sk-container-id-1 div.sk-toggleable__content pre {margin: 0.2em;color: black;border-radius: 0.25em;background-color: #f0f8ff;}#sk-container-id-1 input.sk-toggleable__control:checked~div.sk-toggleable__content {max-height: 200px;max-width: 100%;overflow: auto;}#sk-container-id-1 input.sk-toggleable__control:checked~label.sk-toggleable__label-arrow:before {content: \"▾\";}#sk-container-id-1 div.sk-estimator input.sk-toggleable__control:checked~label.sk-toggleable__label {background-color: #d4ebff;}#sk-container-id-1 div.sk-label input.sk-toggleable__control:checked~label.sk-toggleable__label {background-color: #d4ebff;}#sk-container-id-1 input.sk-hidden--visually {border: 0;clip: rect(1px 1px 1px 1px);clip: rect(1px, 1px, 1px, 1px);height: 1px;margin: -1px;overflow: hidden;padding: 0;position: absolute;width: 1px;}#sk-container-id-1 div.sk-estimator {font-family: monospace;background-color: #f0f8ff;border: 1px dotted black;border-radius: 0.25em;box-sizing: border-box;margin-bottom: 0.5em;}#sk-container-id-1 div.sk-estimator:hover {background-color: #d4ebff;}#sk-container-id-1 div.sk-parallel-item::after {content: \"\";width: 100%;border-bottom: 1px solid gray;flex-grow: 1;}#sk-container-id-1 div.sk-label:hover label.sk-toggleable__label {background-color: #d4ebff;}#sk-container-id-1 div.sk-serial::before {content: \"\";position: absolute;border-left: 1px solid gray;box-sizing: border-box;top: 0;bottom: 0;left: 50%;z-index: 0;}#sk-container-id-1 div.sk-serial {display: flex;flex-direction: column;align-items: center;background-color: white;padding-right: 0.2em;padding-left: 0.2em;position: relative;}#sk-container-id-1 div.sk-item {position: relative;z-index: 1;}#sk-container-id-1 div.sk-parallel {display: flex;align-items: stretch;justify-content: center;background-color: white;position: relative;}#sk-container-id-1 div.sk-item::before, #sk-container-id-1 div.sk-parallel-item::before {content: \"\";position: absolute;border-left: 1px solid gray;box-sizing: border-box;top: 0;bottom: 0;left: 50%;z-index: -1;}#sk-container-id-1 div.sk-parallel-item {display: flex;flex-direction: column;z-index: 1;position: relative;background-color: white;}#sk-container-id-1 div.sk-parallel-item:first-child::after {align-self: flex-end;width: 50%;}#sk-container-id-1 div.sk-parallel-item:last-child::after {align-self: flex-start;width: 50%;}#sk-container-id-1 div.sk-parallel-item:only-child::after {width: 0;}#sk-container-id-1 div.sk-dashed-wrapped {border: 1px dashed gray;margin: 0 0.4em 0.5em 0.4em;box-sizing: border-box;padding-bottom: 0.4em;background-color: white;}#sk-container-id-1 div.sk-label label {font-family: monospace;font-weight: bold;display: inline-block;line-height: 1.2em;}#sk-container-id-1 div.sk-label-container {text-align: center;}#sk-container-id-1 div.sk-container {/* jupyter's `normalize.less` sets `[hidden] { display: none; }` but bootstrap.min.css set `[hidden] { display: none !important; }` so we also need the `!important` here to be able to override the default hidden behavior on the sphinx rendered scikit-learn.org. See: https://github.com/scikit-learn/scikit-learn/issues/21755 */display: inline-block !important;position: relative;}#sk-container-id-1 div.sk-text-repr-fallback {display: none;}</style><div id=\"sk-container-id-1\" class=\"sk-top-container\"><div class=\"sk-text-repr-fallback\"><pre>LogisticRegression(random_state=42)</pre><b>In a Jupyter environment, please rerun this cell to show the HTML representation or trust the notebook. <br />On GitHub, the HTML representation is unable to render, please try loading this page with nbviewer.org.</b></div><div class=\"sk-container\" hidden><div class=\"sk-item\"><div class=\"sk-estimator sk-toggleable\"><input class=\"sk-toggleable__control sk-hidden--visually\" id=\"sk-estimator-id-1\" type=\"checkbox\" checked><label for=\"sk-estimator-id-1\" class=\"sk-toggleable__label sk-toggleable__label-arrow\">LogisticRegression</label><div class=\"sk-toggleable__content\"><pre>LogisticRegression(random_state=42)</pre></div></div></div></div></div>"
      ],
      "text/plain": [
       "LogisticRegression(random_state=42)"
      ]
     },
     "execution_count": 9,
     "metadata": {},
     "output_type": "execute_result"
    }
   ],
   "source": [
    "model.fit(X_train_scaled, y_train)"
   ]
  },
  {
   "cell_type": "markdown",
   "id": "c23a1a42",
   "metadata": {
    "papermill": {
     "duration": 0.009936,
     "end_time": "2024-01-22T13:24:05.935741",
     "exception": false,
     "start_time": "2024-01-22T13:24:05.925805",
     "status": "completed"
    },
    "tags": []
   },
   "source": [
    "# Make predictions on the test set"
   ]
  },
  {
   "cell_type": "code",
   "execution_count": 10,
   "id": "bbccd48b",
   "metadata": {
    "execution": {
     "iopub.execute_input": "2024-01-22T13:24:05.960989Z",
     "iopub.status.busy": "2024-01-22T13:24:05.960415Z",
     "iopub.status.idle": "2024-01-22T13:24:05.966767Z",
     "shell.execute_reply": "2024-01-22T13:24:05.965716Z"
    },
    "papermill": {
     "duration": 0.02257,
     "end_time": "2024-01-22T13:24:05.969559",
     "exception": false,
     "start_time": "2024-01-22T13:24:05.946989",
     "status": "completed"
    },
    "tags": []
   },
   "outputs": [],
   "source": [
    "y_pred = model.predict(X_test_scaled)"
   ]
  },
  {
   "cell_type": "markdown",
   "id": "e7e544c4",
   "metadata": {
    "papermill": {
     "duration": 0.008963,
     "end_time": "2024-01-22T13:24:05.988024",
     "exception": false,
     "start_time": "2024-01-22T13:24:05.979061",
     "status": "completed"
    },
    "tags": []
   },
   "source": [
    "# Evaluate the model"
   ]
  },
  {
   "cell_type": "code",
   "execution_count": 11,
   "id": "5ffb0ef4",
   "metadata": {
    "execution": {
     "iopub.execute_input": "2024-01-22T13:24:06.009564Z",
     "iopub.status.busy": "2024-01-22T13:24:06.008807Z",
     "iopub.status.idle": "2024-01-22T13:24:06.031321Z",
     "shell.execute_reply": "2024-01-22T13:24:06.030120Z"
    },
    "papermill": {
     "duration": 0.036946,
     "end_time": "2024-01-22T13:24:06.034492",
     "exception": false,
     "start_time": "2024-01-22T13:24:05.997546",
     "status": "completed"
    },
    "tags": []
   },
   "outputs": [],
   "source": [
    "accuracy = accuracy_score(y_test, y_pred)\n",
    "conf_matrix = confusion_matrix(y_test, y_pred)\n",
    "classification_rep = classification_report(y_test, y_pred)"
   ]
  },
  {
   "cell_type": "markdown",
   "id": "38b3c8e3",
   "metadata": {
    "papermill": {
     "duration": 0.00926,
     "end_time": "2024-01-22T13:24:06.053666",
     "exception": false,
     "start_time": "2024-01-22T13:24:06.044406",
     "status": "completed"
    },
    "tags": []
   },
   "source": [
    "# Display the evaluation metrics"
   ]
  },
  {
   "cell_type": "code",
   "execution_count": 12,
   "id": "329b9f42",
   "metadata": {
    "execution": {
     "iopub.execute_input": "2024-01-22T13:24:06.076201Z",
     "iopub.status.busy": "2024-01-22T13:24:06.075648Z",
     "iopub.status.idle": "2024-01-22T13:24:06.087642Z",
     "shell.execute_reply": "2024-01-22T13:24:06.086712Z"
    },
    "papermill": {
     "duration": 0.026719,
     "end_time": "2024-01-22T13:24:06.090118",
     "exception": false,
     "start_time": "2024-01-22T13:24:06.063399",
     "status": "completed"
    },
    "tags": []
   },
   "outputs": [
    {
     "name": "stdout",
     "output_type": "stream",
     "text": [
      "Accuracy: 0.8573113207547169\n",
      "Confusion Matrix:\n",
      "[[718   6]\n",
      " [115   9]]\n",
      "Classification Report:\n",
      "              precision    recall  f1-score   support\n",
      "\n",
      "           0       0.86      0.99      0.92       724\n",
      "           1       0.60      0.07      0.13       124\n",
      "\n",
      "    accuracy                           0.86       848\n",
      "   macro avg       0.73      0.53      0.53       848\n",
      "weighted avg       0.82      0.86      0.81       848\n",
      "\n"
     ]
    }
   ],
   "source": [
    "print(f'Accuracy: {accuracy}')\n",
    "print('Confusion Matrix:')\n",
    "print(conf_matrix)\n",
    "print('Classification Report:')\n",
    "print(classification_rep)"
   ]
  },
  {
   "cell_type": "markdown",
   "id": "8183c173",
   "metadata": {
    "papermill": {
     "duration": 0.005474,
     "end_time": "2024-01-22T13:24:06.101574",
     "exception": false,
     "start_time": "2024-01-22T13:24:06.096100",
     "status": "completed"
    },
    "tags": []
   },
   "source": [
    "# Plot Confusion Matrix"
   ]
  },
  {
   "cell_type": "code",
   "execution_count": 13,
   "id": "74442086",
   "metadata": {
    "execution": {
     "iopub.execute_input": "2024-01-22T13:24:06.115241Z",
     "iopub.status.busy": "2024-01-22T13:24:06.114017Z",
     "iopub.status.idle": "2024-01-22T13:24:06.505127Z",
     "shell.execute_reply": "2024-01-22T13:24:06.504124Z"
    },
    "papermill": {
     "duration": 0.400212,
     "end_time": "2024-01-22T13:24:06.507404",
     "exception": false,
     "start_time": "2024-01-22T13:24:06.107192",
     "status": "completed"
    },
    "tags": []
   },
   "outputs": [
    {
     "data": {
      "image/png": "[encoded data removed]",
      "text/plain": [
       "<Figure size 640x480 with 2 Axes>"
      ]
     },
     "metadata": {},
     "output_type": "display_data"
    }
   ],
   "source": [
    "import matplotlib.pyplot as plt\n",
    "from sklearn.metrics import confusion_matrix, roc_curve, auc\n",
    "\n",
    "conf_matrix = confusion_matrix(y_test, y_pred)\n",
    "plt.imshow(conf_matrix, interpolation='nearest', cmap=plt.cm.Blues)\n",
    "plt.title('Confusion Matrix')\n",
    "plt.colorbar()\n",
    "plt.xlabel('Predicted Label')\n",
    "plt.ylabel('True Label')\n",
    "plt.show()"
   ]
  },
  {
   "cell_type": "markdown",
   "id": "65d1d388",
   "metadata": {
    "papermill": {
     "duration": 0.006055,
     "end_time": "2024-01-22T13:24:06.519771",
     "exception": false,
     "start_time": "2024-01-22T13:24:06.513716",
     "status": "completed"
    },
    "tags": []
   },
   "source": [
    "# Plot ROC Curve"
   ]
  },
  {
   "cell_type": "code",
   "execution_count": 14,
   "id": "c2b79bbb",
   "metadata": {
    "execution": {
     "iopub.execute_input": "2024-01-22T13:24:06.533493Z",
     "iopub.status.busy": "2024-01-22T13:24:06.533136Z",
     "iopub.status.idle": "2024-01-22T13:24:06.801585Z",
     "shell.execute_reply": "2024-01-22T13:24:06.800520Z"
    },
    "papermill": {
     "duration": 0.278239,
     "end_time": "2024-01-22T13:24:06.804106",
     "exception": false,
     "start_time": "2024-01-22T13:24:06.525867",
     "status": "completed"
    },
    "tags": []
   },
   "outputs": [
    {
     "data": {
      "image/png": "[encoded data removed]",
      "text/plain": [
       "<Figure size 640x480 with 1 Axes>"
      ]
     },
     "metadata": {},
     "output_type": "display_data"
    }
   ],
   "source": [
    "fpr, tpr, thresholds = roc_curve(y_test, model.predict_proba(X_test_scaled)[:, 1])\n",
    "roc_auc = auc(fpr, tpr)\n",
    "\n",
    "plt.figure()\n",
    "plt.plot(fpr, tpr, color='darkorange', lw=2, label=f'ROC curve (area = {roc_auc:.2f})')\n",
    "plt.plot([0, 1], [0, 1], color='navy', lw=2, linestyle='--')\n",
    "plt.xlim([0.0, 1.0])\n",
    "plt.ylim([0.0, 1.05])\n",
    "plt.xlabel('False Positive Rate')\n",
    "plt.ylabel('True Positive Rate')\n",
    "plt.title('Receiver Operating Characteristic (ROC) Curve')\n",
    "plt.legend(loc='lower right')\n",
    "plt.show()\n"
   ]
  }
 ],
 "metadata": {
  "kaggle": {
   "accelerator": "none",
   "dataSources": [
    {
     "datasetId": 222487,
     "sourceId": 478477,
     "sourceType": "datasetVersion"
    }
   ],
   "dockerImageVersionId": 30635,
   "isGpuEnabled": false,
   "isInternetEnabled": true,
   "language": "python",
   "sourceType": "notebook"
  },
  "kernelspec": {
   "display_name": "Python 3",
   "language": "python",
   "name": "python3"
  },
  "language_info": {
   "codemirror_mode": {
    "name": "ipython",
    "version": 3
   },
   "file_extension": ".py",
   "mimetype": "text/x-python",
   "name": "python",
   "nbconvert_exporter": "python",
   "pygments_lexer": "ipython3",
   "version": "3.10.12"
  },
  "papermill": {
   "default_parameters": {},
   "duration": 6.477222,
   "end_time": "2024-01-22T13:24:07.431706",
   "environment_variables": {},
   "exception": null,
   "input_path": "__notebook__.ipynb",
   "output_path": "__notebook__.ipynb",
   "parameters": {},
   "start_time": "2024-01-22T13:24:00.954484",
   "version": "2.4.0"
  }
 },
 "nbformat": 4,
 "nbformat_minor": 5
}
